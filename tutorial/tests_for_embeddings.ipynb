{
 "cells": [
  {
   "cell_type": "markdown",
   "id": "e81163a0",
   "metadata": {},
   "source": [
    "## Some tests for embeddings"
   ]
  },
  {
   "cell_type": "code",
   "execution_count": 1,
   "id": "3d64cb7f",
   "metadata": {},
   "outputs": [
    {
     "name": "stderr",
     "output_type": "stream",
     "text": [
      "2022-03-04 14:34:52.841142: W tensorflow/stream_executor/platform/default/dso_loader.cc:64] Could not load dynamic library 'libcudart.so.11.0'; dlerror: libcudart.so.11.0: cannot open shared object file: No such file or directory\n",
      "2022-03-04 14:34:52.841161: I tensorflow/stream_executor/cuda/cudart_stub.cc:29] Ignore above cudart dlerror if you do not have a GPU set up on your machine.\n"
     ]
    }
   ],
   "source": [
    "from relatio._embeddings import Embeddings"
   ]
  },
  {
   "cell_type": "code",
   "execution_count": 2,
   "id": "b1dfb5ad",
   "metadata": {
    "scrolled": true
   },
   "outputs": [],
   "source": [
    "model = Embeddings(\"Gensim_pretrained\", \"glove-twitter-25\")"
   ]
  },
  {
   "cell_type": "code",
   "execution_count": 3,
   "id": "acc51cc7",
   "metadata": {},
   "outputs": [
    {
     "data": {
      "text/plain": [
       "array([-0.07471786,  0.02505993,  0.02053264, -0.02447855, -0.06980739,\n",
       "       -0.06906321,  0.41509545,  0.14673875, -0.11010275, -0.00789614,\n",
       "       -0.05643118,  0.02131934, -0.8449067 ,  0.03017564, -0.067238  ,\n",
       "       -0.05375415,  0.03251113, -0.07668394, -0.02830008,  0.08461264,\n",
       "       -0.08671761, -0.11458462, -0.12194471, -0.01001229, -0.02754919],\n",
       "      dtype=float32)"
      ]
     },
     "execution_count": 3,
     "metadata": {},
     "output_type": "execute_result"
    }
   ],
   "source": [
    "model.get_vector('hello world')"
   ]
  },
  {
   "cell_type": "code",
   "execution_count": 4,
   "id": "8cbe8513",
   "metadata": {},
   "outputs": [
    {
     "name": "stderr",
     "output_type": "stream",
     "text": [
      "/home/germain/Desktop/narratives/relatio/relatio/_embeddings.py:281: RuntimeWarning: No vector for token: flkdsjfq. It is not used to compute the embedding of: flkdsjfq hello.\n",
      "  RuntimeWarning,\n"
     ]
    },
    {
     "data": {
      "text/plain": [
       "array([-0.18157847,  0.03022106,  0.07807245,  0.00119906, -0.11215979,\n",
       "       -0.11807584,  0.4377542 ,  0.25030681, -0.13314278,  0.03140144,\n",
       "       -0.09876093, -0.03344414, -0.67277026, -0.13460353, -0.03161349,\n",
       "       -0.10583851,  0.11448286, -0.15264852, -0.19846898,  0.14529528,\n",
       "       -0.04670635, -0.1365732 , -0.1552284 ,  0.1034966 , -0.11891694],\n",
       "      dtype=float32)"
      ]
     },
     "execution_count": 4,
     "metadata": {},
     "output_type": "execute_result"
    }
   ],
   "source": [
    "model.get_vector(\"flkdsjfq hello\")"
   ]
  },
  {
   "cell_type": "code",
   "execution_count": 5,
   "id": "4bb1d0c8",
   "metadata": {},
   "outputs": [
    {
     "name": "stderr",
     "output_type": "stream",
     "text": [
      "/home/germain/Desktop/narratives/relatio/relatio/_embeddings.py:281: RuntimeWarning: No vector for token: flkdsjfq. It is not used to compute the embedding of: flkdsjfq.\n",
      "  RuntimeWarning,\n",
      "/home/germain/Desktop/narratives/relatio/.tox/dev/lib/python3.7/site-packages/numpy/core/fromnumeric.py:3441: RuntimeWarning: Mean of empty slice.\n",
      "  out=out, **kwargs)\n",
      "/home/germain/Desktop/narratives/relatio/.tox/dev/lib/python3.7/site-packages/numpy/core/_methods.py:189: RuntimeWarning: invalid value encountered in double_scalars\n",
      "  ret = ret.dtype.type(ret / rcount)\n",
      "/home/germain/Desktop/narratives/relatio/relatio/_embeddings.py:132: RuntimeWarning: Unable to compute an embedding for phrase: flkdsjfq.\n",
      "  f\"Unable to compute an embedding for phrase: {phrase}.\", RuntimeWarning\n"
     ]
    },
    {
     "data": {
      "text/plain": [
       "array([nan, nan, nan, nan, nan, nan, nan, nan, nan, nan, nan, nan, nan,\n",
       "       nan, nan, nan, nan, nan, nan, nan, nan, nan, nan, nan, nan])"
      ]
     },
     "execution_count": 5,
     "metadata": {},
     "output_type": "execute_result"
    }
   ],
   "source": [
    "model.get_vector(\"flkdsjfq\")"
   ]
  },
  {
   "cell_type": "code",
   "execution_count": 10,
   "id": "c6b11998",
   "metadata": {},
   "outputs": [
    {
     "data": {
      "text/plain": [
       "(array([1]), array([2]))"
      ]
     },
     "execution_count": 10,
     "metadata": {},
     "output_type": "execute_result"
    }
   ],
   "source": [
    "a = model._get_vectors([\"flkdsjfq\", \"flkdsjfq hello\"])\n",
    "b = model._get_vectors([\"hello world\", \"world\", \"hello\"])\n",
    "from relatio._embeddings import _embeddings_similarity\n",
    "_embeddings_similarity(a, b, threshold = 100)"
   ]
  },
  {
   "cell_type": "code",
   "execution_count": null,
   "id": "a2a6dee2",
   "metadata": {},
   "outputs": [],
   "source": [
    "model = Embeddings(\"Gensim_pretrained\", \"glove-twitter-25\", sentences = [\"this is a nice world\",\"hello world\",\"hello everybody\"])"
   ]
  },
  {
   "cell_type": "code",
   "execution_count": null,
   "id": "14d5ed83",
   "metadata": {},
   "outputs": [],
   "source": [
    "model.get_vector('hello world')"
   ]
  },
  {
   "cell_type": "code",
   "execution_count": null,
   "id": "4302b964",
   "metadata": {},
   "outputs": [],
   "source": [
    "model.get_vector(\"flkdsjfq hello\")"
   ]
  },
  {
   "cell_type": "code",
   "execution_count": null,
   "id": "619b6190",
   "metadata": {},
   "outputs": [],
   "source": [
    "model.get_vector(\"flkdsjfq lkdsjfqlkdsjfq\")"
   ]
  },
  {
   "cell_type": "code",
   "execution_count": null,
   "id": "5c7fc9a9",
   "metadata": {},
   "outputs": [],
   "source": [
    "model = Embeddings(\"spaCy\", \"en_core_web_md\")"
   ]
  },
  {
   "cell_type": "code",
   "execution_count": null,
   "id": "620f27bc",
   "metadata": {
    "scrolled": true
   },
   "outputs": [],
   "source": [
    "model.get_vector('hello world')"
   ]
  },
  {
   "cell_type": "code",
   "execution_count": null,
   "id": "79644010",
   "metadata": {
    "scrolled": true
   },
   "outputs": [],
   "source": [
    "model.get_vector('hello')"
   ]
  },
  {
   "cell_type": "code",
   "execution_count": null,
   "id": "3f0ee111",
   "metadata": {
    "scrolled": true
   },
   "outputs": [],
   "source": [
    "model.get_vector(\"flkdsjfq hello\")"
   ]
  },
  {
   "cell_type": "code",
   "execution_count": null,
   "id": "b863483a",
   "metadata": {},
   "outputs": [],
   "source": [
    "model.get_vector(\"flkdsjfq lkdsjfqlkdsjfq\")"
   ]
  },
  {
   "cell_type": "code",
   "execution_count": null,
   "id": "80cd22d0",
   "metadata": {},
   "outputs": [],
   "source": [
    "model = Embeddings(\"TensorFlow_USE\",\"https://tfhub.dev/google/universal-sentence-encoder/4\")"
   ]
  },
  {
   "cell_type": "code",
   "execution_count": null,
   "id": "c7147858",
   "metadata": {},
   "outputs": [],
   "source": [
    "model.get_vector('hello world')"
   ]
  },
  {
   "cell_type": "code",
   "execution_count": null,
   "id": "3c90ba8f",
   "metadata": {},
   "outputs": [],
   "source": [
    "model.get_vector(\"flkdsjfq hello\")"
   ]
  },
  {
   "cell_type": "code",
   "execution_count": null,
   "id": "8d5ddba6",
   "metadata": {},
   "outputs": [],
   "source": [
    "model.get_vector(\"flkdsjfq lkdsjfqlkdsjfq\")"
   ]
  },
  {
   "cell_type": "code",
   "execution_count": 3,
   "id": "17bbbd89",
   "metadata": {},
   "outputs": [
    {
     "name": "stdout",
     "output_type": "stream",
     "text": [
      "(4, 300)\n",
      "(2, 300)\n",
      "[[       nan        nan        nan ...        nan        nan        nan]\n",
      " [       nan        nan        nan ...        nan        nan        nan]\n",
      " [0.38223019 0.83744666 0.17712861 ... 0.66332494 0.45095805 0.50902262]\n",
      " [0.51825497 0.73710419 0.45378035 ... 0.32435985 0.54707058 0.30382198]]\n",
      "[[7.69026084e-01 4.84011283e-01 5.78765504e-03 7.37359465e-01\n",
      "  9.79806170e-01 7.26996453e-01 3.47093340e-02 7.06715550e-01\n",
      "  7.54931508e-01 5.53037086e-01 4.32666555e-01 8.94936733e-01\n",
      "  2.96012921e-01 7.17418203e-01 7.38592093e-02 2.69897544e-01\n",
      "  6.06340557e-01 1.56692678e-02 1.47145772e-01 3.53841798e-01\n",
      "  7.06288542e-01 8.78248421e-01 7.23566149e-01 8.84738458e-01\n",
      "  7.37433885e-01 3.72437647e-01 3.57511102e-01 1.34984227e-02\n",
      "  8.95509762e-01 4.27967084e-02 4.43715593e-01 5.93427467e-01\n",
      "  1.44761663e-01 2.80550381e-01 6.18687108e-01 2.15366073e-01\n",
      "  4.88360962e-01 9.11391265e-02 1.66313414e-01 3.63594225e-01\n",
      "  8.60522690e-01 6.25025013e-01 3.95078392e-01 4.96407478e-01\n",
      "  8.45277018e-01 5.07865631e-01 4.28681360e-01 4.97433229e-01\n",
      "  8.32460843e-02 7.54171466e-01 4.96467410e-01 8.20308841e-01\n",
      "  6.70127518e-01 8.76881089e-01 4.29337742e-01 9.71265306e-01\n",
      "  5.55323719e-01 6.83554692e-01 3.18749982e-01 2.52737904e-01\n",
      "  7.07365366e-02 9.41596129e-01 8.76436395e-01 6.38034888e-01\n",
      "  5.03222398e-01 2.00884573e-02 4.58839697e-01 5.97951804e-01\n",
      "  4.89187181e-01 2.25912144e-02 8.85715934e-01 9.99488808e-02\n",
      "  4.55532926e-01 4.34993449e-01 7.12279548e-01 6.22249205e-02\n",
      "  6.73169441e-01 4.61765410e-02 9.89578182e-01 8.39066520e-01\n",
      "  7.29501716e-01 2.23691979e-01 3.77328591e-01 3.69894536e-01\n",
      "  5.66576098e-01 1.63003647e-01 6.75663837e-01 7.69879229e-01\n",
      "  5.60988412e-01 4.30741903e-01 3.45172763e-01 5.46666169e-01\n",
      "  8.41217599e-01 7.35181255e-02 4.05155151e-01 9.91022078e-01\n",
      "  8.85000864e-01 7.21916991e-01 3.22040392e-01 2.92807546e-01\n",
      "  3.96982691e-01 2.94578831e-01 8.60373590e-01 9.61430498e-01\n",
      "  1.13494633e-01 7.95476738e-01 6.21182583e-01 1.33632580e-02\n",
      "  1.52814886e-01 5.61339004e-02 5.77303968e-01 7.46618032e-01\n",
      "  4.86934634e-01 3.18391006e-01 8.05255225e-01 5.12264088e-04\n",
      "  2.36691934e-01 3.23819214e-01 7.78158479e-02 7.20126978e-01\n",
      "  5.95964606e-01 7.19501594e-01 5.29459976e-01 8.75023363e-01\n",
      "  2.92640465e-01 9.01974194e-01 9.93180932e-01 5.56323452e-01\n",
      "  7.48620346e-01 3.87277138e-02 6.99217083e-01 2.47801788e-02\n",
      "  4.44925433e-01 5.22116041e-01 6.14643588e-01 1.80003868e-01\n",
      "  3.09586475e-01 3.87457615e-02 4.21424714e-01 5.85634706e-01\n",
      "  1.58761422e-01 8.50291958e-01 6.64687421e-01 9.52613219e-01\n",
      "  3.01283441e-02 2.32289796e-01 9.53792972e-01 7.84388128e-01\n",
      "  8.26947341e-01 7.09230919e-01 6.56996903e-02 1.72576196e-01\n",
      "  6.05724312e-01 4.46419770e-01 2.01681113e-01 2.01892266e-01\n",
      "  5.29327737e-01 2.23962096e-01 8.26668342e-01 6.02883971e-02\n",
      "  5.62881832e-02 6.07710065e-01 6.10683845e-01 8.03451812e-01\n",
      "  1.08124969e-01 3.01829475e-01 1.29352536e-01 3.39440159e-01\n",
      "  4.57207180e-01 6.35182405e-02 4.19384946e-01 4.15481851e-01\n",
      "  2.43430887e-01 4.19260747e-01 7.97730090e-01 4.36001199e-01\n",
      "  7.41774425e-01 4.99336516e-01 7.74982133e-01 6.44701637e-02\n",
      "  2.18673822e-01 7.33125781e-01 3.16592268e-01 7.31691918e-01\n",
      "  4.35143772e-01 6.46312905e-01 6.27315208e-01 1.71382010e-01\n",
      "  7.80235806e-01 2.36431604e-01 7.36416781e-01 1.68653165e-01\n",
      "  1.17129559e-01 2.59766314e-01 7.87844849e-01 1.36354318e-01\n",
      "  3.77846052e-01 4.30118827e-01 2.76071042e-01 8.36406523e-01\n",
      "  6.46300892e-01 3.62546328e-01 6.55046176e-01 9.40661264e-01\n",
      "  5.44811462e-02 6.12016518e-01 9.77789577e-01 2.43851459e-01\n",
      "  7.17982930e-01 2.51257452e-01 5.31593324e-01 3.21269230e-01\n",
      "  6.80711880e-01 8.90876051e-01 1.69544193e-03 9.47271151e-02\n",
      "  8.67089496e-01 5.49329196e-01 7.97403334e-01 7.91914775e-01\n",
      "  6.62079083e-01 9.36199571e-01 2.86383860e-01 6.92456630e-03\n",
      "  6.17657757e-01 2.02993692e-02 9.01171615e-01 2.59212265e-01\n",
      "  1.11452694e-01 4.79112133e-01 6.41827111e-01 1.51726091e-01\n",
      "  8.19475781e-01 9.09973053e-01 4.62411271e-01 8.36254751e-01\n",
      "  7.65963552e-01 6.69164721e-01 4.01737926e-01 3.23217755e-01\n",
      "  2.96887425e-01 4.03375129e-01 2.37689433e-01 6.13514507e-02\n",
      "  5.68670456e-01 5.86299009e-01 4.99750012e-01 2.00998442e-01\n",
      "  4.17572945e-01 7.73508054e-01 6.56999726e-01 5.07733420e-01\n",
      "  3.61914173e-01 6.79344990e-01 3.56543929e-01 9.48837496e-01\n",
      "  2.57949388e-01 2.17504895e-01 3.62753285e-01 2.30078914e-01\n",
      "  1.61973928e-01 6.97292375e-01 7.44403821e-01 1.16135853e-01\n",
      "  9.30922963e-01 1.42925008e-01 6.91165802e-01 7.49983408e-01\n",
      "  9.93933377e-01 4.29435978e-01 6.59731089e-01 8.25795918e-02\n",
      "  9.22830153e-01 3.15720792e-02 2.75504612e-01 2.42877834e-01\n",
      "  6.04436717e-01 7.13903385e-01 3.33049627e-01 8.41524431e-01\n",
      "  9.48623415e-01 6.87712181e-02 8.90599082e-01 2.43963269e-01\n",
      "  5.45125178e-01 6.72122800e-01 3.80439203e-01 8.45416567e-02\n",
      "  3.60537744e-01 3.81754735e-01 2.77230498e-01 1.49001059e-01\n",
      "  7.72986681e-02 3.32356210e-01 4.57663137e-02 1.38208284e-01\n",
      "  3.27841119e-01 4.95483192e-01 6.68205119e-01 7.93080759e-01]\n",
      " [8.01107694e-01 3.05996047e-01 2.14636725e-02 7.48206392e-01\n",
      "  2.93273394e-01 1.59859814e-01 7.22541877e-01 8.22276114e-01\n",
      "  9.89379393e-01 8.17857034e-01 8.52812338e-01 9.62337566e-01\n",
      "  2.31982789e-01 5.64575126e-01 6.98843815e-01 3.87553336e-02\n",
      "  9.70076919e-01 5.93967219e-01 3.64673138e-02 7.46634810e-01\n",
      "  8.01731193e-01 6.04762034e-01 8.62732868e-01 2.57431542e-01\n",
      "  5.18236475e-01 6.33462971e-01 2.90689133e-01 9.39099952e-01\n",
      "  9.40818997e-01 4.44256706e-01 4.50919968e-01 8.42833780e-01\n",
      "  1.63554261e-01 9.79993259e-01 5.24876532e-01 1.54027576e-01\n",
      "  9.29681244e-01 6.12466465e-01 2.54051695e-01 7.49548454e-01\n",
      "  8.58389767e-01 2.71045528e-01 6.96398537e-01 9.31986808e-01\n",
      "  2.35582670e-02 2.68898697e-03 8.84665555e-01 9.06655209e-01\n",
      "  5.38334172e-01 5.94188943e-02 2.69047753e-02 8.28963162e-01\n",
      "  1.12597388e-01 4.37592117e-01 4.42370372e-01 2.86300378e-01\n",
      "  5.13191071e-01 9.41012405e-01 8.47588755e-01 8.02546364e-01\n",
      "  8.21892589e-01 8.17512914e-01 9.51112421e-01 6.33877928e-02\n",
      "  6.11610425e-02 9.92608392e-01 2.81647949e-01 1.91674641e-01\n",
      "  7.01561071e-01 8.79194853e-02 6.14224654e-02 1.68909032e-01\n",
      "  4.19042797e-01 4.86239453e-01 6.83331723e-01 9.50828471e-02\n",
      "  3.17679344e-02 8.13059278e-01 8.05323591e-01 7.09160262e-01\n",
      "  5.06269488e-01 2.02462700e-01 5.01009467e-01 5.85750973e-01\n",
      "  2.30628137e-01 3.61945456e-01 2.65001562e-01 7.18511112e-02\n",
      "  9.80802124e-01 2.73462345e-01 3.05450424e-01 5.78111948e-01\n",
      "  4.44777268e-01 7.07989746e-01 2.21563542e-01 7.96047630e-02\n",
      "  2.23682029e-01 5.12362037e-01 6.37593189e-01 9.80335791e-01\n",
      "  4.52119511e-01 3.90416259e-01 9.05017778e-01 2.79228019e-01\n",
      "  8.16550676e-01 9.56386987e-01 8.76102351e-01 1.47538486e-01\n",
      "  6.04670435e-01 5.30922843e-01 9.23815374e-01 3.25364940e-01\n",
      "  4.85910302e-01 7.74753529e-01 4.58497897e-01 3.93375365e-02\n",
      "  6.60727585e-01 2.11277029e-01 4.76340881e-01 7.03010849e-01\n",
      "  4.11181497e-01 5.19195683e-01 8.02040969e-01 4.14763889e-01\n",
      "  7.38522006e-01 7.57593433e-01 3.80385521e-01 2.77079441e-01\n",
      "  5.93757333e-01 3.96688669e-01 5.66758052e-01 6.64921050e-01\n",
      "  3.35207578e-02 7.23544119e-02 8.23572161e-01 1.68513598e-01\n",
      "  6.08040088e-01 7.78350895e-01 6.69823142e-01 6.35091255e-02\n",
      "  1.86754280e-01 3.64046360e-02 6.47400165e-01 8.24307139e-01\n",
      "  6.02721243e-01 3.15382708e-01 7.70291717e-01 5.86784575e-01\n",
      "  7.39269858e-01 3.18320246e-01 1.07561431e-02 6.72082396e-02\n",
      "  2.18629106e-01 2.88247403e-01 7.27029437e-02 9.12873081e-01\n",
      "  3.77420201e-01 8.64387056e-01 9.31481612e-01 1.78160421e-01\n",
      "  1.19177361e-01 3.01811625e-01 2.76786341e-01 1.26118128e-01\n",
      "  4.35317097e-01 7.90916467e-01 7.30283223e-01 4.38461723e-01\n",
      "  1.58439288e-01 2.72934701e-01 9.36424528e-01 4.68393380e-01\n",
      "  2.42148147e-01 3.45579964e-01 4.26970178e-02 2.32678871e-01\n",
      "  7.05375507e-01 4.25781593e-01 5.43568360e-01 5.19506039e-01\n",
      "  7.79295502e-01 6.53203099e-01 5.68427464e-01 7.89779741e-01\n",
      "  6.95962603e-01 1.65593306e-01 2.31769901e-01 1.78163327e-01\n",
      "  7.75789169e-01 4.05118787e-01 4.76437100e-01 3.56384598e-01\n",
      "  4.00177430e-01 9.37742078e-01 2.26347880e-01 8.26387528e-01\n",
      "  8.53878167e-02 8.93109238e-01 7.63616171e-01 9.46908323e-01\n",
      "  6.59514187e-01 5.44751195e-01 5.95121055e-01 3.56648467e-01\n",
      "  2.08867644e-01 4.51075276e-01 5.72190178e-01 1.49083200e-01\n",
      "  4.15438962e-01 8.24253001e-01 8.78921661e-01 1.33589155e-01\n",
      "  1.91419553e-01 2.23047848e-01 8.43731198e-01 8.61600835e-01\n",
      "  9.99924695e-01 9.62991687e-01 8.33308427e-02 3.36489005e-01\n",
      "  6.59532123e-01 3.88316065e-01 1.35448581e-01 5.03566419e-01\n",
      "  1.15910253e-01 1.05217692e-01 8.82117275e-01 1.03890314e-01\n",
      "  3.86751090e-01 7.34222359e-01 6.31134788e-01 3.34097806e-01\n",
      "  7.56775290e-01 5.82365421e-01 4.98535279e-01 9.29860010e-01\n",
      "  2.60211181e-01 9.76484795e-01 8.77916965e-01 1.72648637e-01\n",
      "  1.60543737e-01 5.17060164e-01 8.04362496e-01 9.37315851e-01\n",
      "  4.36841640e-01 1.25972157e-01 4.18511423e-02 2.95713109e-02\n",
      "  2.46666990e-01 7.57667813e-01 6.43435065e-01 5.32156762e-01\n",
      "  6.47842247e-01 9.03079845e-01 1.12317953e-01 9.48034997e-01\n",
      "  1.90506926e-01 6.61046049e-01 7.67226577e-01 3.79847121e-01\n",
      "  5.97649507e-01 7.15033748e-01 9.19555990e-01 8.42394726e-01\n",
      "  1.45585052e-02 1.46839642e-01 4.07759143e-01 1.11496814e-01\n",
      "  7.87701324e-01 7.90472924e-01 8.11412881e-01 5.47512213e-01\n",
      "  4.93412855e-01 2.37630347e-01 9.76073089e-01 7.53492109e-01\n",
      "  2.26026471e-01 4.09772011e-01 3.43595804e-01 5.49829871e-03\n",
      "  1.85218729e-01 1.07645752e-01 2.27485802e-01 2.75953305e-02\n",
      "  4.57416419e-01 4.31120772e-01 8.34061472e-01 1.57699282e-01\n",
      "  7.60905066e-01 3.48731771e-02 8.00128093e-01 1.44795419e-01\n",
      "  3.61805582e-01 7.34643743e-01 7.96586943e-01 8.31264420e-01\n",
      "  8.64760530e-01 7.49935120e-01 9.64710770e-01 3.73679499e-01]]\n"
     ]
    }
   ],
   "source": [
    "import numpy as np\n",
    "a = np.empty((2,300))\n",
    "a[:] = np.nan\n",
    "c = np.random.rand(2,300)\n",
    "a = np.concatenate((a,c))\n",
    "b = np.random.rand(2,300)\n",
    "\n",
    "print(a.shape)\n",
    "print(b.shape)\n",
    "print(a)\n",
    "print(b)"
   ]
  },
  {
   "cell_type": "code",
   "execution_count": 9,
   "id": "06cb8484",
   "metadata": {},
   "outputs": [
    {
     "name": "stdout",
     "output_type": "stream",
     "text": [
      "(2, 300)\n"
     ]
    }
   ],
   "source": [
    "print(a[~np.isnan(a).any(axis=1)].shape)"
   ]
  },
  {
   "cell_type": "code",
   "execution_count": 2,
   "id": "12f72db2",
   "metadata": {},
   "outputs": [
    {
     "name": "stdout",
     "output_type": "stream",
     "text": [
      "[[nan nan nan nan nan nan nan nan nan nan nan nan nan nan nan nan nan nan\n",
      "  nan nan nan nan nan nan nan nan nan nan nan nan nan nan nan nan nan nan\n",
      "  nan nan nan nan nan nan nan nan nan nan nan nan nan nan nan nan nan nan\n",
      "  nan nan nan nan nan nan nan nan nan nan nan nan nan nan nan nan nan nan\n",
      "  nan nan nan nan nan nan nan nan nan nan nan nan nan nan nan nan nan nan\n",
      "  nan nan nan nan nan nan nan nan nan nan nan nan nan nan nan nan nan nan\n",
      "  nan nan nan nan nan nan nan nan nan nan nan nan nan nan nan nan nan nan\n",
      "  nan nan nan nan nan nan nan nan nan nan nan nan nan nan nan nan nan nan\n",
      "  nan nan nan nan nan nan nan nan nan nan nan nan nan nan nan nan nan nan\n",
      "  nan nan nan nan nan nan nan nan nan nan nan nan nan nan nan nan nan nan\n",
      "  nan nan nan nan nan nan nan nan nan nan nan nan nan nan nan nan nan nan\n",
      "  nan nan nan nan nan nan nan nan nan nan nan nan nan nan nan nan nan nan\n",
      "  nan nan nan nan nan nan nan nan nan nan nan nan nan nan nan nan nan nan\n",
      "  nan nan nan nan nan nan nan nan nan nan nan nan nan nan nan nan nan nan\n",
      "  nan nan nan nan nan nan nan nan nan nan nan nan nan nan nan nan nan nan\n",
      "  nan nan nan nan nan nan nan nan nan nan nan nan nan nan nan nan nan nan\n",
      "  nan nan nan nan nan nan nan nan nan nan nan nan]\n",
      " [nan nan nan nan nan nan nan nan nan nan nan nan nan nan nan nan nan nan\n",
      "  nan nan nan nan nan nan nan nan nan nan nan nan nan nan nan nan nan nan\n",
      "  nan nan nan nan nan nan nan nan nan nan nan nan nan nan nan nan nan nan\n",
      "  nan nan nan nan nan nan nan nan nan nan nan nan nan nan nan nan nan nan\n",
      "  nan nan nan nan nan nan nan nan nan nan nan nan nan nan nan nan nan nan\n",
      "  nan nan nan nan nan nan nan nan nan nan nan nan nan nan nan nan nan nan\n",
      "  nan nan nan nan nan nan nan nan nan nan nan nan nan nan nan nan nan nan\n",
      "  nan nan nan nan nan nan nan nan nan nan nan nan nan nan nan nan nan nan\n",
      "  nan nan nan nan nan nan nan nan nan nan nan nan nan nan nan nan nan nan\n",
      "  nan nan nan nan nan nan nan nan nan nan nan nan nan nan nan nan nan nan\n",
      "  nan nan nan nan nan nan nan nan nan nan nan nan nan nan nan nan nan nan\n",
      "  nan nan nan nan nan nan nan nan nan nan nan nan nan nan nan nan nan nan\n",
      "  nan nan nan nan nan nan nan nan nan nan nan nan nan nan nan nan nan nan\n",
      "  nan nan nan nan nan nan nan nan nan nan nan nan nan nan nan nan nan nan\n",
      "  nan nan nan nan nan nan nan nan nan nan nan nan nan nan nan nan nan nan\n",
      "  nan nan nan nan nan nan nan nan nan nan nan nan nan nan nan nan nan nan\n",
      "  nan nan nan nan nan nan nan nan nan nan nan nan]]\n"
     ]
    }
   ],
   "source": [
    "a = np.empty((2,300))\n",
    "a[:] = np.nan\n",
    "print(a)"
   ]
  },
  {
   "cell_type": "code",
   "execution_count": null,
   "id": "52deb4fc",
   "metadata": {},
   "outputs": [],
   "source": [
    "from relatio._embeddings import _compute_distances\n",
    "distances = _compute_distances(a,b)\n",
    "print(distances)"
   ]
  },
  {
   "cell_type": "code",
   "execution_count": null,
   "id": "3b69bd2d",
   "metadata": {},
   "outputs": [],
   "source": [
    "from relatio._embeddings import _get_min_distances\n",
    "_get_min_distances(distances)"
   ]
  },
  {
   "cell_type": "code",
   "execution_count": null,
   "id": "e654674e",
   "metadata": {},
   "outputs": [],
   "source": [
    "from relatio._embeddings import _get_index_min_distances\n",
    "_get_index_min_distances(distances)"
   ]
  },
  {
   "cell_type": "code",
   "execution_count": null,
   "id": "91055df7",
   "metadata": {},
   "outputs": [],
   "source": [
    "from relatio._embeddings import _embeddings_similarity\n",
    "_embeddings_similarity(a, b, threshold = 10)"
   ]
  },
  {
   "cell_type": "code",
   "execution_count": null,
   "id": "21bb60e4",
   "metadata": {},
   "outputs": [],
   "source": [
    "a.shape[0]"
   ]
  },
  {
   "cell_type": "code",
   "execution_count": null,
   "id": "78a7ee38",
   "metadata": {},
   "outputs": [],
   "source": []
  },
  {
   "cell_type": "code",
   "execution_count": null,
   "id": "3bb67e2a",
   "metadata": {},
   "outputs": [],
   "source": []
  },
  {
   "cell_type": "code",
   "execution_count": 3,
   "id": "82fb119d",
   "metadata": {},
   "outputs": [
    {
     "data": {
      "text/plain": [
       "array([], dtype=float32)"
      ]
     },
     "execution_count": 3,
     "metadata": {},
     "output_type": "execute_result"
    }
   ],
   "source": [
    "import spacy \n",
    "nlp = spacy.load('en_core_web_trf')\n",
    "nlp('This is a sentence').vector"
   ]
  }
 ],
 "metadata": {
  "kernelspec": {
   "display_name": "Python 3 (ipykernel)",
   "language": "python",
   "name": "python3"
  },
  "language_info": {
   "codemirror_mode": {
    "name": "ipython",
    "version": 3
   },
   "file_extension": ".py",
   "mimetype": "text/x-python",
   "name": "python",
   "nbconvert_exporter": "python",
   "pygments_lexer": "ipython3",
   "version": "3.7.12"
  }
 },
 "nbformat": 4,
 "nbformat_minor": 5
}
