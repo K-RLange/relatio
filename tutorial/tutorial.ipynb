{
 "cells": [
  {
   "cell_type": "code",
   "execution_count": 1,
   "id": "01af8d59",
   "metadata": {},
   "outputs": [],
   "source": [
    "from relatio._logging import FileLogger\n",
    "logger = FileLogger()"
   ]
  },
  {
   "cell_type": "code",
   "execution_count": 2,
   "id": "bda9deb8",
   "metadata": {},
   "outputs": [
    {
     "name": "stdout",
     "output_type": "stream",
     "text": [
      "\n",
      "    List of available datasets:\n",
      "\n",
      "    Trump Tweet Archive\n",
      "    - function call: load_trump_data()\n",
      "    - format: 'raw', 'split_sentences', 'srl_res'\n",
      "    - allennlp version: 0.9\n",
      "    - srl model: srl-model-2018.05.25.tar.gz\n",
      "    \n"
     ]
    }
   ],
   "source": [
    "# Browse list of available datasets\n",
    "from relatio.datasets import list_datasets\n",
    "print(list_datasets())\n",
    "\n",
    "# Load an available dataset\n",
    "from relatio.datasets import load_trump_data\n",
    "df = load_trump_data(\"raw\")"
   ]
  },
  {
   "cell_type": "code",
   "execution_count": 3,
   "id": "d00439a4",
   "metadata": {
    "scrolled": true
   },
   "outputs": [
    {
     "name": "stdout",
     "output_type": "stream",
     "text": [
      "Splitting into sentences...\n"
     ]
    },
    {
     "name": "stderr",
     "output_type": "stream",
     "text": [
      "100%|████████████████████████████████████████████████████████████████████████████████████████████████████████████████████████████████████████████████████████████████| 1000/1000 [00:00<00:00, 1156.00it/s]\n"
     ]
    }
   ],
   "source": [
    "# Split into sentences\n",
    "from relatio.preprocessing import *\n",
    "\n",
    "p = Preprocessor(\n",
    "    spacy_model = \"en_core_web_md\",\n",
    "    remove_punctuation = True,\n",
    "    remove_digits = True,\n",
    "    lowercase = True,\n",
    "    lemmatize = True,\n",
    "    stop_words = [],\n",
    "    n_process = -1,\n",
    "    batch_size = 100\n",
    ")\n",
    "\n",
    "split_sentences = p.split_into_sentences(\n",
    "    df.iloc[0:1000], output_path='sentences.json', progress_bar=True\n",
    ")\n",
    "\n",
    "from relatio.utils import load_sentences\n",
    "split_sentences = load_sentences('sentences.json')"
   ]
  },
  {
   "cell_type": "code",
   "execution_count": 4,
   "id": "db648940",
   "metadata": {},
   "outputs": [
    {
     "name": "stderr",
     "output_type": "stream",
     "text": [
      "2022-02-28 19:01:52,440 - WARNING - py.warnings - /home/germain/Desktop/narratives/relatio/venv/lib/python3.8/site-packages/allennlp/tango/__init__.py:17: UserWarning: AllenNLP Tango is an experimental API and parts of it might change or disappear every time we release a new version.\n",
      "  warnings.warn(\n",
      "\n",
      "2022-02-28 19:01:54,300 - INFO - allennlp.common.plugins - Plugin allennlp_models available\n",
      "2022-02-28 19:01:54,566 - INFO - allennlp.common.file_utils - cache of https://storage.googleapis.com/allennlp-public-models/openie-model.2020.03.26.tar.gz is up-to-date\n",
      "2022-02-28 19:01:54,567 - INFO - allennlp.models.archival - loading archive file https://storage.googleapis.com/allennlp-public-models/openie-model.2020.03.26.tar.gz from cache at /home/germain/.allennlp/cache/60314a853eb0aaa774d176d878c62469d49872feb4f2bfd071a75c77f6d76707.1b91cc27e347f2df04ce771a304bee2b70a2c487626b67e277d44c593b868c25\n",
      "2022-02-28 19:01:54,568 - INFO - allennlp.models.archival - extracting archive file /home/germain/.allennlp/cache/60314a853eb0aaa774d176d878c62469d49872feb4f2bfd071a75c77f6d76707.1b91cc27e347f2df04ce771a304bee2b70a2c487626b67e277d44c593b868c25 to temp dir /tmp/tmpyl454q8w\n",
      "2022-02-28 19:01:54,945 - INFO - allennlp.common.params - dataset_reader.type = srl\n",
      "2022-02-28 19:01:54,945 - INFO - allennlp.common.params - dataset_reader.max_instances = None\n",
      "2022-02-28 19:01:54,945 - INFO - allennlp.common.params - dataset_reader.manual_distributed_sharding = False\n",
      "2022-02-28 19:01:54,946 - INFO - allennlp.common.params - dataset_reader.manual_multiprocess_sharding = False\n",
      "2022-02-28 19:01:54,946 - INFO - allennlp.common.params - dataset_reader.token_indexers = None\n",
      "2022-02-28 19:01:54,947 - INFO - allennlp.common.params - dataset_reader.domain_identifier = None\n",
      "2022-02-28 19:01:54,947 - INFO - allennlp.common.params - dataset_reader.bert_model_name = None\n",
      "2022-02-28 19:01:54,947 - INFO - allennlp.common.params - dataset_reader.type = srl\n",
      "2022-02-28 19:01:54,948 - INFO - allennlp.common.params - dataset_reader.max_instances = None\n",
      "2022-02-28 19:01:54,948 - INFO - allennlp.common.params - dataset_reader.manual_distributed_sharding = False\n",
      "2022-02-28 19:01:54,948 - INFO - allennlp.common.params - dataset_reader.manual_multiprocess_sharding = False\n",
      "2022-02-28 19:01:54,949 - INFO - allennlp.common.params - dataset_reader.token_indexers = None\n",
      "2022-02-28 19:01:54,949 - INFO - allennlp.common.params - dataset_reader.domain_identifier = None\n",
      "2022-02-28 19:01:54,949 - INFO - allennlp.common.params - dataset_reader.bert_model_name = None\n",
      "2022-02-28 19:01:54,950 - INFO - allennlp.common.params - type = from_instances\n",
      "2022-02-28 19:01:54,950 - INFO - allennlp.data.vocabulary - Loading token dictionary from /tmp/tmpyl454q8w/vocabulary.\n",
      "2022-02-28 19:01:54,996 - INFO - allennlp.common.params - model.type = srl\n",
      "2022-02-28 19:01:54,997 - INFO - allennlp.common.params - model.regularizer = None\n",
      "2022-02-28 19:01:54,997 - INFO - allennlp.common.params - model.ddp_accelerator = None\n",
      "2022-02-28 19:01:54,998 - INFO - allennlp.common.params - model.text_field_embedder.type = ref\n",
      "2022-02-28 19:01:55,000 - INFO - allennlp.common.params - model.text_field_embedder.type = basic\n",
      "2022-02-28 19:01:55,001 - INFO - allennlp.common.params - model.text_field_embedder.token_embedders.type = ref\n",
      "2022-02-28 19:01:55,002 - INFO - allennlp.common.params - model.text_field_embedder.token_embedders.tokens.type = embedding\n",
      "2022-02-28 19:01:55,003 - INFO - allennlp.common.params - model.text_field_embedder.token_embedders.tokens.type = embedding\n",
      "2022-02-28 19:01:55,003 - INFO - allennlp.common.params - model.text_field_embedder.token_embedders.tokens.embedding_dim = 100\n",
      "2022-02-28 19:01:55,004 - INFO - allennlp.common.params - model.text_field_embedder.token_embedders.tokens.num_embeddings = None\n",
      "2022-02-28 19:01:55,004 - INFO - allennlp.common.params - model.text_field_embedder.token_embedders.tokens.projection_dim = None\n",
      "2022-02-28 19:01:55,005 - INFO - allennlp.common.params - model.text_field_embedder.token_embedders.tokens.weight = None\n",
      "2022-02-28 19:01:55,005 - INFO - allennlp.common.params - model.text_field_embedder.token_embedders.tokens.padding_index = None\n",
      "2022-02-28 19:01:55,006 - INFO - allennlp.common.params - model.text_field_embedder.token_embedders.tokens.trainable = True\n",
      "2022-02-28 19:01:55,007 - INFO - allennlp.common.params - model.text_field_embedder.token_embedders.tokens.max_norm = None\n",
      "2022-02-28 19:01:55,008 - INFO - allennlp.common.params - model.text_field_embedder.token_embedders.tokens.norm_type = 2.0\n",
      "2022-02-28 19:01:55,008 - INFO - allennlp.common.params - model.text_field_embedder.token_embedders.tokens.scale_grad_by_freq = False\n",
      "2022-02-28 19:01:55,008 - INFO - allennlp.common.params - model.text_field_embedder.token_embedders.tokens.sparse = False\n",
      "2022-02-28 19:01:55,009 - INFO - allennlp.common.params - model.text_field_embedder.token_embedders.tokens.vocab_namespace = tokens\n",
      "2022-02-28 19:01:55,011 - INFO - allennlp.common.params - model.text_field_embedder.token_embedders.tokens.pretrained_file = None\n",
      "2022-02-28 19:01:55,079 - INFO - allennlp.common.params - model.encoder.type = alternating_lstm\n",
      "2022-02-28 19:01:55,079 - INFO - allennlp.common.params - model.encoder.type = alternating_lstm\n",
      "2022-02-28 19:01:55,080 - INFO - allennlp.common.params - model.encoder.input_size = 200\n",
      "2022-02-28 19:01:55,080 - INFO - allennlp.common.params - model.encoder.hidden_size = 300\n",
      "2022-02-28 19:01:55,081 - INFO - allennlp.common.params - model.encoder.num_layers = 8\n",
      "2022-02-28 19:01:55,081 - INFO - allennlp.common.params - model.encoder.recurrent_dropout_probability = 0.1\n",
      "2022-02-28 19:01:55,081 - INFO - allennlp.common.params - model.encoder.use_highway = True\n",
      "2022-02-28 19:01:55,082 - INFO - allennlp.common.params - model.encoder.use_input_projection_bias = True\n",
      "2022-02-28 19:01:55,082 - INFO - allennlp.common.params - model.encoder.stateful = False\n",
      "2022-02-28 19:01:55,306 - INFO - allennlp.common.params - model.binary_feature_dim = 100\n",
      "2022-02-28 19:01:55,306 - INFO - allennlp.common.params - model.embedding_dropout = 0.0\n",
      "2022-02-28 19:01:55,307 - INFO - allennlp.common.params - model.initializer = <allennlp.nn.initializers.InitializerApplicator object at 0x7f13fdbee160>\n",
      "2022-02-28 19:01:55,307 - INFO - allennlp.common.params - model.label_smoothing = None\n",
      "2022-02-28 19:01:55,307 - INFO - allennlp.common.params - model.ignore_span_metric = False\n",
      "2022-02-28 19:01:55,308 - INFO - allennlp.common.params - model.srl_eval_path = /home/germain/Desktop/narratives/relatio/venv/lib/python3.8/site-packages/allennlp_models/structured_prediction/tools/srl-eval.pl\n",
      "2022-02-28 19:01:55,309 - INFO - allennlp.nn.initializers - Initializing parameters\n",
      "2022-02-28 19:01:55,310 - INFO - allennlp.nn.initializers - Done initializing parameters; the following parameters are using their default initialization from their code\n",
      "2022-02-28 19:01:55,310 - INFO - allennlp.nn.initializers -    binary_feature_embedding.weight\n",
      "2022-02-28 19:01:55,310 - INFO - allennlp.nn.initializers -    encoder._module.layer_0.cell.input_linearity.bias\n",
      "2022-02-28 19:01:55,311 - INFO - allennlp.nn.initializers -    encoder._module.layer_0.cell.input_linearity.weight\n",
      "2022-02-28 19:01:55,311 - INFO - allennlp.nn.initializers -    encoder._module.layer_0.cell.state_linearity.bias\n",
      "2022-02-28 19:01:55,312 - INFO - allennlp.nn.initializers -    encoder._module.layer_0.cell.state_linearity.weight\n",
      "2022-02-28 19:01:55,312 - INFO - allennlp.nn.initializers -    encoder._module.layer_1.cell.input_linearity.bias\n",
      "2022-02-28 19:01:55,312 - INFO - allennlp.nn.initializers -    encoder._module.layer_1.cell.input_linearity.weight\n",
      "2022-02-28 19:01:55,313 - INFO - allennlp.nn.initializers -    encoder._module.layer_1.cell.state_linearity.bias\n",
      "2022-02-28 19:01:55,313 - INFO - allennlp.nn.initializers -    encoder._module.layer_1.cell.state_linearity.weight\n",
      "2022-02-28 19:01:55,314 - INFO - allennlp.nn.initializers -    encoder._module.layer_2.cell.input_linearity.bias\n",
      "2022-02-28 19:01:55,315 - INFO - allennlp.nn.initializers -    encoder._module.layer_2.cell.input_linearity.weight\n",
      "2022-02-28 19:01:55,316 - INFO - allennlp.nn.initializers -    encoder._module.layer_2.cell.state_linearity.bias\n"
     ]
    },
    {
     "name": "stderr",
     "output_type": "stream",
     "text": [
      "2022-02-28 19:01:55,316 - INFO - allennlp.nn.initializers -    encoder._module.layer_2.cell.state_linearity.weight\n",
      "2022-02-28 19:01:55,317 - INFO - allennlp.nn.initializers -    encoder._module.layer_3.cell.input_linearity.bias\n",
      "2022-02-28 19:01:55,317 - INFO - allennlp.nn.initializers -    encoder._module.layer_3.cell.input_linearity.weight\n",
      "2022-02-28 19:01:55,317 - INFO - allennlp.nn.initializers -    encoder._module.layer_3.cell.state_linearity.bias\n",
      "2022-02-28 19:01:55,318 - INFO - allennlp.nn.initializers -    encoder._module.layer_3.cell.state_linearity.weight\n",
      "2022-02-28 19:01:55,318 - INFO - allennlp.nn.initializers -    encoder._module.layer_4.cell.input_linearity.bias\n",
      "2022-02-28 19:01:55,318 - INFO - allennlp.nn.initializers -    encoder._module.layer_4.cell.input_linearity.weight\n",
      "2022-02-28 19:01:55,319 - INFO - allennlp.nn.initializers -    encoder._module.layer_4.cell.state_linearity.bias\n",
      "2022-02-28 19:01:55,319 - INFO - allennlp.nn.initializers -    encoder._module.layer_4.cell.state_linearity.weight\n",
      "2022-02-28 19:01:55,319 - INFO - allennlp.nn.initializers -    encoder._module.layer_5.cell.input_linearity.bias\n",
      "2022-02-28 19:01:55,320 - INFO - allennlp.nn.initializers -    encoder._module.layer_5.cell.input_linearity.weight\n",
      "2022-02-28 19:01:55,320 - INFO - allennlp.nn.initializers -    encoder._module.layer_5.cell.state_linearity.bias\n",
      "2022-02-28 19:01:55,320 - INFO - allennlp.nn.initializers -    encoder._module.layer_5.cell.state_linearity.weight\n",
      "2022-02-28 19:01:55,321 - INFO - allennlp.nn.initializers -    encoder._module.layer_6.cell.input_linearity.bias\n",
      "2022-02-28 19:01:55,321 - INFO - allennlp.nn.initializers -    encoder._module.layer_6.cell.input_linearity.weight\n",
      "2022-02-28 19:01:55,321 - INFO - allennlp.nn.initializers -    encoder._module.layer_6.cell.state_linearity.bias\n",
      "2022-02-28 19:01:55,322 - INFO - allennlp.nn.initializers -    encoder._module.layer_6.cell.state_linearity.weight\n",
      "2022-02-28 19:01:55,322 - INFO - allennlp.nn.initializers -    encoder._module.layer_7.cell.input_linearity.bias\n",
      "2022-02-28 19:01:55,322 - INFO - allennlp.nn.initializers -    encoder._module.layer_7.cell.input_linearity.weight\n",
      "2022-02-28 19:01:55,323 - INFO - allennlp.nn.initializers -    encoder._module.layer_7.cell.state_linearity.bias\n",
      "2022-02-28 19:01:55,323 - INFO - allennlp.nn.initializers -    encoder._module.layer_7.cell.state_linearity.weight\n",
      "2022-02-28 19:01:55,324 - INFO - allennlp.nn.initializers -    tag_projection_layer._module.bias\n",
      "2022-02-28 19:01:55,324 - INFO - allennlp.nn.initializers -    tag_projection_layer._module.weight\n",
      "2022-02-28 19:01:55,324 - INFO - allennlp.nn.initializers -    text_field_embedder.token_embedder_tokens.weight\n",
      "2022-02-28 19:01:55,325 - INFO - allennlp.modules.token_embedders.embedding - Loading a model trained before embedding extension was implemented; pass an explicit vocab namespace if you want to extend the vocabulary.\n",
      "2022-02-28 19:01:55,364 - INFO - allennlp.models.archival - removing temporary unarchived model dir at /tmp/tmpyl454q8w\n"
     ]
    },
    {
     "name": "stdout",
     "output_type": "stream",
     "text": [
      "Running SRL...\n"
     ]
    },
    {
     "name": "stderr",
     "output_type": "stream",
     "text": [
      "100%|████████████████████████████████████████████████████████████████████████████████████████████████████████████████████████████████████████████████████████████████████| 229/229 [01:11<00:00,  3.18it/s]\n"
     ]
    }
   ],
   "source": [
    "# Run SRL\n",
    "from relatio.semantic_role_labeling import *\n",
    "\n",
    "SRL = SRL(\n",
    "    path = \"https://storage.googleapis.com/allennlp-public-models/openie-model.2020.03.26.tar.gz\",\n",
    "    batch_size = 10,\n",
    "    cuda_device = -1\n",
    ")\n",
    "\n",
    "srl_res = SRL(split_sentences[1], progress_bar=True)"
   ]
  },
  {
   "cell_type": "raw",
   "id": "f987792f",
   "metadata": {},
   "source": [
    "# This step is faster with a GPU\n",
    "import torch\n",
    "print(torch.cuda.is_available())\n",
    "print(torch.cuda.current_device())\n",
    "\n",
    "SRL = SRL(\n",
    "    path = \"https://storage.googleapis.com/allennlp-public-models/openie-model.2020.03.26.tar.gz\",\n",
    "    batch_size = 10,\n",
    "    cuda_device = 0\n",
    ")\n",
    "\n",
    "srl_res = SRL(split_sentences[1], progress_bar=True)"
   ]
  },
  {
   "cell_type": "code",
   "execution_count": 5,
   "id": "551e9315",
   "metadata": {},
   "outputs": [],
   "source": [
    "# To save us some time, we download the results from the datasets module.\n",
    "# split_sentences = load_trump_data(\"split_sentences\")\n",
    "# srl_res = load_trump_data(\"srl_res\")"
   ]
  },
  {
   "cell_type": "code",
   "execution_count": 6,
   "id": "3cb56070",
   "metadata": {
    "scrolled": true
   },
   "outputs": [
    {
     "name": "stdout",
     "output_type": "stream",
     "text": [
      "Extracting semantic roles...\n"
     ]
    },
    {
     "name": "stderr",
     "output_type": "stream",
     "text": [
      "100%|███████████████████████████████████████████████████████████████████████████████████████████████████████████████████████████████████████████████████████████████| 2290/2290 [00:00<00:00, 34668.42it/s]\n"
     ]
    },
    {
     "name": "stdout",
     "output_type": "stream",
     "text": [
      "{'B-V': 'have'}\n",
      "{'ARG0': 'Republicans and Democrats', 'ARG1': 'our economic problems', 'B-V': 'created'}\n",
      "{'ARG1': 'I', 'ARG2': 'thrilled to be back in the Great city of Charlotte , North Carolina with thousands of hardworking American Patriots who love our Country , cherish our values , respect our laws , and always put AMERICA FIRST', 'B-V': 'was'}\n",
      "{'ARG1': 'I', 'ARG2': 'back in the Great city of Charlotte , North Carolina with , respect our laws , and always put AMERICA FIRST', 'B-V': 'be'}\n",
      "{'ARG0': 'thousands of hardworking American Patriots who', 'ARG1': 'our Country', 'B-V': 'love'}\n",
      "Cleaning roles ARG0...\n"
     ]
    },
    {
     "name": "stderr",
     "output_type": "stream",
     "text": [
      "100%|████████████████████████████████████████████████████████████████████████████████████████████████████████████████████████████████████████████████████████████████| 1900/1900 [00:00<00:00, 2058.60it/s]\n"
     ]
    },
    {
     "name": "stdout",
     "output_type": "stream",
     "text": [
      "Cleaning roles B-V...\n"
     ]
    },
    {
     "name": "stderr",
     "output_type": "stream",
     "text": [
      "100%|████████████████████████████████████████████████████████████████████████████████████████████████████████████████████████████████████████████████████████████████| 4742/4742 [00:01<00:00, 2597.36it/s]\n"
     ]
    },
    {
     "name": "stdout",
     "output_type": "stream",
     "text": [
      "Cleaning roles B-ARGM-MOD...\n"
     ]
    },
    {
     "name": "stderr",
     "output_type": "stream",
     "text": [
      "100%|██████████████████████████████████████████████████████████████████████████████████████████████████████████████████████████████████████████████████████████████████| 490/490 [00:00<00:00, 1240.70it/s]\n"
     ]
    },
    {
     "name": "stdout",
     "output_type": "stream",
     "text": [
      "Cleaning roles ARG1...\n"
     ]
    },
    {
     "name": "stderr",
     "output_type": "stream",
     "text": [
      "100%|████████████████████████████████████████████████████████████████████████████████████████████████████████████████████████████████████████████████████████████████| 3430/3430 [00:01<00:00, 2104.19it/s]\n"
     ]
    },
    {
     "name": "stdout",
     "output_type": "stream",
     "text": [
      "Cleaning roles ARG2...\n"
     ]
    },
    {
     "name": "stderr",
     "output_type": "stream",
     "text": [
      "100%|██████████████████████████████████████████████████████████████████████████████████████████████████████████████████████████████████████████████████████████████████| 955/955 [00:00<00:00, 1444.53it/s]"
     ]
    },
    {
     "name": "stdout",
     "output_type": "stream",
     "text": [
      "{'B-V': 'have'}\n",
      "{'ARG0': 'republicans democrats', 'B-V': 'create', 'ARG1': 'problem'}\n",
      "{'B-V': '', 'ARG1': '', 'ARG2': 'city charlotte north carolina thousand patriots country value law america'}\n",
      "{'B-V': 'be', 'ARG1': '', 'ARG2': 'city charlotte north carolina law america'}\n",
      "{'ARG0': 'thousand patriots', 'B-V': 'love', 'ARG1': 'country'}\n"
     ]
    },
    {
     "name": "stderr",
     "output_type": "stream",
     "text": [
      "\n"
     ]
    }
   ],
   "source": [
    "roles, sentence_index = p.extract_roles(\n",
    "    srl_res, \n",
    "    used_roles = [\"ARG0\",\"B-V\",\"B-ARGM-NEG\",\"B-ARGM-MOD\",\"ARG1\",\"ARG2\"],\n",
    "    progress_bar = True\n",
    ")\n",
    "\n",
    "for d in roles[0:5]: print(d)\n",
    "\n",
    "postproc_roles = p.process_roles(roles, \n",
    "                                 dict_of_pos_tags_to_keep = {\n",
    "                                     \"ARG0\": ['NOUN', 'PROPN'],\n",
    "                                     \"B-V\": ['VERB'],\n",
    "                                     \"ARG1\": ['NOUN', 'PROPN'],\n",
    "                                     \"ARG2\": ['NOUN', 'PROPN']\n",
    "                                 }, \n",
    "                                 progress_bar = True,\n",
    "                                 output_path = 'postproc_roles.json')\n",
    "\n",
    "from relatio.utils import load_roles\n",
    "postproc_roles = load_roles('postproc_roles.json')\n",
    "\n",
    "for d in postproc_roles[0:5]: print(d)"
   ]
  },
  {
   "cell_type": "raw",
   "id": "3d667ce4",
   "metadata": {},
   "source": [
    "# Old version is much slower than with the correct usage of spacy...\n",
    "postproc_roles = p._process_roles_not_optimized(roles, \n",
    "                                 dict_of_pos_tags_to_keep = {\n",
    "                                     \"ARG0\": ['NOUN', 'PROPN'],\n",
    "                                     \"B-V\": ['VERB'],\n",
    "                                     \"ARG1\": ['NOUN', 'PROPN'],\n",
    "                                     \"ARG2\": ['NOUN', 'PROPN']\n",
    "                                 }, \n",
    "                                 progress_bar = True)\n",
    "\n",
    "for d in postproc_roles[0:5]: print(d)"
   ]
  },
  {
   "cell_type": "code",
   "execution_count": 7,
   "id": "2e627dfa",
   "metadata": {},
   "outputs": [
    {
     "name": "stdout",
     "output_type": "stream",
     "text": [
      "Mining named entities...\n"
     ]
    },
    {
     "name": "stderr",
     "output_type": "stream",
     "text": [
      "100%|████████████████████████████████████████████████████████████████████████████████████████████████████████████████████████████████████████████████████████████████| 2290/2290 [00:01<00:00, 1619.66it/s]"
     ]
    },
    {
     "name": "stdout",
     "output_type": "stream",
     "text": [
      "('biden', 75)\n",
      "('georgia', 58)\n",
      "('pennsylvania', 53)\n",
      "('joe biden', 50)\n",
      "('trump', 36)\n",
      "('america', 33)\n",
      "('michigan', 32)\n",
      "('democrats', 29)\n",
      "('republicans', 28)\n",
      "('covid', 27)\n"
     ]
    },
    {
     "name": "stderr",
     "output_type": "stream",
     "text": [
      "\n"
     ]
    }
   ],
   "source": [
    "known_entities = p.mine_entities(\n",
    "    split_sentences[1], \n",
    "    clean_entities = True, \n",
    "    progress_bar = True,\n",
    "    output_path = 'entities.pkl'\n",
    ")\n",
    "\n",
    "from relatio.utils import load_entities\n",
    "known_entities = load_entities('entities.pkl')\n",
    "\n",
    "for n in known_entities.most_common(10): print(n)"
   ]
  },
  {
   "cell_type": "code",
   "execution_count": 8,
   "id": "2ee9d9f9",
   "metadata": {},
   "outputs": [
    {
     "name": "stdout",
     "output_type": "stream",
     "text": [
      "No training required: the model is deterministic.\n"
     ]
    },
    {
     "name": "stderr",
     "output_type": "stream",
     "text": [
      "100%|█████████████████████████████████████████████████████████████████████████████████████████████████████████████████████████████████████████████████████████████████| 5169/5169 [00:10<00:00, 498.07it/s]"
     ]
    },
    {
     "name": "stdout",
     "output_type": "stream",
     "text": [
      "('nate simington have senate', 2)\n",
      "('steve have complete endorsement', 2)\n",
      "('biden want country', 2)\n",
      "('sudan agree israel', 1)\n",
      "('biden lie pennsylvania', 1)\n",
      "('bret baier expose fox news|fox', 1)\n",
      "('trump tell time', 1)\n",
      "('democrats|republican|rino look d.c.', 1)\n",
      "('republican not let andrew mccabe|andrew', 1)\n",
      "('state want state', 1)\n"
     ]
    },
    {
     "name": "stderr",
     "output_type": "stream",
     "text": [
      "\n"
     ]
    }
   ],
   "source": [
    "from relatio.narrative_models import *\n",
    "from relatio.utils import prettify\n",
    "from collections import Counter\n",
    "\n",
    "m = NarrativeModel(model_type = 'deterministic',\n",
    "                   roles_considered = ['ARG0', 'B-V', 'B-ARGM-NEG', 'B-ARGM-MOD', 'ARG1', 'ARG2'],\n",
    "                   roles_with_entities = ['ARG0','ARG1','ARG2'],\n",
    "                   list_of_known_entities = list(known_entities),\n",
    "                   assignment_to_known_entities = 'character_matching',\n",
    "                   roles_with_embeddings = [['ARG0','ARG1','ARG2']],\n",
    "                   threshold = 1)    \n",
    "\n",
    "m.train(postproc_roles)\n",
    "narratives = m.predict(postproc_roles, progress_bar = True, prettify = False)\n",
    "\n",
    "pretty_narratives = []\n",
    "for n in narratives: \n",
    "    if n.get('ARG0') not in [\"\", None]:\n",
    "        if n.get('B-V') not in [\"\", None]:\n",
    "            if n.get('ARG1') not in [\"\", None]:\n",
    "                pretty_narratives.append(prettify(n))\n",
    "                \n",
    "pretty_narratives = Counter(pretty_narratives)\n",
    "for t in pretty_narratives.most_common(10): print(t)"
   ]
  },
  {
   "cell_type": "code",
   "execution_count": 9,
   "id": "4ae4b21f",
   "metadata": {
    "scrolled": true
   },
   "outputs": [
    {
     "name": "stdout",
     "output_type": "stream",
     "text": [
      "Focus on roles: ARG0\n",
      "Ignoring known entities...\n",
      "Embedding relevant phrases...\n"
     ]
    },
    {
     "name": "stderr",
     "output_type": "stream",
     "text": [
      "2022-02-28 19:03:29,948 - WARNING - py.warnings - /home/germain/Desktop/narratives/relatio/relatio/narrative_models.py:302: RuntimeWarning: Multiple labels for cluster 2- 2 shown: [('number', 2), ('governor cuomo', 2)]. First one is picked.\n",
      "  warnings.warn(\n",
      "\n",
      "2022-02-28 19:03:29,949 - WARNING - py.warnings - /home/germain/Desktop/narratives/relatio/relatio/narrative_models.py:302: RuntimeWarning: Multiple labels for cluster 3- 2 shown: [('dc police', 5), ('election', 5)]. First one is picked.\n",
      "  warnings.warn(\n",
      "\n",
      "2022-02-28 19:03:29,950 - WARNING - py.warnings - /home/germain/Desktop/narratives/relatio/relatio/narrative_models.py:302: RuntimeWarning: Multiple labels for cluster 4- 2 shown: [('wisconsin', 2), ('signature verification', 2)]. First one is picked.\n",
      "  warnings.warn(\n",
      "\n"
     ]
    },
    {
     "name": "stdout",
     "output_type": "stream",
     "text": [
      "Clustering phrases into 10 clusters...\n",
      "Labeling the clusters by the most frequent phrases...\n"
     ]
    },
    {
     "name": "stderr",
     "output_type": "stream",
     "text": [
      "2022-02-28 19:03:29,951 - WARNING - py.warnings - /home/germain/Desktop/narratives/relatio/relatio/narrative_models.py:302: RuntimeWarning: Multiple labels for cluster 6- 2 shown: [('congress', 4), ('person', 4)]. First one is picked.\n",
      "  warnings.warn(\n",
      "\n"
     ]
    },
    {
     "name": "stdout",
     "output_type": "stream",
     "text": [
      "Focus on roles: ARG1-ARG2\n",
      "Ignoring known entities...\n",
      "Embedding relevant phrases...\n",
      "Clustering phrases into 20 clusters...\n"
     ]
    },
    {
     "name": "stderr",
     "output_type": "stream",
     "text": [
      "2022-02-28 19:03:35,198 - WARNING - py.warnings - /home/germain/Desktop/narratives/relatio/relatio/narrative_models.py:302: RuntimeWarning: Multiple labels for cluster 0- 2 shown: [('complaint', 2), ('piece', 2)]. First one is picked.\n",
      "  warnings.warn(\n",
      "\n",
      "2022-02-28 19:03:35,199 - WARNING - py.warnings - /home/germain/Desktop/narratives/relatio/relatio/narrative_models.py:302: RuntimeWarning: Multiple labels for cluster 1- 2 shown: [('progress', 3), ('healthcare', 3)]. First one is picked.\n",
      "  warnings.warn(\n",
      "\n",
      "2022-02-28 19:03:35,199 - WARNING - py.warnings - /home/germain/Desktop/narratives/relatio/relatio/narrative_models.py:302: RuntimeWarning: Multiple labels for cluster 5- 2 shown: [('congressman people oregon', 2), ('u.s. energy industry fracking energy gas price', 2)]. First one is picked.\n",
      "  warnings.warn(\n",
      "\n",
      "2022-02-28 19:03:35,200 - WARNING - py.warnings - /home/germain/Desktop/narratives/relatio/relatio/narrative_models.py:302: RuntimeWarning: Multiple labels for cluster 6- 2 shown: [('signature', 7), ('book', 7)]. First one is picked.\n",
      "  warnings.warn(\n",
      "\n",
      "2022-02-28 19:03:35,200 - WARNING - py.warnings - /home/germain/Desktop/narratives/relatio/relatio/narrative_models.py:302: RuntimeWarning: Multiple labels for cluster 7- 2 shown: [('section', 3), ('military veterans police officer', 3)]. First one is picked.\n",
      "  warnings.warn(\n",
      "\n",
      "2022-02-28 19:03:35,201 - WARNING - py.warnings - /home/germain/Desktop/narratives/relatio/relatio/narrative_models.py:302: RuntimeWarning: Multiple labels for cluster 11- 2 shown: [('result', 4), ('religious liberty', 4)]. First one is picked.\n",
      "  warnings.warn(\n",
      "\n"
     ]
    },
    {
     "name": "stdout",
     "output_type": "stream",
     "text": [
      "Labeling the clusters by the most frequent phrases...\n"
     ]
    },
    {
     "name": "stderr",
     "output_type": "stream",
     "text": [
      "100%|█████████████████████████████████████████████████████████████████████████████████████████████████████████████████████████████████████████████████████████████████| 5169/5169 [00:10<00:00, 475.33it/s]"
     ]
    },
    {
     "name": "stdout",
     "output_type": "stream",
     "text": [
      "('nate simington have senate', 2)\n",
      "('brann not allow would second amendment', 2)\n",
      "('dc police get signature', 2)\n",
      "('dc police do signature', 2)\n",
      "('steve have complete endorsement', 2)\n",
      "('democrats steal signature', 2)\n",
      "('joe|joe biden|biden outsource signature', 2)\n",
      "('joe|joe biden|biden open signature', 2)\n",
      "('joe|joe biden|biden sacrifice ballot', 2)\n",
      "('number destroy would america', 2)\n"
     ]
    },
    {
     "name": "stderr",
     "output_type": "stream",
     "text": [
      "\n"
     ]
    }
   ],
   "source": [
    "m = NarrativeModel(model_type = 'static',\n",
    "                   roles_considered = ['ARG0', 'B-V', 'B-ARGM-NEG', 'B-ARGM-MOD', 'ARG1', 'ARG2'],\n",
    "                   roles_with_entities = ['ARG0','ARG1','ARG2'],\n",
    "                   list_of_known_entities = list(known_entities),\n",
    "                   assignment_to_known_entities = 'character_matching', \n",
    "                   roles_with_embeddings = [['ARG0'],['ARG1','ARG2']], # [['ARG0','ARG1','ARG2']]\n",
    "                   embeddings_model = None,\n",
    "                   threshold = 1,\n",
    "                   n_clusters = [10,20]) # [100]    \n",
    "\n",
    "m.train(postproc_roles, progress_bar = True, verbose = 0)\n",
    "narratives = m.predict(postproc_roles, progress_bar = True, prettify = False)\n",
    "\n",
    "pretty_narratives = []\n",
    "for n in narratives: \n",
    "    if n.get('ARG0') not in [\"\", None]:\n",
    "        if n.get('B-V') not in [\"\", None]:\n",
    "            if n.get('ARG1') not in [\"\", None]:\n",
    "                pretty_narratives.append(prettify(n))\n",
    "                \n",
    "pretty_narratives = Counter(pretty_narratives)\n",
    "for t in pretty_narratives.most_common(10): print(t)"
   ]
  },
  {
   "cell_type": "code",
   "execution_count": 10,
   "id": "8f10ce93",
   "metadata": {
    "scrolled": true
   },
   "outputs": [
    {
     "name": "stderr",
     "output_type": "stream",
     "text": [
      "  0%|                                                                                                                                                                             | 0/5169 [00:00<?, ?it/s]2022-02-28 19:03:46,403 - WARNING - py.warnings - /home/germain/Desktop/narratives/relatio/relatio/narrative_models.py:390: RuntimeWarning: Multiple labels for cluster 0- 2 shown: [('problem', 1), ('value', 1)]. First one is picked.\n",
      "  warnings.warn(\n",
      "\n",
      "2022-02-28 19:03:46,467 - WARNING - py.warnings - /home/germain/Desktop/narratives/relatio/relatio/narrative_models.py:390: RuntimeWarning: Multiple labels for cluster 1- 2 shown: [('amp ballot', 2), ('arabcountrie', 2)]. First one is picked.\n",
      "  warnings.warn(\n",
      "\n",
      "2022-02-28 19:03:46,483 - WARNING - py.warnings - /home/germain/Desktop/narratives/relatio/relatio/narrative_models.py:390: RuntimeWarning: Multiple labels for cluster 0- 2 shown: [('disaster', 2), ('thing', 2)]. First one is picked.\n",
      "  warnings.warn(\n",
      "\n",
      "  1%|██                                                                                                                                                                 | 67/5169 [00:00<00:07, 657.46it/s]2022-02-28 19:03:46,518 - WARNING - py.warnings - /home/germain/Desktop/narratives/relatio/relatio/narrative_models.py:390: RuntimeWarning: Multiple labels for cluster 0- 2 shown: [('election', 2), ('disaster', 2)]. First one is picked.\n",
      "  warnings.warn(\n",
      "\n",
      "  3%|████▏                                                                                                                                                             | 133/5169 [00:00<00:08, 613.31it/s]2022-02-28 19:03:46,692 - WARNING - py.warnings - /home/germain/Desktop/narratives/relatio/relatio/narrative_models.py:390: RuntimeWarning: Multiple labels for cluster 2- 2 shown: [('win', 2), ('vaccine win', 2)]. First one is picked.\n",
      "  warnings.warn(\n",
      "\n",
      "  4%|██████▍                                                                                                                                                           | 204/5169 [00:00<00:07, 651.20it/s]2022-02-28 19:03:46,770 - WARNING - py.warnings - /home/germain/Desktop/narratives/relatio/relatio/narrative_models.py:390: RuntimeWarning: Multiple labels for cluster 0- 2 shown: [('election', 5), ('number', 5)]. First one is picked.\n",
      "  warnings.warn(\n",
      "\n",
      "  5%|████████▍                                                                                                                                                         | 270/5169 [00:00<00:08, 600.04it/s]2022-02-28 19:03:46,902 - WARNING - py.warnings - /home/germain/Desktop/narratives/relatio/relatio/narrative_models.py:390: RuntimeWarning: Multiple labels for cluster 6- 2 shown: [('johncornyn senjohnthune', 1), ('terrorist organization', 1)]. First one is picked.\n",
      "  warnings.warn(\n",
      "\n",
      "  9%|█████████████▉                                                                                                                                                    | 443/5169 [00:00<00:06, 740.54it/s]2022-02-28 19:03:47,061 - WARNING - py.warnings - /home/germain/Desktop/narratives/relatio/relatio/narrative_models.py:390: RuntimeWarning: Multiple labels for cluster 7- 2 shown: [('constitutional travesty', 1), ('incorrect amp', 1)]. First one is picked.\n",
      "  warnings.warn(\n",
      "\n",
      "2022-02-28 19:03:47,077 - WARNING - py.warnings - /home/germain/Desktop/narratives/relatio/relatio/narrative_models.py:390: RuntimeWarning: Multiple labels for cluster 3- 2 shown: [('pfizer other', 1), ('military', 1)]. First one is picked.\n",
      "  warnings.warn(\n",
      "\n",
      " 10%|████████████████▏                                                                                                                                                 | 518/5169 [00:00<00:06, 688.76it/s]2022-02-28 19:03:47,245 - WARNING - py.warnings - /home/germain/Desktop/narratives/relatio/relatio/narrative_models.py:390: RuntimeWarning: Multiple labels for cluster 4- 2 shown: [('baier', 1), ('viewer', 1)]. First one is picked.\n",
      "  warnings.warn(\n",
      "\n",
      " 13%|████████████████████▉                                                                                                                                             | 669/5169 [00:00<00:06, 694.94it/s]2022-02-28 19:03:47,435 - WARNING - py.warnings - /home/germain/Desktop/narratives/relatio/relatio/narrative_models.py:390: RuntimeWarning: Multiple labels for cluster 11- 2 shown: [('fear november 3rd', 1), ('hero life day', 1)]. First one is picked.\n",
      "  warnings.warn(\n",
      "\n",
      "2022-02-28 19:03:47,480 - WARNING - py.warnings - /home/germain/Desktop/narratives/relatio/relatio/narrative_models.py:390: RuntimeWarning: Multiple labels for cluster 12- 2 shown: [('matching signature', 1), ('thing event', 1)]. First one is picked.\n",
      "  warnings.warn(\n",
      "\n",
      " 14%|███████████████████████▏                                                                                                                                          | 741/5169 [00:01<00:06, 695.49it/s]2022-02-28 19:03:47,545 - WARNING - py.warnings - /home/germain/Desktop/narratives/relatio/relatio/narrative_models.py:390: RuntimeWarning: Multiple labels for cluster 2- 2 shown: [('vaccine win', 3), ('result', 3)]. First one is picked.\n",
      "  warnings.warn(\n",
      "\n",
      " 16%|█████████████████████████▌                                                                                                                                        | 815/5169 [00:01<00:06, 708.18it/s]2022-02-28 19:03:47,661 - WARNING - py.warnings - /home/germain/Desktop/narratives/relatio/relatio/narrative_models.py:390: RuntimeWarning: Multiple labels for cluster 16- 2 shown: [('vote people sad', 1), ('vote people', 1)]. First one is picked.\n",
      "  warnings.warn(\n",
      "\n",
      " 17%|███████████████████████████▊                                                                                                                                      | 887/5169 [00:01<00:06, 701.31it/s]2022-02-28 19:03:47,711 - WARNING - py.warnings - /home/germain/Desktop/narratives/relatio/relatio/narrative_models.py:390: RuntimeWarning: Multiple labels for cluster 1- 2 shown: [('law enforcement', 3), ('signature match', 3)]. First one is picked.\n",
      "  warnings.warn(\n",
      "\n",
      "2022-02-28 19:03:47,736 - WARNING - py.warnings - /home/germain/Desktop/narratives/relatio/relatio/narrative_models.py:390: RuntimeWarning: Multiple labels for cluster 10- 2 shown: [('one', 2), ('senator', 2)]. First one is picked.\n",
      "  warnings.warn(\n",
      "\n",
      "2022-02-28 19:03:47,749 - WARNING - py.warnings - /home/germain/Desktop/narratives/relatio/relatio/narrative_models.py:390: RuntimeWarning: Multiple labels for cluster 6- 2 shown: [('travesty', 2), ('clue', 2)]. First one is picked.\n",
      "  warnings.warn(\n",
      "\n",
      " 19%|██████████████████████████████                                                                                                                                    | 958/5169 [00:01<00:06, 652.03it/s]2022-02-28 19:03:47,895 - WARNING - py.warnings - /home/germain/Desktop/narratives/relatio/relatio/narrative_models.py:390: RuntimeWarning: Multiple labels for cluster 18- 2 shown: [('hundred activist', 1), ('hundred activists', 1)]. First one is picked.\n",
      "  warnings.warn(\n",
      "\n",
      " 22%|██████████████████████████████████▉                                                                                                                              | 1122/5169 [00:01<00:05, 725.68it/s]2022-02-28 19:03:48,021 - WARNING - py.warnings - /home/germain/Desktop/narratives/relatio/relatio/narrative_models.py:390: RuntimeWarning: Multiple labels for cluster 9- 2 shown: [('odd', 1), ('subject', 1)]. First one is picked.\n",
      "  warnings.warn(\n",
      "\n",
      "2022-02-28 19:03:48,030 - WARNING - py.warnings - /home/germain/Desktop/narratives/relatio/relatio/narrative_models.py:390: RuntimeWarning: Multiple labels for cluster 17- 2 shown: [('fracking', 1), ('showing', 1)]. First one is picked.\n",
      "  warnings.warn(\n",
      "\n",
      " 29%|███████████████████████████████████████████████                                                                                                                  | 1509/5169 [00:02<00:05, 711.15it/s]2022-02-28 19:03:48,637 - WARNING - py.warnings - /home/germain/Desktop/narratives/relatio/relatio/narrative_models.py:390: RuntimeWarning: Multiple labels for cluster 21- 2 shown: [('lid', 1), ('total', 1)]. First one is picked.\n",
      "  warnings.warn(\n",
      "\n"
     ]
    },
    {
     "name": "stderr",
     "output_type": "stream",
     "text": [
      " 32%|███████████████████████████████████████████████████▊                                                                                                             | 1663/5169 [00:02<00:04, 734.29it/s]2022-02-28 19:03:48,786 - WARNING - py.warnings - /home/germain/Desktop/narratives/relatio/relatio/narrative_models.py:390: RuntimeWarning: Multiple labels for cluster 1- 2 shown: [('signature match', 4), ('second amendment', 4)]. First one is picked.\n",
      "  warnings.warn(\n",
      "\n",
      " 36%|█████████████████████████████████████████████████████████▏                                                                                                       | 1838/5169 [00:02<00:04, 799.53it/s]2022-02-28 19:03:49,058 - WARNING - py.warnings - /home/germain/Desktop/narratives/relatio/relatio/narrative_models.py:390: RuntimeWarning: Multiple labels for cluster 14- 2 shown: [('yesterdays news conference', 1), ('data analysis', 1)]. First one is picked.\n",
      "  warnings.warn(\n",
      "\n",
      " 39%|██████████████████████████████████████████████████████████████▍                                                                                                  | 2003/5169 [00:02<00:04, 756.20it/s]2022-02-28 19:03:49,267 - WARNING - py.warnings - /home/germain/Desktop/narratives/relatio/relatio/narrative_models.py:390: RuntimeWarning: Multiple labels for cluster 2- 2 shown: [('result', 4), ('envelope', 4)]. First one is picked.\n",
      "  warnings.warn(\n",
      "\n",
      "2022-02-28 19:03:49,275 - WARNING - py.warnings - /home/germain/Desktop/narratives/relatio/relatio/narrative_models.py:390: RuntimeWarning: Multiple labels for cluster 22- 2 shown: [('plenty', 1), ('medium', 1)]. First one is picked.\n",
      "  warnings.warn(\n",
      "\n",
      " 42%|███████████████████████████████████████████████████████████████████▏                                                                                             | 2156/5169 [00:03<00:04, 739.81it/s]2022-02-28 19:03:49,486 - WARNING - py.warnings - /home/germain/Desktop/narratives/relatio/relatio/narrative_models.py:390: RuntimeWarning: Multiple labels for cluster 11- 2 shown: [('constitution', 2), ('november', 2)]. First one is picked.\n",
      "  warnings.warn(\n",
      "\n",
      " 45%|███████████████████████████████████████████████████████████████████████▊                                                                                         | 2306/5169 [00:03<00:03, 729.85it/s]2022-02-28 19:03:49,675 - WARNING - py.warnings - /home/germain/Desktop/narratives/relatio/relatio/narrative_models.py:390: RuntimeWarning: Multiple labels for cluster 10- 2 shown: [('one', 6), ('senator', 6)]. First one is picked.\n",
      "  warnings.warn(\n",
      "\n",
      "2022-02-28 19:03:49,724 - WARNING - py.warnings - /home/germain/Desktop/narratives/relatio/relatio/narrative_models.py:390: RuntimeWarning: Multiple labels for cluster 8- 2 shown: [('hoax', 1), ('black', 1)]. First one is picked.\n",
      "  warnings.warn(\n",
      "\n",
      "2022-02-28 19:03:49,735 - WARNING - py.warnings - /home/germain/Desktop/narratives/relatio/relatio/narrative_models.py:390: RuntimeWarning: Multiple labels for cluster 2- 2 shown: [('amp', 5), ('envelope', 5)]. First one is picked.\n",
      "  warnings.warn(\n",
      "\n",
      " 46%|██████████████████████████████████████████████████████████████████████████▏                                                                                      | 2380/5169 [00:03<00:04, 694.11it/s]2022-02-28 19:03:49,785 - WARNING - py.warnings - /home/germain/Desktop/narratives/relatio/relatio/narrative_models.py:390: RuntimeWarning: Multiple labels for cluster 19- 2 shown: [('h1n1 swine', 1), ('t', 1)]. First one is picked.\n",
      "  warnings.warn(\n",
      "\n",
      " 48%|████████████████████████████████████████████████████████████████████████████▉                                                                                    | 2472/5169 [00:03<00:03, 756.97it/s]2022-02-28 19:03:49,951 - WARNING - py.warnings - /home/germain/Desktop/narratives/relatio/relatio/narrative_models.py:390: RuntimeWarning: Multiple labels for cluster 12- 2 shown: [('matching signature', 2), ('resolute desk', 2)]. First one is picked.\n",
      "  warnings.warn(\n",
      "\n",
      " 54%|██████████████████████████████████████████████████████████████████████████████████████▏                                                                          | 2767/5169 [00:03<00:03, 702.06it/s]2022-02-28 19:03:50,341 - WARNING - py.warnings - /home/germain/Desktop/narratives/relatio/relatio/narrative_models.py:390: RuntimeWarning: Multiple labels for cluster 12- 2 shown: [('matching signature', 2), ('voting machine', 2)]. First one is picked.\n",
      "  warnings.warn(\n",
      "\n",
      "2022-02-28 19:03:50,359 - WARNING - py.warnings - /home/germain/Desktop/narratives/relatio/relatio/narrative_models.py:390: RuntimeWarning: Multiple labels for cluster 27- 2 shown: [('far', 1), ('high', 1)]. First one is picked.\n",
      "  warnings.warn(\n",
      "\n",
      " 55%|████████████████████████████████████████████████████████████████████████████████████████▌                                                                        | 2843/5169 [00:04<00:03, 716.96it/s]2022-02-28 19:03:50,494 - WARNING - py.warnings - /home/germain/Desktop/narratives/relatio/relatio/narrative_models.py:390: RuntimeWarning: Multiple labels for cluster 28- 2 shown: [('techs windfall', 1), ('joke', 1)]. First one is picked.\n",
      "  warnings.warn(\n",
      "\n",
      "2022-02-28 19:03:50,510 - WARNING - py.warnings - /home/germain/Desktop/narratives/relatio/relatio/narrative_models.py:390: RuntimeWarning: Multiple labels for cluster 10- 2 shown: [('one', 8), ('senator', 8)]. First one is picked.\n",
      "  warnings.warn(\n",
      "\n",
      "2022-02-28 19:03:50,538 - WARNING - py.warnings - /home/germain/Desktop/narratives/relatio/relatio/narrative_models.py:390: RuntimeWarning: Multiple labels for cluster 23- 2 shown: [('honor', 2), ('talk', 2)]. First one is picked.\n",
      "  warnings.warn(\n",
      "\n",
      " 56%|██████████████████████████████████████████████████████████████████████████████████████████▊                                                                      | 2916/5169 [00:04<00:03, 603.11it/s]2022-02-28 19:03:50,594 - WARNING - py.warnings - /home/germain/Desktop/narratives/relatio/relatio/narrative_models.py:390: RuntimeWarning: Multiple labels for cluster 22- 2 shown: [('plenty', 2), ('medium', 2)]. First one is picked.\n",
      "  warnings.warn(\n",
      "\n",
      " 61%|█████████████████████████████████████████████████████████████████████████████████████████████████▉                                                               | 3145/5169 [00:04<00:03, 674.12it/s]2022-02-28 19:03:50,888 - WARNING - py.warnings - /home/germain/Desktop/narratives/relatio/relatio/narrative_models.py:390: RuntimeWarning: Multiple labels for cluster 26- 2 shown: [('said', 1), ('left', 1)]. First one is picked.\n",
      "  warnings.warn(\n",
      "\n",
      " 68%|█████████████████████████████████████████████████████████████████████████████████████████████████████████████▎                                                   | 3511/5169 [00:05<00:02, 650.21it/s]2022-02-28 19:03:51,454 - WARNING - py.warnings - /home/germain/Desktop/narratives/relatio/relatio/narrative_models.py:390: RuntimeWarning: Multiple labels for cluster 24- 2 shown: [('pollwatcher', 1), ('quote', 1)]. First one is picked.\n",
      "  warnings.warn(\n",
      "\n",
      " 69%|███████████████████████████████████████████████████████████████████████████████████████████████████████████████▍                                                 | 3578/5169 [00:05<00:02, 609.34it/s]2022-02-28 19:03:51,644 - WARNING - py.warnings - /home/germain/Desktop/narratives/relatio/relatio/narrative_models.py:390: RuntimeWarning: Multiple labels for cluster 4- 2 shown: [('viewer', 2), ('norm', 2)]. First one is picked.\n",
      "  warnings.warn(\n",
      "\n",
      " 71%|██████████████████████████████████████████████████████████████████████████████████████████████████████████████████                                               | 3662/5169 [00:05<00:02, 669.47it/s]2022-02-28 19:03:51,688 - WARNING - py.warnings - /home/germain/Desktop/narratives/relatio/relatio/narrative_models.py:390: RuntimeWarning: Multiple labels for cluster 29- 2 shown: [('first lady', 1), ('place kind planet', 1)]. First one is picked.\n",
      "  warnings.warn(\n",
      "\n",
      " 74%|██████████████████████████████████████████████████████████████████████████████████████████████████████████████████████▌                                          | 3807/5169 [00:05<00:01, 692.37it/s]2022-02-28 19:03:51,999 - WARNING - py.warnings - /home/germain/Desktop/narratives/relatio/relatio/narrative_models.py:390: RuntimeWarning: Multiple labels for cluster 30- 2 shown: [('out amp', 1), ('neighbor amp out amp', 1)]. First one is picked.\n",
      "  warnings.warn(\n",
      "\n"
     ]
    },
    {
     "name": "stderr",
     "output_type": "stream",
     "text": [
      " 84%|███████████████████████████████████████████████████████████████████████████████████████████████████████████████████████████████████████▉                         | 4364/5169 [00:06<00:01, 595.44it/s]2022-02-28 19:03:52,914 - WARNING - py.warnings - /home/germain/Desktop/narratives/relatio/relatio/narrative_models.py:390: RuntimeWarning: Multiple labels for cluster 34- 2 shown: [('polling booths', 1), ('mail drop boxes voter security disaster', 1)]. First one is picked.\n",
      "  warnings.warn(\n",
      "\n",
      " 87%|███████████████████████████████████████████████████████████████████████████████████████████████████████████████████████████████████████████▉                     | 4494/5169 [00:06<00:01, 590.34it/s]2022-02-28 19:03:53,047 - WARNING - py.warnings - /home/germain/Desktop/narratives/relatio/relatio/narrative_models.py:390: RuntimeWarning: Multiple labels for cluster 8- 2 shown: [('lunatic', 3), ('public', 3)]. First one is picked.\n",
      "  warnings.warn(\n",
      "\n",
      "2022-02-28 19:03:53,091 - WARNING - py.warnings - /home/germain/Desktop/narratives/relatio/relatio/narrative_models.py:390: RuntimeWarning: Multiple labels for cluster 6- 2 shown: [('clue', 4), ('jason', 4)]. First one is picked.\n",
      "  warnings.warn(\n",
      "\n",
      " 91%|██████████████████████████████████████████████████████████████████████████████████████████████████████████████████████████████████████████████████▏              | 4692/5169 [00:06<00:00, 614.52it/s]2022-02-28 19:03:53,350 - WARNING - py.warnings - /home/germain/Desktop/narratives/relatio/relatio/narrative_models.py:390: RuntimeWarning: Multiple labels for cluster 36- 2 shown: [('strong supporter agenda', 1), ('complete total endorsement', 1)]. First one is picked.\n",
      "  warnings.warn(\n",
      "\n",
      "2022-02-28 19:03:53,371 - WARNING - py.warnings - /home/germain/Desktop/narratives/relatio/relatio/narrative_models.py:390: RuntimeWarning: Multiple labels for cluster 36- 2 shown: [('complete total endorsement', 2), ('second amendment', 2)]. First one is picked.\n",
      "  warnings.warn(\n",
      "\n",
      "2022-02-28 19:03:53,389 - WARNING - py.warnings - /home/germain/Desktop/narratives/relatio/relatio/narrative_models.py:390: RuntimeWarning: Multiple labels for cluster 36- 2 shown: [('complete total endorsement', 3), ('second amendment', 3)]. First one is picked.\n",
      "  warnings.warn(\n",
      "\n",
      " 93%|██████████████████████████████████████████████████████████████████████████████████████████████████████████████████████████████████████████████████████           | 4817/5169 [00:07<00:00, 600.53it/s]2022-02-28 19:03:53,626 - WARNING - py.warnings - /home/germain/Desktop/narratives/relatio/relatio/narrative_models.py:390: RuntimeWarning: Multiple labels for cluster 33- 2 shown: [('lawyer note', 1), ('actor man', 1)]. First one is picked.\n",
      "  warnings.warn(\n",
      "\n",
      "2022-02-28 19:03:53,636 - WARNING - py.warnings - /home/germain/Desktop/narratives/relatio/relatio/narrative_models.py:390: RuntimeWarning: Multiple labels for cluster 8- 2 shown: [('lunatic', 3), ('other', 3)]. First one is picked.\n",
      "  warnings.warn(\n",
      "\n",
      " 94%|████████████████████████████████████████████████████████████████████████████████████████████████████████████████████████████████████████████████████████         | 4883/5169 [00:07<00:00, 617.43it/s]2022-02-28 19:03:53,710 - WARNING - py.warnings - /home/germain/Desktop/narratives/relatio/relatio/narrative_models.py:390: RuntimeWarning: Multiple labels for cluster 10- 2 shown: [('one', 11), ('senator', 11)]. First one is picked.\n",
      "  warnings.warn(\n",
      "\n",
      "2022-02-28 19:03:53,759 - WARNING - py.warnings - /home/germain/Desktop/narratives/relatio/relatio/narrative_models.py:390: RuntimeWarning: Multiple labels for cluster 37- 2 shown: [('today', 1), ('day', 1)]. First one is picked.\n",
      "  warnings.warn(\n",
      "\n",
      " 97%|████████████████████████████████████████████████████████████████████████████████████████████████████████████████████████████████████████████████████████████▉    | 5039/5169 [00:07<00:00, 690.70it/s]2022-02-28 19:03:53,899 - WARNING - py.warnings - /home/germain/Desktop/narratives/relatio/relatio/narrative_models.py:390: RuntimeWarning: Multiple labels for cluster 38- 2 shown: [('hit job president', 1), ('president', 1)]. First one is picked.\n",
      "  warnings.warn(\n",
      "\n",
      "2022-02-28 19:03:53,935 - WARNING - py.warnings - /home/germain/Desktop/narratives/relatio/relatio/narrative_models.py:390: RuntimeWarning: Multiple labels for cluster 17- 2 shown: [('fracking', 3), ('voting', 3)]. First one is picked.\n",
      "  warnings.warn(\n",
      "\n",
      "100%|█████████████████████████████████████████████████████████████████████████████████████████████████████████████████████████████████████████████████████████████████| 5169/5169 [00:07<00:00, 671.08it/s]\n",
      "100%|█████████████████████████████████████████████████████████████████████████████████████████████████████████████████████████████████████████████████████████████████| 5169/5169 [00:10<00:00, 497.85it/s]"
     ]
    },
    {
     "name": "stdout",
     "output_type": "stream",
     "text": [
      "('election have election', 2)\n",
      "('nate simington have senate', 2)\n",
      "('brann not allow would election', 2)\n",
      "('election allow election', 2)\n",
      "('steve have complete endorsement', 2)\n",
      "('democrats steal election', 2)\n",
      "('joe|joe biden|biden outsource election', 2)\n",
      "('joe|joe biden|biden open election', 2)\n",
      "('joe|joe biden|biden sacrifice second amendment', 2)\n",
      "('biden want country', 2)\n"
     ]
    },
    {
     "name": "stderr",
     "output_type": "stream",
     "text": [
      "\n"
     ]
    }
   ],
   "source": [
    "m = NarrativeModel(model_type = 'dynamic',\n",
    "                   roles_considered = ['ARG0', 'B-V', 'B-ARGM-NEG', 'B-ARGM-MOD', 'ARG1', 'ARG2'],\n",
    "                   roles_with_entities = ['ARG0','ARG1','ARG2'],\n",
    "                   list_of_known_entities = list(known_entities),\n",
    "                   assignment_to_known_entities = 'character_matching',\n",
    "                   roles_with_embeddings = [['ARG0','ARG1','ARG2']],\n",
    "                   threshold = 1)    \n",
    "\n",
    "m.train(postproc_roles, progress_bar = True)\n",
    "narratives = m.predict(postproc_roles, progress_bar = True, prettify = False)\n",
    "\n",
    "pretty_narratives = []\n",
    "for n in narratives: \n",
    "    if n.get('ARG0') not in [\"\", None]:\n",
    "        if n.get('B-V') not in [\"\", None]:\n",
    "            if n.get('ARG1') not in [\"\", None]:\n",
    "                pretty_narratives.append(prettify(n))\n",
    "                \n",
    "pretty_narratives = Counter(pretty_narratives)\n",
    "for t in pretty_narratives.most_common(10): print(t)"
   ]
  },
  {
   "cell_type": "code",
   "execution_count": 11,
   "id": "d57e5099",
   "metadata": {},
   "outputs": [],
   "source": [
    "# To-do\n",
    "\n",
    "# Add user-written functions for the preprocessor\n",
    "# Add complete narratives filter\n",
    "# Add option to save and load the SRL "
   ]
  },
  {
   "cell_type": "code",
   "execution_count": 12,
   "id": "3f3fed35",
   "metadata": {},
   "outputs": [],
   "source": [
    "# Current differences with the previous wrapper\n",
    "\n",
    "# handling of verbs (dimension_reduce_verbs)\n",
    "# fit multiple kmeans models (n_clusters as a list of lists) --> With see with Elliott and Philine\n",
    "# document tracking (doc, sentence, statement, narrative)"
   ]
  }
 ],
 "metadata": {
  "kernelspec": {
   "display_name": "Python 3 (ipykernel)",
   "language": "python",
   "name": "python3"
  },
  "language_info": {
   "codemirror_mode": {
    "name": "ipython",
    "version": 3
   },
   "file_extension": ".py",
   "mimetype": "text/x-python",
   "name": "python",
   "nbconvert_exporter": "python",
   "pygments_lexer": "ipython3",
   "version": "3.8.10"
  }
 },
 "nbformat": 4,
 "nbformat_minor": 5
}
