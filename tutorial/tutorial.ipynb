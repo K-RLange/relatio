{
 "cells": [
  {
   "cell_type": "code",
   "execution_count": 1,
   "id": "6b707927",
   "metadata": {},
   "outputs": [],
   "source": [
    "from relatio._logging import FileLogger\n",
    "logger = FileLogger()"
   ]
  },
  {
   "cell_type": "code",
   "execution_count": 2,
   "id": "4722e8cf",
   "metadata": {},
   "outputs": [
    {
     "name": "stdout",
     "output_type": "stream",
     "text": [
      "\n",
      "    List of available datasets:\n",
      "\n",
      "    Trump Tweet Archive\n",
      "    - function call: load_trump_data()\n",
      "    - format: 'raw', 'split_sentences', 'srl_res'\n",
      "    - allennlp version: 0.9\n",
      "    - srl model: srl-model-2018.05.25.tar.gz\n",
      "    \n"
     ]
    }
   ],
   "source": [
    "# Browse list of available datasets\n",
    "from relatio.datasets import list_datasets\n",
    "print(list_datasets())\n",
    "\n",
    "# Load an available dataset\n",
    "from relatio.datasets import load_trump_data\n",
    "df = load_trump_data(\"raw\")"
   ]
  },
  {
   "cell_type": "code",
   "execution_count": 3,
   "id": "d00439a4",
   "metadata": {
    "scrolled": true
   },
   "outputs": [
    {
     "name": "stdout",
     "output_type": "stream",
     "text": [
      "Splitting into sentences...\n"
     ]
    },
    {
     "name": "stderr",
     "output_type": "stream",
     "text": [
      "100%|████████████████████████████████████████████████████████████████████████████████████████████████████████████████████████████████████████████████████████████████| 1000/1000 [00:00<00:00, 1135.31it/s]\n"
     ]
    }
   ],
   "source": [
    "# Split into sentences\n",
    "from relatio.preprocessing import *\n",
    "\n",
    "p = Preprocessor(\n",
    "    spacy_model = \"en_core_web_md\",\n",
    "    remove_punctuation = True,\n",
    "    remove_digits = True,\n",
    "    lowercase = True,\n",
    "    lemmatize = True,\n",
    "    stop_words = [],\n",
    "    n_process = -1,\n",
    "    batch_size = 100\n",
    ")\n",
    "\n",
    "split_sentences = p.split_into_sentences(\n",
    "    df.iloc[0:1000], output_path='sentences.json', progress_bar=True\n",
    ")"
   ]
  },
  {
   "cell_type": "code",
   "execution_count": 4,
   "id": "95d8451f",
   "metadata": {},
   "outputs": [
    {
     "name": "stderr",
     "output_type": "stream",
     "text": [
      "2022-02-28 18:39:35,337 - WARNING - py.warnings - /home/germain/Desktop/narratives/relatio/venv/lib/python3.8/site-packages/allennlp/tango/__init__.py:17: UserWarning: AllenNLP Tango is an experimental API and parts of it might change or disappear every time we release a new version.\n",
      "  warnings.warn(\n",
      "\n",
      "2022-02-28 18:39:37,218 - INFO - allennlp.common.plugins - Plugin allennlp_models available\n",
      "2022-02-28 18:39:37,510 - INFO - allennlp.common.file_utils - cache of https://storage.googleapis.com/allennlp-public-models/openie-model.2020.03.26.tar.gz is up-to-date\n",
      "2022-02-28 18:39:37,512 - INFO - allennlp.models.archival - loading archive file https://storage.googleapis.com/allennlp-public-models/openie-model.2020.03.26.tar.gz from cache at /home/germain/.allennlp/cache/60314a853eb0aaa774d176d878c62469d49872feb4f2bfd071a75c77f6d76707.1b91cc27e347f2df04ce771a304bee2b70a2c487626b67e277d44c593b868c25\n",
      "2022-02-28 18:39:37,512 - INFO - allennlp.models.archival - extracting archive file /home/germain/.allennlp/cache/60314a853eb0aaa774d176d878c62469d49872feb4f2bfd071a75c77f6d76707.1b91cc27e347f2df04ce771a304bee2b70a2c487626b67e277d44c593b868c25 to temp dir /tmp/tmpgiayadd5\n",
      "2022-02-28 18:39:37,881 - INFO - allennlp.common.params - dataset_reader.type = srl\n",
      "2022-02-28 18:39:37,882 - INFO - allennlp.common.params - dataset_reader.max_instances = None\n",
      "2022-02-28 18:39:37,882 - INFO - allennlp.common.params - dataset_reader.manual_distributed_sharding = False\n",
      "2022-02-28 18:39:37,883 - INFO - allennlp.common.params - dataset_reader.manual_multiprocess_sharding = False\n",
      "2022-02-28 18:39:37,883 - INFO - allennlp.common.params - dataset_reader.token_indexers = None\n",
      "2022-02-28 18:39:37,883 - INFO - allennlp.common.params - dataset_reader.domain_identifier = None\n",
      "2022-02-28 18:39:37,884 - INFO - allennlp.common.params - dataset_reader.bert_model_name = None\n",
      "2022-02-28 18:39:37,884 - INFO - allennlp.common.params - dataset_reader.type = srl\n",
      "2022-02-28 18:39:37,884 - INFO - allennlp.common.params - dataset_reader.max_instances = None\n",
      "2022-02-28 18:39:37,885 - INFO - allennlp.common.params - dataset_reader.manual_distributed_sharding = False\n",
      "2022-02-28 18:39:37,885 - INFO - allennlp.common.params - dataset_reader.manual_multiprocess_sharding = False\n",
      "2022-02-28 18:39:37,885 - INFO - allennlp.common.params - dataset_reader.token_indexers = None\n",
      "2022-02-28 18:39:37,885 - INFO - allennlp.common.params - dataset_reader.domain_identifier = None\n",
      "2022-02-28 18:39:37,886 - INFO - allennlp.common.params - dataset_reader.bert_model_name = None\n",
      "2022-02-28 18:39:37,886 - INFO - allennlp.common.params - type = from_instances\n",
      "2022-02-28 18:39:37,886 - INFO - allennlp.data.vocabulary - Loading token dictionary from /tmp/tmpgiayadd5/vocabulary.\n",
      "2022-02-28 18:39:37,932 - INFO - allennlp.common.params - model.type = srl\n",
      "2022-02-28 18:39:37,933 - INFO - allennlp.common.params - model.regularizer = None\n",
      "2022-02-28 18:39:37,933 - INFO - allennlp.common.params - model.ddp_accelerator = None\n",
      "2022-02-28 18:39:37,934 - INFO - allennlp.common.params - model.text_field_embedder.type = ref\n",
      "2022-02-28 18:39:37,936 - INFO - allennlp.common.params - model.text_field_embedder.type = basic\n",
      "2022-02-28 18:39:37,937 - INFO - allennlp.common.params - model.text_field_embedder.token_embedders.type = ref\n",
      "2022-02-28 18:39:37,939 - INFO - allennlp.common.params - model.text_field_embedder.token_embedders.tokens.type = embedding\n",
      "2022-02-28 18:39:37,940 - INFO - allennlp.common.params - model.text_field_embedder.token_embedders.tokens.type = embedding\n",
      "2022-02-28 18:39:37,940 - INFO - allennlp.common.params - model.text_field_embedder.token_embedders.tokens.embedding_dim = 100\n",
      "2022-02-28 18:39:37,941 - INFO - allennlp.common.params - model.text_field_embedder.token_embedders.tokens.num_embeddings = None\n",
      "2022-02-28 18:39:37,941 - INFO - allennlp.common.params - model.text_field_embedder.token_embedders.tokens.projection_dim = None\n",
      "2022-02-28 18:39:37,942 - INFO - allennlp.common.params - model.text_field_embedder.token_embedders.tokens.weight = None\n",
      "2022-02-28 18:39:37,942 - INFO - allennlp.common.params - model.text_field_embedder.token_embedders.tokens.padding_index = None\n",
      "2022-02-28 18:39:37,942 - INFO - allennlp.common.params - model.text_field_embedder.token_embedders.tokens.trainable = True\n",
      "2022-02-28 18:39:37,943 - INFO - allennlp.common.params - model.text_field_embedder.token_embedders.tokens.max_norm = None\n",
      "2022-02-28 18:39:37,943 - INFO - allennlp.common.params - model.text_field_embedder.token_embedders.tokens.norm_type = 2.0\n",
      "2022-02-28 18:39:37,944 - INFO - allennlp.common.params - model.text_field_embedder.token_embedders.tokens.scale_grad_by_freq = False\n",
      "2022-02-28 18:39:37,945 - INFO - allennlp.common.params - model.text_field_embedder.token_embedders.tokens.sparse = False\n",
      "2022-02-28 18:39:37,947 - INFO - allennlp.common.params - model.text_field_embedder.token_embedders.tokens.vocab_namespace = tokens\n",
      "2022-02-28 18:39:37,948 - INFO - allennlp.common.params - model.text_field_embedder.token_embedders.tokens.pretrained_file = None\n",
      "2022-02-28 18:39:38,008 - INFO - allennlp.common.params - model.encoder.type = alternating_lstm\n",
      "2022-02-28 18:39:38,009 - INFO - allennlp.common.params - model.encoder.type = alternating_lstm\n",
      "2022-02-28 18:39:38,010 - INFO - allennlp.common.params - model.encoder.input_size = 200\n",
      "2022-02-28 18:39:38,010 - INFO - allennlp.common.params - model.encoder.hidden_size = 300\n",
      "2022-02-28 18:39:38,011 - INFO - allennlp.common.params - model.encoder.num_layers = 8\n",
      "2022-02-28 18:39:38,011 - INFO - allennlp.common.params - model.encoder.recurrent_dropout_probability = 0.1\n",
      "2022-02-28 18:39:38,011 - INFO - allennlp.common.params - model.encoder.use_highway = True\n",
      "2022-02-28 18:39:38,012 - INFO - allennlp.common.params - model.encoder.use_input_projection_bias = True\n",
      "2022-02-28 18:39:38,012 - INFO - allennlp.common.params - model.encoder.stateful = False\n",
      "2022-02-28 18:39:38,219 - INFO - allennlp.common.params - model.binary_feature_dim = 100\n",
      "2022-02-28 18:39:38,220 - INFO - allennlp.common.params - model.embedding_dropout = 0.0\n",
      "2022-02-28 18:39:38,220 - INFO - allennlp.common.params - model.initializer = <allennlp.nn.initializers.InitializerApplicator object at 0x7f8747e4a160>\n",
      "2022-02-28 18:39:38,221 - INFO - allennlp.common.params - model.label_smoothing = None\n",
      "2022-02-28 18:39:38,221 - INFO - allennlp.common.params - model.ignore_span_metric = False\n",
      "2022-02-28 18:39:38,222 - INFO - allennlp.common.params - model.srl_eval_path = /home/germain/Desktop/narratives/relatio/venv/lib/python3.8/site-packages/allennlp_models/structured_prediction/tools/srl-eval.pl\n",
      "2022-02-28 18:39:38,223 - INFO - allennlp.nn.initializers - Initializing parameters\n",
      "2022-02-28 18:39:38,223 - INFO - allennlp.nn.initializers - Done initializing parameters; the following parameters are using their default initialization from their code\n",
      "2022-02-28 18:39:38,224 - INFO - allennlp.nn.initializers -    binary_feature_embedding.weight\n",
      "2022-02-28 18:39:38,224 - INFO - allennlp.nn.initializers -    encoder._module.layer_0.cell.input_linearity.bias\n",
      "2022-02-28 18:39:38,224 - INFO - allennlp.nn.initializers -    encoder._module.layer_0.cell.input_linearity.weight\n",
      "2022-02-28 18:39:38,225 - INFO - allennlp.nn.initializers -    encoder._module.layer_0.cell.state_linearity.bias\n",
      "2022-02-28 18:39:38,225 - INFO - allennlp.nn.initializers -    encoder._module.layer_0.cell.state_linearity.weight\n",
      "2022-02-28 18:39:38,226 - INFO - allennlp.nn.initializers -    encoder._module.layer_1.cell.input_linearity.bias\n",
      "2022-02-28 18:39:38,226 - INFO - allennlp.nn.initializers -    encoder._module.layer_1.cell.input_linearity.weight\n",
      "2022-02-28 18:39:38,227 - INFO - allennlp.nn.initializers -    encoder._module.layer_1.cell.state_linearity.bias\n",
      "2022-02-28 18:39:38,227 - INFO - allennlp.nn.initializers -    encoder._module.layer_1.cell.state_linearity.weight\n",
      "2022-02-28 18:39:38,228 - INFO - allennlp.nn.initializers -    encoder._module.layer_2.cell.input_linearity.bias\n",
      "2022-02-28 18:39:38,228 - INFO - allennlp.nn.initializers -    encoder._module.layer_2.cell.input_linearity.weight\n",
      "2022-02-28 18:39:38,228 - INFO - allennlp.nn.initializers -    encoder._module.layer_2.cell.state_linearity.bias\n"
     ]
    },
    {
     "name": "stderr",
     "output_type": "stream",
     "text": [
      "2022-02-28 18:39:38,229 - INFO - allennlp.nn.initializers -    encoder._module.layer_2.cell.state_linearity.weight\n",
      "2022-02-28 18:39:38,230 - INFO - allennlp.nn.initializers -    encoder._module.layer_3.cell.input_linearity.bias\n",
      "2022-02-28 18:39:38,231 - INFO - allennlp.nn.initializers -    encoder._module.layer_3.cell.input_linearity.weight\n",
      "2022-02-28 18:39:38,231 - INFO - allennlp.nn.initializers -    encoder._module.layer_3.cell.state_linearity.bias\n",
      "2022-02-28 18:39:38,232 - INFO - allennlp.nn.initializers -    encoder._module.layer_3.cell.state_linearity.weight\n",
      "2022-02-28 18:39:38,232 - INFO - allennlp.nn.initializers -    encoder._module.layer_4.cell.input_linearity.bias\n",
      "2022-02-28 18:39:38,233 - INFO - allennlp.nn.initializers -    encoder._module.layer_4.cell.input_linearity.weight\n",
      "2022-02-28 18:39:38,233 - INFO - allennlp.nn.initializers -    encoder._module.layer_4.cell.state_linearity.bias\n",
      "2022-02-28 18:39:38,233 - INFO - allennlp.nn.initializers -    encoder._module.layer_4.cell.state_linearity.weight\n",
      "2022-02-28 18:39:38,234 - INFO - allennlp.nn.initializers -    encoder._module.layer_5.cell.input_linearity.bias\n",
      "2022-02-28 18:39:38,234 - INFO - allennlp.nn.initializers -    encoder._module.layer_5.cell.input_linearity.weight\n",
      "2022-02-28 18:39:38,235 - INFO - allennlp.nn.initializers -    encoder._module.layer_5.cell.state_linearity.bias\n",
      "2022-02-28 18:39:38,235 - INFO - allennlp.nn.initializers -    encoder._module.layer_5.cell.state_linearity.weight\n",
      "2022-02-28 18:39:38,235 - INFO - allennlp.nn.initializers -    encoder._module.layer_6.cell.input_linearity.bias\n",
      "2022-02-28 18:39:38,236 - INFO - allennlp.nn.initializers -    encoder._module.layer_6.cell.input_linearity.weight\n",
      "2022-02-28 18:39:38,236 - INFO - allennlp.nn.initializers -    encoder._module.layer_6.cell.state_linearity.bias\n",
      "2022-02-28 18:39:38,237 - INFO - allennlp.nn.initializers -    encoder._module.layer_6.cell.state_linearity.weight\n",
      "2022-02-28 18:39:38,237 - INFO - allennlp.nn.initializers -    encoder._module.layer_7.cell.input_linearity.bias\n",
      "2022-02-28 18:39:38,237 - INFO - allennlp.nn.initializers -    encoder._module.layer_7.cell.input_linearity.weight\n",
      "2022-02-28 18:39:38,238 - INFO - allennlp.nn.initializers -    encoder._module.layer_7.cell.state_linearity.bias\n",
      "2022-02-28 18:39:38,238 - INFO - allennlp.nn.initializers -    encoder._module.layer_7.cell.state_linearity.weight\n",
      "2022-02-28 18:39:38,239 - INFO - allennlp.nn.initializers -    tag_projection_layer._module.bias\n",
      "2022-02-28 18:39:38,239 - INFO - allennlp.nn.initializers -    tag_projection_layer._module.weight\n",
      "2022-02-28 18:39:38,239 - INFO - allennlp.nn.initializers -    text_field_embedder.token_embedder_tokens.weight\n",
      "2022-02-28 18:39:38,243 - INFO - allennlp.modules.token_embedders.embedding - Loading a model trained before embedding extension was implemented; pass an explicit vocab namespace if you want to extend the vocabulary.\n",
      "2022-02-28 18:39:38,282 - INFO - allennlp.models.archival - removing temporary unarchived model dir at /tmp/tmpgiayadd5\n"
     ]
    },
    {
     "name": "stdout",
     "output_type": "stream",
     "text": [
      "Running SRL...\n"
     ]
    },
    {
     "name": "stderr",
     "output_type": "stream",
     "text": [
      "100%|████████████████████████████████████████████████████████████████████████████████████████████████████████████████████████████████████████████████████████████████████| 229/229 [01:10<00:00,  3.23it/s]\n"
     ]
    }
   ],
   "source": [
    "# Run SRL\n",
    "from relatio.semantic_role_labeling import *\n",
    "\n",
    "SRL = SRL(\n",
    "    path = \"https://storage.googleapis.com/allennlp-public-models/openie-model.2020.03.26.tar.gz\",\n",
    "    batch_size = 10,\n",
    "    cuda_device = -1\n",
    ")\n",
    "\n",
    "srl_res = SRL(split_sentences[1], progress_bar=True)"
   ]
  },
  {
   "cell_type": "raw",
   "id": "31348a9d",
   "metadata": {},
   "source": [
    "# This step is faster with a GPU\n",
    "import torch\n",
    "print(torch.cuda.is_available())\n",
    "print(torch.cuda.current_device())\n",
    "\n",
    "SRL = SRL(\n",
    "    path = \"https://storage.googleapis.com/allennlp-public-models/openie-model.2020.03.26.tar.gz\",\n",
    "    batch_size = 10,\n",
    "    cuda_device = 0\n",
    ")\n",
    "\n",
    "srl_res = SRL(split_sentences[1], progress_bar=True)"
   ]
  },
  {
   "cell_type": "code",
   "execution_count": 5,
   "id": "587369f8",
   "metadata": {},
   "outputs": [],
   "source": [
    "# To save us some time, we download the results from the datasets module.\n",
    "# split_sentences = load_trump_data(\"split_sentences\")\n",
    "# srl_res = load_trump_data(\"srl_res\")"
   ]
  },
  {
   "cell_type": "code",
   "execution_count": 6,
   "id": "3cb56070",
   "metadata": {
    "scrolled": true
   },
   "outputs": [
    {
     "name": "stdout",
     "output_type": "stream",
     "text": [
      "Extracting semantic roles...\n"
     ]
    },
    {
     "name": "stderr",
     "output_type": "stream",
     "text": [
      "100%|███████████████████████████████████████████████████████████████████████████████████████████████████████████████████████████████████████████████████████████████| 2290/2290 [00:00<00:00, 35443.69it/s]\n"
     ]
    },
    {
     "name": "stdout",
     "output_type": "stream",
     "text": [
      "{'B-V': 'have'}\n",
      "{'ARG0': 'Republicans and Democrats', 'ARG1': 'our economic problems', 'B-V': 'created'}\n",
      "{'ARG1': 'I', 'ARG2': 'thrilled to be back in the Great city of Charlotte , North Carolina with thousands of hardworking American Patriots who love our Country , cherish our values , respect our laws , and always put AMERICA FIRST', 'B-V': 'was'}\n",
      "{'ARG1': 'I', 'ARG2': 'back in the Great city of Charlotte , North Carolina with , respect our laws , and always put AMERICA FIRST', 'B-V': 'be'}\n",
      "{'ARG0': 'thousands of hardworking American Patriots who', 'ARG1': 'our Country', 'B-V': 'love'}\n",
      "Cleaning roles ARG0...\n"
     ]
    },
    {
     "name": "stderr",
     "output_type": "stream",
     "text": [
      "100%|████████████████████████████████████████████████████████████████████████████████████████████████████████████████████████████████████████████████████████████████| 1900/1900 [00:00<00:00, 1998.09it/s]\n"
     ]
    },
    {
     "name": "stdout",
     "output_type": "stream",
     "text": [
      "Cleaning roles B-V...\n"
     ]
    },
    {
     "name": "stderr",
     "output_type": "stream",
     "text": [
      "100%|████████████████████████████████████████████████████████████████████████████████████████████████████████████████████████████████████████████████████████████████| 4742/4742 [00:01<00:00, 2608.61it/s]\n"
     ]
    },
    {
     "name": "stdout",
     "output_type": "stream",
     "text": [
      "Cleaning roles B-ARGM-MOD...\n"
     ]
    },
    {
     "name": "stderr",
     "output_type": "stream",
     "text": [
      "100%|██████████████████████████████████████████████████████████████████████████████████████████████████████████████████████████████████████████████████████████████████| 490/490 [00:00<00:00, 1300.84it/s]\n"
     ]
    },
    {
     "name": "stdout",
     "output_type": "stream",
     "text": [
      "Cleaning roles ARG1...\n"
     ]
    },
    {
     "name": "stderr",
     "output_type": "stream",
     "text": [
      "100%|████████████████████████████████████████████████████████████████████████████████████████████████████████████████████████████████████████████████████████████████| 3430/3430 [00:01<00:00, 1764.70it/s]\n"
     ]
    },
    {
     "name": "stdout",
     "output_type": "stream",
     "text": [
      "Cleaning roles ARG2...\n"
     ]
    },
    {
     "name": "stderr",
     "output_type": "stream",
     "text": [
      "100%|██████████████████████████████████████████████████████████████████████████████████████████████████████████████████████████████████████████████████████████████████| 955/955 [00:00<00:00, 1520.79it/s]"
     ]
    },
    {
     "name": "stdout",
     "output_type": "stream",
     "text": [
      "{'B-V': 'have'}\n",
      "{'ARG0': 'republicans democrats', 'B-V': 'create', 'ARG1': 'problem'}\n",
      "{'B-V': '', 'ARG1': '', 'ARG2': 'city charlotte north carolina thousand patriots country value law america'}\n",
      "{'B-V': 'be', 'ARG1': '', 'ARG2': 'city charlotte north carolina law america'}\n",
      "{'ARG0': 'thousand patriots', 'B-V': 'love', 'ARG1': 'country'}\n"
     ]
    },
    {
     "name": "stderr",
     "output_type": "stream",
     "text": [
      "\n"
     ]
    }
   ],
   "source": [
    "roles, sentence_index = p.extract_roles(\n",
    "    srl_res, \n",
    "    used_roles = [\"ARG0\",\"B-V\",\"B-ARGM-NEG\",\"B-ARGM-MOD\",\"ARG1\",\"ARG2\"],\n",
    "    progress_bar = True\n",
    ")\n",
    "\n",
    "for d in roles[0:5]: print(d)\n",
    "\n",
    "postproc_roles = p.process_roles(roles, \n",
    "                                 dict_of_pos_tags_to_keep = {\n",
    "                                     \"ARG0\": ['NOUN', 'PROPN'],\n",
    "                                     \"B-V\": ['VERB'],\n",
    "                                     \"ARG1\": ['NOUN', 'PROPN'],\n",
    "                                     \"ARG2\": ['NOUN', 'PROPN']\n",
    "                                 }, \n",
    "                                 progress_bar = True,\n",
    "                                 output_path = 'postproc_roles.json')\n",
    "\n",
    "for d in postproc_roles[0:5]: print(d)"
   ]
  },
  {
   "cell_type": "raw",
   "id": "c01f3797",
   "metadata": {},
   "source": [
    "# Old version is much slower than with the correct usage of spacy...\n",
    "postproc_roles = p._process_roles_not_optimized(roles, \n",
    "                                 dict_of_pos_tags_to_keep = {\n",
    "                                     \"ARG0\": ['NOUN', 'PROPN'],\n",
    "                                     \"B-V\": ['VERB'],\n",
    "                                     \"ARG1\": ['NOUN', 'PROPN'],\n",
    "                                     \"ARG2\": ['NOUN', 'PROPN']\n",
    "                                 }, \n",
    "                                 progress_bar = True)\n",
    "\n",
    "for d in postproc_roles[0:5]: print(d)"
   ]
  },
  {
   "cell_type": "code",
   "execution_count": 7,
   "id": "2e627dfa",
   "metadata": {},
   "outputs": [
    {
     "name": "stdout",
     "output_type": "stream",
     "text": [
      "Mining named entities...\n"
     ]
    },
    {
     "name": "stderr",
     "output_type": "stream",
     "text": [
      "100%|████████████████████████████████████████████████████████████████████████████████████████████████████████████████████████████████████████████████████████████████| 2290/2290 [00:01<00:00, 1294.83it/s]"
     ]
    },
    {
     "name": "stdout",
     "output_type": "stream",
     "text": [
      "('biden', 75)\n",
      "('georgia', 58)\n",
      "('pennsylvania', 53)\n",
      "('joe biden', 50)\n",
      "('trump', 36)\n",
      "('america', 33)\n",
      "('michigan', 32)\n",
      "('democrats', 29)\n",
      "('republicans', 28)\n",
      "('covid', 27)\n"
     ]
    },
    {
     "name": "stderr",
     "output_type": "stream",
     "text": [
      "\n"
     ]
    }
   ],
   "source": [
    "known_entities = p.mine_entities(\n",
    "    split_sentences[1], \n",
    "    clean_entities = True, \n",
    "    progress_bar = True,\n",
    "    output_path = 'entities.pkl'\n",
    ")\n",
    "for n in known_entities.most_common(10): print(n)"
   ]
  },
  {
   "cell_type": "code",
   "execution_count": 8,
   "id": "2ee9d9f9",
   "metadata": {},
   "outputs": [
    {
     "name": "stdout",
     "output_type": "stream",
     "text": [
      "No training required: the model is deterministic.\n"
     ]
    },
    {
     "name": "stderr",
     "output_type": "stream",
     "text": [
      "100%|█████████████████████████████████████████████████████████████████████████████████████████████████████████████████████████████████████████████████████████████████| 5169/5169 [00:16<00:00, 321.50it/s]"
     ]
    },
    {
     "name": "stdout",
     "output_type": "stream",
     "text": [
      "('nate simington have rally tonight', 2)\n",
      "('state want trump announce groundbreake rule to lower prescription drug prices', 2)\n",
      "('joe biden abolish u.s. energy industry', 2)\n",
      "('biden not get vote amp', 2)\n",
      "('steve negron not allow would school choice', 2)\n",
      "('steve have complete endorsement', 2)\n",
      "('democrats steal carney', 2)\n",
      "('joe biden outsource carney', 2)\n",
      "('joe biden open border security', 2)\n",
      "('joe biden sacrifice border security', 2)\n"
     ]
    },
    {
     "name": "stderr",
     "output_type": "stream",
     "text": [
      "\n"
     ]
    }
   ],
   "source": [
    "from relatio.narrative_models import *\n",
    "from relatio.utils import prettify\n",
    "from collections import Counter\n",
    "\n",
    "m = NarrativeModel(model_type = 'deterministic',\n",
    "                   roles_considered = ['ARG0', 'B-V', 'B-ARGM-NEG', 'B-ARGM-MOD', 'ARG1', 'ARG2'],\n",
    "                   roles_with_entities = ['ARG0','ARG1','ARG2'],\n",
    "                   list_of_known_entities = list(known_entities),\n",
    "                   assignment_to_known_entities = 'character_matching',\n",
    "                   roles_with_embeddings = [['ARG0','ARG1','ARG2']],\n",
    "                   threshold = 1)    \n",
    "\n",
    "m.train(postproc_roles)\n",
    "narratives = m.predict(postproc_roles, progress_bar = True, prettify = False)\n",
    "\n",
    "pretty_narratives = []\n",
    "for n in narratives: \n",
    "    if n.get('ARG0') not in [\"\", None]:\n",
    "        if n.get('B-V') not in [\"\", None]:\n",
    "            if n.get('ARG1') not in [\"\", None]:\n",
    "                pretty_narratives.append(prettify(n))\n",
    "                \n",
    "pretty_narratives = Counter(pretty_narratives)\n",
    "for t in pretty_narratives.most_common(10): print(t)"
   ]
  },
  {
   "cell_type": "code",
   "execution_count": 9,
   "id": "4ae4b21f",
   "metadata": {
    "scrolled": true
   },
   "outputs": [
    {
     "name": "stdout",
     "output_type": "stream",
     "text": [
      "Focus on roles: ARG0\n",
      "Ignoring known entities...\n",
      "Embedding relevant phrases...\n"
     ]
    },
    {
     "name": "stderr",
     "output_type": "stream",
     "text": [
      "2022-02-28 18:41:23,498 - WARNING - py.warnings - /home/germain/Desktop/narratives/relatio/relatio/narrative_models.py:295: RuntimeWarning: Multiple labels for cluster 3- 2 shown: [('failing nytimes', 2), ('patriot canvassers', 2)]. First one is picked.\n",
      "  warnings.warn(\n",
      "\n",
      "2022-02-28 18:41:23,510 - WARNING - py.warnings - /home/germain/Desktop/narratives/relatio/relatio/narrative_models.py:295: RuntimeWarning: Multiple labels for cluster 4- 2 shown: [('poll watchers', 3), ('justice barrett', 3)]. First one is picked.\n",
      "  warnings.warn(\n",
      "\n"
     ]
    },
    {
     "name": "stdout",
     "output_type": "stream",
     "text": [
      "Clustering phrases into 10 clusters...\n",
      "Labeling the clusters by the most frequent phrases...\n",
      "Focus on roles: ARG1-ARG2\n",
      "Ignoring known entities...\n",
      "Embedding relevant phrases...\n",
      "Clustering phrases into 20 clusters...\n"
     ]
    },
    {
     "name": "stderr",
     "output_type": "stream",
     "text": [
      "2022-02-28 18:41:30,833 - WARNING - py.warnings - /home/germain/Desktop/narratives/relatio/relatio/narrative_models.py:295: RuntimeWarning: Multiple labels for cluster 19- 2 shown: [('taxes increase u.s. history', 3), ('bill', 3)]. First one is picked.\n",
      "  warnings.warn(\n",
      "\n"
     ]
    },
    {
     "name": "stdout",
     "output_type": "stream",
     "text": [
      "Labeling the clusters by the most frequent phrases...\n"
     ]
    },
    {
     "name": "stderr",
     "output_type": "stream",
     "text": [
      "100%|█████████████████████████████████████████████████████████████████████████████████████████████████████████████████████████████████████████████████████████████████| 5169/5169 [00:15<00:00, 329.26it/s]"
     ]
    },
    {
     "name": "stdout",
     "output_type": "stream",
     "text": [
      "('nate simington have rally tonight', 2)\n",
      "('state want trump announce groundbreake rule to lower prescription drug prices', 2)\n",
      "('joe biden abolish u.s. energy industry', 2)\n",
      "('biden not get vote amp', 2)\n",
      "('steve negron not allow would school choice', 2)\n",
      "('steve have complete endorsement', 2)\n",
      "('democrats steal carney', 2)\n",
      "('joe biden outsource carney', 2)\n",
      "('joe biden open border security', 2)\n",
      "('joe biden sacrifice border security', 2)\n"
     ]
    },
    {
     "name": "stderr",
     "output_type": "stream",
     "text": [
      "\n"
     ]
    }
   ],
   "source": [
    "m = NarrativeModel(model_type = 'static',\n",
    "                   roles_considered = ['ARG0', 'B-V', 'B-ARGM-NEG', 'B-ARGM-MOD', 'ARG1', 'ARG2'],\n",
    "                   roles_with_entities = ['ARG0','ARG1','ARG2'],\n",
    "                   list_of_known_entities = list(known_entities),\n",
    "                   assignment_to_known_entities = 'character_matching', \n",
    "                   roles_with_embeddings = [['ARG0'],['ARG1','ARG2']], # [['ARG0','ARG1','ARG2']]\n",
    "                   embeddings_model = None,\n",
    "                   threshold = 1,\n",
    "                   n_clusters = [10,20]) # [100]    \n",
    "\n",
    "m.train(postproc_roles, progress_bar = True, verbose = 0)\n",
    "narratives = m.predict(postproc_roles, progress_bar = True, prettify = False)\n",
    "\n",
    "pretty_narratives = []\n",
    "for n in narratives: \n",
    "    if n.get('ARG0') not in [\"\", None]:\n",
    "        if n.get('B-V') not in [\"\", None]:\n",
    "            if n.get('ARG1') not in [\"\", None]:\n",
    "                pretty_narratives.append(prettify(n))\n",
    "                \n",
    "pretty_narratives = Counter(pretty_narratives)\n",
    "for t in pretty_narratives.most_common(10): print(t)"
   ]
  },
  {
   "cell_type": "code",
   "execution_count": 10,
   "id": "8f10ce93",
   "metadata": {
    "scrolled": true
   },
   "outputs": [
    {
     "name": "stderr",
     "output_type": "stream",
     "text": [
      " 48%|████████████████████████████████████████████████████████████████████████████▊                                                                                    | 2467/5169 [00:07<00:07, 360.10it/s]2022-02-28 18:41:56,550 - WARNING - py.warnings - /home/germain/Desktop/narratives/relatio/relatio/narrative_models.py:383: RuntimeWarning: Multiple labels for cluster 0- 2 shown: [('it', 1), ('state it', 1)]. First one is picked.\n",
      "  warnings.warn(\n",
      "\n",
      "100%|█████████████████████████████████████████████████████████████████████████████████████████████████████████████████████████████████████████████████████████████████| 5169/5169 [00:15<00:00, 324.61it/s]\n",
      "100%|█████████████████████████████████████████████████████████████████████████████████████████████████████████████████████████████████████████████████████████████████| 5169/5169 [00:15<00:00, 333.34it/s]"
     ]
    },
    {
     "name": "stdout",
     "output_type": "stream",
     "text": [
      "('nate simington have rally tonight', 2)\n",
      "('state want trump announce groundbreake rule to lower prescription drug prices', 2)\n",
      "('joe biden abolish u.s. energy industry', 2)\n",
      "('biden not get vote amp', 2)\n",
      "('steve negron not allow would school choice', 2)\n",
      "('steve have complete endorsement', 2)\n",
      "('democrats steal carney', 2)\n",
      "('joe biden outsource carney', 2)\n",
      "('joe biden open border security', 2)\n",
      "('joe biden sacrifice border security', 2)\n"
     ]
    },
    {
     "name": "stderr",
     "output_type": "stream",
     "text": [
      "\n"
     ]
    }
   ],
   "source": [
    "m = NarrativeModel(model_type = 'dynamic',\n",
    "                   roles_considered = ['ARG0', 'B-V', 'B-ARGM-NEG', 'B-ARGM-MOD', 'ARG1', 'ARG2'],\n",
    "                   roles_with_entities = ['ARG0','ARG1','ARG2'],\n",
    "                   list_of_known_entities = list(known_entities),\n",
    "                   assignment_to_known_entities = 'character_matching',\n",
    "                   roles_with_embeddings = [['ARG0','ARG1','ARG2']],\n",
    "                   threshold = 1)    \n",
    "\n",
    "m.train(postproc_roles, progress_bar = True)\n",
    "narratives = m.predict(postproc_roles, progress_bar = True, prettify = False)\n",
    "\n",
    "pretty_narratives = []\n",
    "for n in narratives: \n",
    "    if n.get('ARG0') not in [\"\", None]:\n",
    "        if n.get('B-V') not in [\"\", None]:\n",
    "            if n.get('ARG1') not in [\"\", None]:\n",
    "                pretty_narratives.append(prettify(n))\n",
    "                \n",
    "pretty_narratives = Counter(pretty_narratives)\n",
    "for t in pretty_narratives.most_common(10): print(t)"
   ]
  },
  {
   "cell_type": "code",
   "execution_count": 11,
   "id": "d57e5099",
   "metadata": {},
   "outputs": [],
   "source": [
    "# To-do\n",
    "\n",
    "# Add user-written functions for the preprocessor\n",
    "# Add complete narratives filter\n",
    "# Add option to save and load the SRL "
   ]
  },
  {
   "cell_type": "code",
   "execution_count": 12,
   "id": "3f3fed35",
   "metadata": {},
   "outputs": [],
   "source": [
    "# Current differences with the previous wrapper\n",
    "\n",
    "# handling of verbs (dimension_reduce_verbs)\n",
    "# fit multiple kmeans models (n_clusters as a list of lists) --> With see with Elliott and Philine\n",
    "# document tracking (doc, sentence, statement, narrative)"
   ]
  }
 ],
 "metadata": {
  "kernelspec": {
   "display_name": "Python 3 (ipykernel)",
   "language": "python",
   "name": "python3"
  },
  "language_info": {
   "codemirror_mode": {
    "name": "ipython",
    "version": 3
   },
   "file_extension": ".py",
   "mimetype": "text/x-python",
   "name": "python",
   "nbconvert_exporter": "python",
   "pygments_lexer": "ipython3",
   "version": "3.8.10"
  }
 },
 "nbformat": 4,
 "nbformat_minor": 5
}
