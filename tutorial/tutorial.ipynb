{
 "cells": [
  {
   "cell_type": "markdown",
   "id": "10bb6bdd",
   "metadata": {},
   "source": [
    "# An introduction to `relatio` \n",
    "**Runtime $\\sim$ 1h**\n",
    "\n",
    "Original paper: [\"Text Semantics Capture Political and Economic Narratives\"](https://arxiv.org/abs/2108.01720)\n",
    "\n",
    "----------------------------\n",
    "\n",
    "This is a short demo of the package `relatio`.  It takes as input a text corpus and outputs a list of narrative statements. The pipeline is unsupervised: the user does not need to specify narratives beforehand. Narrative statements are defined as tuples of semantic roles with a (agent, verb, patient, attribute) structure. \n",
    "\n",
    "Here, we present the main wrapper functions to quickly obtain narrative statements from a corpus.\n",
    "\n",
    "----------------------------\n",
    "\n",
    "We provide datasets that have already been split into sentences and annotated by our team.\n",
    "\n",
    "The datasets are provided in three different formats:\n",
    " 1. `raw` (unprocessed)\n",
    " 2. `split_sentences` (as a list of sentences)\n",
    " 3. `srl` (as a list of annotated sentences by the semantic role labeler)\n",
    "\n",
    "In this tutorial, we work with the Trump Tweet Archive corpus.\n",
    "\n",
    "----------------------------"
   ]
  },
  {
   "cell_type": "code",
   "execution_count": 1,
   "id": "17886d5f",
   "metadata": {},
   "outputs": [
    {
     "name": "stderr",
     "output_type": "stream",
     "text": [
      "2022-03-02 18:20:43.010871: W tensorflow/stream_executor/platform/default/dso_loader.cc:64] Could not load dynamic library 'libcudart.so.11.0'; dlerror: libcudart.so.11.0: cannot open shared object file: No such file or directory\n",
      "2022-03-02 18:20:43.010890: I tensorflow/stream_executor/cuda/cudart_stub.cc:29] Ignore above cudart dlerror if you do not have a GPU set up on your machine.\n"
     ]
    }
   ],
   "source": [
    "# Catch warnings for an easy ride\n",
    "from relatio._logging import FileLogger\n",
    "logger = FileLogger(level = 'WARNING')"
   ]
  },
  {
   "cell_type": "code",
   "execution_count": 2,
   "id": "d1fe7218",
   "metadata": {},
   "outputs": [
    {
     "name": "stdout",
     "output_type": "stream",
     "text": [
      "\n",
      "    List of available datasets:\n",
      "\n",
      "    Trump Tweet Archive\n",
      "    - function call: load_trump_data()\n",
      "    - format: 'raw', 'split_sentences', 'srl_res'\n",
      "    - allennlp version: 0.9\n",
      "    - srl model: srl-model-2018.05.25.tar.gz\n",
      "    \n"
     ]
    }
   ],
   "source": [
    "# Browse list of available datasets\n",
    "from relatio.datasets import list_datasets\n",
    "print(list_datasets())\n",
    "\n",
    "# Load an available dataset\n",
    "from relatio.datasets import load_trump_data\n",
    "df = load_trump_data(\"raw\")"
   ]
  },
  {
   "cell_type": "markdown",
   "id": "7e04ad8d",
   "metadata": {},
   "source": [
    "## Step 1: Split into sentences\n",
    "\n",
    "----------------------------\n",
    "\n",
    "For any new corpus, the first thing you will want to do is to split the corpus into sentences.\n",
    "\n",
    "We do this on the first 100 tweets. \n",
    "\n",
    "The output is two lists: one with an index for the document and one with the resulting split sentences.\n",
    "\n",
    "----------------------------\n"
   ]
  },
  {
   "cell_type": "code",
   "execution_count": 3,
   "id": "d00439a4",
   "metadata": {
    "scrolled": true
   },
   "outputs": [
    {
     "name": "stdout",
     "output_type": "stream",
     "text": [
      "Splitting into sentences...\n"
     ]
    },
    {
     "name": "stderr",
     "output_type": "stream",
     "text": [
      "100%|███████████████████████████████████████████████████████████████████████████████████████████████████████████████████████████████████████████████████████████████████| 100/100 [00:00<00:00, 358.83it/s]\n"
     ]
    }
   ],
   "source": [
    "from relatio.preprocessing import *\n",
    "\n",
    "p = Preprocessor(\n",
    "    spacy_model = \"en_core_web_md\",\n",
    "    remove_punctuation = True,\n",
    "    remove_digits = True,\n",
    "    lowercase = True,\n",
    "    lemmatize = True,\n",
    "    stop_words = [],\n",
    "    n_process = -1,\n",
    "    batch_size = 100\n",
    ")\n",
    "\n",
    "split_sentences = p.split_into_sentences(\n",
    "    df.iloc[0:100], output_path='sentences.json', progress_bar=True\n",
    ")\n",
    "\n",
    "from relatio.utils import load_sentences\n",
    "doc_index, sentences = load_sentences('sentences.json')"
   ]
  },
  {
   "cell_type": "markdown",
   "id": "0fcd1100",
   "metadata": {},
   "source": [
    "## Step 2: Annotate semantic roles\n",
    "\n",
    "----------------------------\n",
    "\n",
    "Once the corpus is split into sentences. You can feed it to the semantic role labeler.\n",
    "\n",
    "The output is a list of json objects which contain the semantic role annotations for each sentence in the corpus.\n",
    "\n",
    "----------------------------\n"
   ]
  },
  {
   "cell_type": "code",
   "execution_count": 4,
   "id": "cacb0860",
   "metadata": {},
   "outputs": [
    {
     "name": "stdout",
     "output_type": "stream",
     "text": [
      "Running SRL...\n"
     ]
    },
    {
     "name": "stderr",
     "output_type": "stream",
     "text": [
      "100%|██████████████████████████████████████████████████████████████████████████████████████████████████████████████████████████████████████████████████████████████████████| 21/21 [00:05<00:00,  3.93it/s]\n"
     ]
    }
   ],
   "source": [
    "from relatio.semantic_role_labeling import *\n",
    "\n",
    "SRL = SRL(\n",
    "    path = \"https://storage.googleapis.com/allennlp-public-models/openie-model.2020.03.26.tar.gz\",\n",
    "    batch_size = 10,\n",
    "    cuda_device = -1\n",
    ")\n",
    "\n",
    "srl_res = SRL(split_sentences[1], progress_bar=True)"
   ]
  },
  {
   "cell_type": "code",
   "execution_count": 5,
   "id": "cc80c071",
   "metadata": {},
   "outputs": [
    {
     "data": {
      "text/plain": [
       "{'verbs': [{'verb': 'have',\n",
       "   'description': 'Republicans and Democrats [V: have] both created our economic problems .',\n",
       "   'tags': ['O', 'O', 'O', 'B-V', 'O', 'O', 'O', 'O', 'O', 'O']},\n",
       "  {'verb': 'created',\n",
       "   'description': '[ARG0: Republicans and Democrats] have both [V: created] [ARG1: our economic problems] .',\n",
       "   'tags': ['B-ARG0',\n",
       "    'I-ARG0',\n",
       "    'I-ARG0',\n",
       "    'O',\n",
       "    'O',\n",
       "    'B-V',\n",
       "    'B-ARG1',\n",
       "    'I-ARG1',\n",
       "    'I-ARG1',\n",
       "    'O']}],\n",
       " 'words': ['Republicans',\n",
       "  'and',\n",
       "  'Democrats',\n",
       "  'have',\n",
       "  'both',\n",
       "  'created',\n",
       "  'our',\n",
       "  'economic',\n",
       "  'problems',\n",
       "  '.']}"
      ]
     },
     "execution_count": 5,
     "metadata": {},
     "output_type": "execute_result"
    }
   ],
   "source": [
    "srl_res[0]"
   ]
  },
  {
   "cell_type": "markdown",
   "id": "c6e112b6",
   "metadata": {},
   "source": [
    "NB: This step is faster with a GPU. The argument cuda_device allows users to use their GPUs:\n",
    "\n",
    "```\n",
    "import torch\n",
    "print(torch.cuda.is_available())\n",
    "print(torch.cuda.current_device())\n",
    "\n",
    "SRL = SRL(\n",
    "    path = \"https://storage.googleapis.com/allennlp-public-models/openie-model.2020.03.26.tar.gz\",\n",
    "    batch_size = 10,\n",
    "    cuda_device = 0\n",
    ")\n",
    "\n",
    "srl_res = SRL(split_sentences[1], progress_bar=True)\n",
    "```"
   ]
  },
  {
   "cell_type": "code",
   "execution_count": 6,
   "id": "e546d4eb",
   "metadata": {},
   "outputs": [],
   "source": [
    "# To save us some time, we download the results from the datasets module.\n",
    "split_sentences = load_trump_data(\"split_sentences\")\n",
    "srl_res = load_trump_data(\"srl_res\")"
   ]
  },
  {
   "cell_type": "markdown",
   "id": "28629041",
   "metadata": {},
   "source": [
    "## Step 3: Pre-process semantic roles\n",
    "\n",
    "----------------------------\n",
    "\n",
    "\n",
    "----------------------------"
   ]
  },
  {
   "cell_type": "code",
   "execution_count": 7,
   "id": "3cb56070",
   "metadata": {
    "scrolled": true
   },
   "outputs": [
    {
     "name": "stdout",
     "output_type": "stream",
     "text": [
      "Extracting semantic roles...\n"
     ]
    },
    {
     "name": "stderr",
     "output_type": "stream",
     "text": [
      "100%|█████████████████████████████████████████████████████████████████████████████████████████████████████████████████████████████████████████████████████████████| 68616/68616 [00:01<00:00, 38474.10it/s]"
     ]
    },
    {
     "name": "stdout",
     "output_type": "stream",
     "text": [
      "{'B-V': 'have'}\n",
      "{'ARG0': 'Republicans and Democrats', 'ARG1': 'our economic problems', 'B-V': 'created'}\n",
      "{'ARG1': 'I', 'ARG2': 'thrilled to be back in the Great city of Charlotte , North Carolina with thousands of hardworking American Patriots who love our Country , cherish our values , respect our laws , and always put AMERICA FIRST', 'B-V': 'was'}\n",
      "{'ARG1': 'I', 'ARG2': 'to be back in the Great city of Charlotte , North Carolina with thousands of hardworking American Patriots who love our Country , cherish our values , respect our laws , and always put AMERICA FIRST', 'B-V': 'thrilled'}\n",
      "{'ARG1': 'I', 'ARG2': 'back in the Great city of Charlotte , North Carolina', 'B-V': 'be'}\n"
     ]
    },
    {
     "name": "stderr",
     "output_type": "stream",
     "text": [
      "\n"
     ]
    }
   ],
   "source": [
    "roles, sentence_index = p.extract_roles(\n",
    "    srl_res, \n",
    "    used_roles = [\"ARG0\",\"B-V\",\"B-ARGM-NEG\",\"B-ARGM-MOD\",\"ARG1\",\"ARG2\"],\n",
    "    progress_bar = True\n",
    ")\n",
    "\n",
    "for d in roles[0:5]: print(d)"
   ]
  },
  {
   "cell_type": "code",
   "execution_count": 8,
   "id": "478392f3",
   "metadata": {},
   "outputs": [
    {
     "name": "stdout",
     "output_type": "stream",
     "text": [
      "Cleaning roles ARG0...\n"
     ]
    },
    {
     "name": "stderr",
     "output_type": "stream",
     "text": [
      "100%|██████████████████████████████████████████████████████████████████████████████████████████████████████████████████████████████████████████████████████████████| 49281/49281 [00:20<00:00, 2406.24it/s]\n"
     ]
    },
    {
     "name": "stdout",
     "output_type": "stream",
     "text": [
      "Cleaning roles B-V...\n"
     ]
    },
    {
     "name": "stderr",
     "output_type": "stream",
     "text": [
      "100%|████████████████████████████████████████████████████████████████████████████████████████████████████████████████████████████████████████████████████████████| 135562/135562 [00:55<00:00, 2445.26it/s]\n"
     ]
    },
    {
     "name": "stdout",
     "output_type": "stream",
     "text": [
      "Cleaning roles B-ARGM-MOD...\n"
     ]
    },
    {
     "name": "stderr",
     "output_type": "stream",
     "text": [
      "100%|██████████████████████████████████████████████████████████████████████████████████████████████████████████████████████████████████████████████████████████████| 13752/13752 [00:05<00:00, 2465.16it/s]\n"
     ]
    },
    {
     "name": "stdout",
     "output_type": "stream",
     "text": [
      "Cleaning roles ARG1...\n"
     ]
    },
    {
     "name": "stderr",
     "output_type": "stream",
     "text": [
      "100%|██████████████████████████████████████████████████████████████████████████████████████████████████████████████████████████████████████████████████████████████| 88730/88730 [00:41<00:00, 2119.53it/s]\n"
     ]
    },
    {
     "name": "stdout",
     "output_type": "stream",
     "text": [
      "Cleaning roles ARG2...\n"
     ]
    },
    {
     "name": "stderr",
     "output_type": "stream",
     "text": [
      "100%|██████████████████████████████████████████████████████████████████████████████████████████████████████████████████████████████████████████████████████████████| 32132/32132 [00:15<00:00, 2124.04it/s]\n"
     ]
    },
    {
     "name": "stdout",
     "output_type": "stream",
     "text": [
      "{'B-V': 'have'}\n",
      "{'ARG0': 'republicans democrats', 'B-V': 'create', 'ARG1': 'problem'}\n",
      "{'B-V': '', 'ARG1': '', 'ARG2': 'city charlotte north carolina thousand patriots country value law america'}\n",
      "{'B-V': 'thrill', 'ARG1': '', 'ARG2': 'city charlotte north carolina thousand patriots country value law america'}\n",
      "{'B-V': '', 'ARG1': '', 'ARG2': 'city charlotte north carolina'}\n"
     ]
    }
   ],
   "source": [
    "postproc_roles = p.process_roles(roles, \n",
    "                                 dict_of_pos_tags_to_keep = {\n",
    "                                     \"ARG0\": ['NOUN', 'PROPN'],\n",
    "                                     \"B-V\": ['VERB'],\n",
    "                                     \"ARG1\": ['NOUN', 'PROPN'],\n",
    "                                     \"ARG2\": ['NOUN', 'PROPN']\n",
    "                                 }, \n",
    "                                 progress_bar = True,\n",
    "                                 output_path = 'postproc_roles.json')\n",
    "\n",
    "from relatio.utils import load_roles\n",
    "postproc_roles = load_roles('postproc_roles.json')\n",
    "\n",
    "for d in postproc_roles[0:5]: print(d)"
   ]
  },
  {
   "cell_type": "code",
   "execution_count": 9,
   "id": "2e627dfa",
   "metadata": {},
   "outputs": [
    {
     "name": "stdout",
     "output_type": "stream",
     "text": [
      "Mining named entities...\n"
     ]
    },
    {
     "name": "stderr",
     "output_type": "stream",
     "text": [
      "100%|██████████████████████████████████████████████████████████████████████████████████████████████████████████████████████████████████████████████████████████████| 68616/68616 [00:47<00:00, 1431.78it/s]\n"
     ]
    },
    {
     "name": "stdout",
     "output_type": "stream",
     "text": [
      "('democrats', 1180)\n",
      "('obama', 1029)\n",
      "('china', 926)\n",
      "('u.s.', 860)\n",
      "('trump', 836)\n",
      "('america', 672)\n",
      "('american', 542)\n",
      "('barackobama', 518)\n",
      "('the united states', 491)\n",
      "('dems', 476)\n"
     ]
    }
   ],
   "source": [
    "known_entities = p.mine_entities(\n",
    "    split_sentences[1], \n",
    "    clean_entities = True, \n",
    "    progress_bar = True,\n",
    "    output_path = 'entities.pkl'\n",
    ")\n",
    "\n",
    "from relatio.utils import load_entities\n",
    "known_entities = load_entities('entities.pkl')\n",
    "\n",
    "for n in known_entities.most_common(10): print(n)"
   ]
  },
  {
   "cell_type": "code",
   "execution_count": 10,
   "id": "8ad2f93b",
   "metadata": {},
   "outputs": [],
   "source": [
    "top_known_entities = [e[0] for e in list(known_entities.most_common(100)) if e[0] != '']"
   ]
  },
  {
   "cell_type": "markdown",
   "id": "21fc61ab",
   "metadata": {},
   "source": [
    "## Step 4: Build a narrative model\n",
    "\n",
    "----------------------------\n",
    "\n",
    "We are now ready to build a narrative model.\n",
    "\n",
    "----------------------------"
   ]
  },
  {
   "cell_type": "code",
   "execution_count": 11,
   "id": "2ee9d9f9",
   "metadata": {},
   "outputs": [
    {
     "name": "stdout",
     "output_type": "stream",
     "text": [
      "No training required: the model is deterministic.\n"
     ]
    }
   ],
   "source": [
    "from relatio.narrative_models import *\n",
    "from relatio.utils import prettify\n",
    "from collections import Counter\n",
    "\n",
    "m = NarrativeModel(model_type = 'deterministic',\n",
    "                   roles_considered = ['ARG0', 'B-V', 'B-ARGM-NEG', 'B-ARGM-MOD', 'ARG1', 'ARG2'],\n",
    "                   roles_with_entities = ['ARG0','ARG1','ARG2'],\n",
    "                   list_of_known_entities = top_known_entities,\n",
    "                   assignment_to_known_entities = 'character_matching',\n",
    "                   roles_with_embeddings = [],\n",
    "                   embeddings_model = None,\n",
    "                   threshold = 1)    \n",
    "\n",
    "m.train(postproc_roles)"
   ]
  },
  {
   "cell_type": "code",
   "execution_count": 12,
   "id": "5405c121",
   "metadata": {
    "scrolled": true
   },
   "outputs": [
    {
     "name": "stderr",
     "output_type": "stream",
     "text": [
      "100%|████████████████████████████████████████████████████████████████████████████████████████████████████████████████████████████████████████████████████████████| 150213/150213 [00:18<00:00, 7971.03it/s]"
     ]
    },
    {
     "name": "stdout",
     "output_type": "stream",
     "text": [
      "         73341893 function calls (72539214 primitive calls) in 19.927 seconds\n",
      "\n",
      "   Ordered by: standard name\n",
      "\n",
      "   ncalls  tottime  percall  cumtime  percall filename:lineno(function)\n",
      "        3    0.000    0.000    0.000    0.000 <frozen importlib._bootstrap>:1009(_handle_fromlist)\n",
      "        1    0.000    0.000   19.927   19.927 <string>:1(<module>)\n",
      "        1    0.000    0.000    0.000    0.000 _monitor.py:94(report)\n",
      "        1    0.000    0.000    0.000    0.000 _weakrefset.py:106(remove)\n",
      "        2    0.000    0.000    0.000    0.000 _weakrefset.py:16(__init__)\n",
      "        2    0.000    0.000    0.000    0.000 _weakrefset.py:20(__enter__)\n",
      "        2    0.000    0.000    0.000    0.000 _weakrefset.py:26(__exit__)\n",
      "        2    0.000    0.000    0.000    0.000 _weakrefset.py:52(_commit_removals)\n",
      "        3    0.000    0.000    0.000    0.000 _weakrefset.py:58(__iter__)\n",
      "        1    0.000    0.000    0.000    0.000 _weakrefset.py:81(add)\n",
      " 802680/1    0.525    0.000    1.078    1.078 copy.py:132(deepcopy)\n",
      "   652466    0.037    0.000    0.037    0.000 copy.py:190(_deepcopy_atomic)\n",
      "        1    0.045    0.045    1.078    1.078 copy.py:211(_deepcopy_list)\n",
      "   150213    0.199    0.000    0.773    0.000 copy.py:237(_deepcopy_dict)\n",
      "   150214    0.049    0.000    0.067    0.000 copy.py:253(_keep_alive)\n",
      "      751    0.001    0.000    0.012    0.000 iostream.py:208(schedule)\n",
      "        1    0.000    0.000    0.000    0.000 iostream.py:303(fileno)\n",
      "      188    0.000    0.000    0.000    0.000 iostream.py:420(_is_master_process)\n",
      "      188    0.000    0.000    0.002    0.000 iostream.py:439(_schedule_flush)\n",
      "      188    0.001    0.000    0.060    0.000 iostream.py:453(flush)\n",
      "      188    0.001    0.000    0.008    0.000 iostream.py:502(write)\n",
      "      751    0.000    0.000    0.000    0.000 iostream.py:97(_event_pipe)\n",
      "        1    0.217    0.217   19.927   19.927 narrative_models.py:126(predict)\n",
      "        1    0.000    0.000   19.927   19.927 narrative_models.py:508(predict)\n",
      "   170143    5.725    0.000   18.442    0.000 narrative_models.py:87(_process_srl_item_for_prediction)\n",
      "      751    0.009    0.000    0.009    0.000 socket.py:480(send)\n",
      "      189    0.000    0.000    0.001    0.000 std.py:104(acquire)\n",
      "      189    0.000    0.000    0.000    0.000 std.py:108(release)\n",
      "        4    0.000    0.000    0.000    0.000 std.py:112(__enter__)\n",
      "        1    0.000    0.000    0.000    0.000 std.py:1146(__del__)\n",
      "      186    0.001    0.000    0.027    0.000 std.py:1149(__str__)\n",
      "        4    0.000    0.000    0.000    0.000 std.py:115(__exit__)\n",
      "        2    0.000    0.000    0.000    0.000 std.py:1152(_comparable)\n",
      "        2    0.000    0.000    0.000    0.000 std.py:1156(__hash__)\n",
      "   150214    0.042    0.000    0.154    0.000 std.py:1159(__iter__)\n",
      "      184    0.001    0.000    0.110    0.001 std.py:1197(update)\n",
      "        2    0.000    0.000    0.001    0.000 std.py:1264(close)\n",
      "        2    0.000    0.000    0.000    0.000 std.py:1285(fp_write)\n",
      "        1    0.000    0.000    0.000    0.000 std.py:1300(<lambda>)\n",
      "      185    0.000    0.000    0.108    0.001 std.py:1324(refresh)\n",
      "      186    0.001    0.000    0.001    0.000 std.py:1445(format_dict)\n",
      "      186    0.001    0.000    0.107    0.001 std.py:1463(display)\n",
      "      186    0.000    0.000    0.000    0.000 std.py:155(__init__)\n",
      "      186    0.000    0.000    0.000    0.000 std.py:165(colour)\n",
      "      186    0.000    0.000    0.000    0.000 std.py:169(colour)\n",
      "      186    0.001    0.000    0.001    0.000 std.py:188(__format__)\n",
      "        3    0.000    0.000    0.000    0.000 std.py:228(__init__)\n",
      "     1105    0.001    0.000    0.001    0.000 std.py:233(__call__)\n",
      "      371    0.000    0.000    0.001    0.000 std.py:288(format_interval)\n",
      "        1    0.000    0.000    0.000    0.000 std.py:329(status_printer)\n",
      "      186    0.000    0.000    0.068    0.000 std.py:342(fp_write)\n",
      "      186    0.000    0.000    0.080    0.000 std.py:348(print_status)\n",
      "      186    0.004    0.000    0.025    0.000 std.py:355(format_meter)\n",
      "        1    0.000    0.000    0.000    0.000 std.py:560(__new__)\n",
      "        1    0.000    0.000    0.000    0.000 std.py:576(_get_free_pos)\n",
      "        1    0.000    0.000    0.000    0.000 std.py:579(<setcomp>)\n",
      "        1    0.000    0.000    0.000    0.000 std.py:583(_decr_instances)\n",
      "        1    0.000    0.000    0.000    0.000 std.py:657(get_lock)\n",
      "        1    0.000    0.000    0.001    0.001 std.py:846(__init__)\n",
      "      939    0.000    0.000    0.001    0.000 threading.py:1050(_wait_for_tstate_lock)\n",
      "      939    0.001    0.000    0.002    0.000 threading.py:1092(is_alive)\n",
      "      188    0.001    0.000    0.001    0.000 threading.py:216(__init__)\n",
      "      188    0.000    0.000    0.000    0.000 threading.py:240(__enter__)\n",
      "      188    0.000    0.000    0.000    0.000 threading.py:243(__exit__)\n",
      "      188    0.000    0.000    0.000    0.000 threading.py:249(_release_save)\n",
      "      188    0.000    0.000    0.000    0.000 threading.py:252(_acquire_restore)\n",
      "      188    0.000    0.000    0.000    0.000 threading.py:255(_is_owned)\n",
      "      188    0.001    0.000    0.051    0.000 threading.py:264(wait)\n",
      "      188    0.000    0.000    0.001    0.000 threading.py:499(__init__)\n",
      "      940    0.000    0.000    0.000    0.000 threading.py:507(is_set)\n",
      "      188    0.000    0.000    0.052    0.000 threading.py:534(wait)\n",
      "        3    0.000    0.000    0.000    0.000 utils.py:101(wrapper_setattr)\n",
      "        1    0.000    0.000    0.000    0.000 utils.py:105(__init__)\n",
      "        2    0.000    0.000    0.000    0.000 utils.py:136(disable_on_exception)\n",
      "      374    0.000    0.000    0.068    0.000 utils.py:143(inner)\n",
      " 16844157    8.143    0.000    9.037    0.000 utils.py:159(is_subsequence)\n",
      "        1    0.000    0.000    0.000    0.000 utils.py:162(__init__)\n",
      "        2    0.000    0.000    0.000    0.000 utils.py:171(__eq__)\n",
      "        1    0.000    0.000    0.000    0.000 utils.py:201(_is_utf)\n",
      "        1    0.000    0.000    0.000    0.000 utils.py:215(_supports_unicode)\n",
      "      372    0.001    0.000    0.001    0.000 utils.py:222(_is_ascii)\n",
      "        1    0.000    0.000    0.000    0.000 utils.py:231(_screen_shape_wrapper)\n",
      "        1    0.000    0.000    0.000    0.000 utils.py:282(_screen_shape_linux)\n",
      "      558    0.001    0.000    0.025    0.000 utils.py:329(_text_width)\n",
      "    84668    0.012    0.000    0.019    0.000 utils.py:330(<genexpr>)\n",
      "      558    0.000    0.000    0.026    0.000 utils.py:333(disp_len)\n",
      "      186    0.000    0.000    0.011    0.000 utils.py:341(disp_trim)\n",
      "      186    0.000    0.000    0.000    0.000 utils.py:57(__init__)\n",
      "      186    0.000    0.000    0.000    0.000 utils.py:61(__format__)\n",
      "        1    0.000    0.000    0.000    0.000 utils.py:74(__eq__)\n",
      "        2    0.000    0.000    0.000    0.000 utils.py:88(__getattr__)\n",
      "        1    0.000    0.000    0.000    0.000 {built-in method __new__ of type object at 0x55aee30b3d40}\n",
      "      188    0.000    0.000    0.000    0.000 {built-in method _imp.lock_held}\n",
      "      376    0.000    0.000    0.000    0.000 {built-in method _thread.allocate_lock}\n",
      "        2    0.000    0.000    0.000    0.000 {built-in method _weakref.proxy}\n",
      "      188    0.000    0.000    0.000    0.000 {built-in method builtins.abs}\n",
      "      928    0.000    0.000    0.000    0.000 {built-in method builtins.divmod}\n",
      "        1    0.000    0.000   19.927   19.927 {built-in method builtins.exec}\n",
      "        9    0.000    0.000    0.000    0.000 {built-in method builtins.getattr}\n",
      "      379    0.000    0.000    0.000    0.000 {built-in method builtins.hasattr}\n",
      "  1103111    0.068    0.000    0.068    0.000 {built-in method builtins.id}\n",
      "      560    0.000    0.000    0.000    0.000 {built-in method builtins.isinstance}\n",
      "   170705    0.010    0.000    0.010    0.000 {built-in method builtins.len}\n",
      "      372    0.000    0.000    0.000    0.000 {built-in method builtins.max}\n",
      "        1    0.000    0.000    0.000    0.000 {built-in method builtins.min}\n",
      "     3906    0.000    0.000    0.000    0.000 {built-in method builtins.ord}\n",
      "      558    0.006    0.000    0.024    0.000 {built-in method builtins.sum}\n",
      "        1    0.000    0.000    0.000    0.000 {built-in method fcntl.ioctl}\n",
      "      185    0.000    0.000    0.000    0.000 {built-in method now}\n",
      "      188    0.000    0.000    0.000    0.000 {built-in method posix.getpid}\n",
      "     4258    0.001    0.000    0.001    0.000 {built-in method time.time}\n",
      "    84110    0.007    0.000    0.007    0.000 {built-in method unicodedata.east_asian_width}\n",
      "        1    0.000    0.000    0.000    0.000 {built-in method utcfromtimestamp}\n",
      "      188    0.000    0.000    0.000    0.000 {method '__enter__' of '_thread.lock' objects}\n",
      "      188    0.000    0.000    0.000    0.000 {method '__exit__' of '_thread.lock' objects}\n",
      "      189    0.000    0.000    0.000    0.000 {method 'acquire' of '_multiprocessing.SemLock' objects}\n",
      "      189    0.000    0.000    0.000    0.000 {method 'acquire' of '_thread.RLock' objects}\n",
      "     1691    0.051    0.000    0.051    0.000 {method 'acquire' of '_thread.lock' objects}\n",
      "        3    0.000    0.000    0.000    0.000 {method 'add' of 'set' objects}\n",
      "      939    0.000    0.000    0.000    0.000 {method 'append' of 'collections.deque' objects}\n",
      "   338438    0.021    0.000    0.021    0.000 {method 'append' of 'list' objects}\n",
      "        1    0.000    0.000    0.000    0.000 {method 'difference' of 'set' objects}\n",
      "        1    0.000    0.000    0.000    0.000 {method 'disable' of '_lsprof.Profiler' objects}\n",
      "        1    0.000    0.000    0.000    0.000 {method 'encode' of 'str' objects}\n",
      "     1485    0.002    0.000    0.003    0.000 {method 'format' of 'str' objects}\n",
      "  1605360    0.126    0.000    0.126    0.000 {method 'get' of 'dict' objects}\n",
      " 16844157    0.894    0.000    0.894    0.000 {method 'issubset' of 'set' objects}\n",
      "   300426    0.024    0.000    0.024    0.000 {method 'items' of 'dict' objects}\n",
      "    31546    0.004    0.000    0.004    0.000 {method 'join' of 'str' objects}\n",
      "   138597    0.023    0.000    0.023    0.000 {method 'pop' of 'dict' objects}\n",
      "      189    0.000    0.000    0.000    0.000 {method 'release' of '_multiprocessing.SemLock' objects}\n",
      "      189    0.000    0.000    0.000    0.000 {method 'release' of '_thread.RLock' objects}\n",
      "      188    0.000    0.000    0.000    0.000 {method 'release' of '_thread.lock' objects}\n",
      "        3    0.000    0.000    0.000    0.000 {method 'remove' of 'set' objects}\n",
      " 33688314    3.662    0.000    3.662    0.000 {method 'split' of 'str' objects}\n",
      "      558    0.000    0.000    0.000    0.000 {method 'sub' of 're.Pattern' objects}\n",
      "      186    0.000    0.000    0.000    0.000 {method 'update' of 'dict' objects}\n",
      "\n",
      "\n"
     ]
    },
    {
     "name": "stderr",
     "output_type": "stream",
     "text": [
      "\n"
     ]
    }
   ],
   "source": [
    "import cProfile\n",
    "cProfile.run(\"narratives = m.predict(postproc_roles, progress_bar = True, prettify = False)\")"
   ]
  },
  {
   "cell_type": "code",
   "execution_count": 13,
   "id": "d10b113d",
   "metadata": {},
   "outputs": [
    {
     "name": "stdout",
     "output_type": "stream",
     "text": [
      "('administration do administration', 4)\n",
      "('china take u.s.', 4)\n",
      "('trump recognize russian', 3)\n",
      "('democrats want country', 3)\n",
      "('north carolina make republican', 3)\n",
      "('fake news trace coronavirus china', 3)\n",
      "('foxnews discuss barackobama', 3)\n",
      "('canada look china', 3)\n",
      "('foxnews discuss mittromney', 3)\n",
      "('iran take iraq', 3)\n"
     ]
    }
   ],
   "source": [
    "pretty_narratives = []\n",
    "for n in narratives: \n",
    "    if n.get('ARG0') not in [\"\", None]:\n",
    "        if n.get('B-V') not in [\"\", None]:\n",
    "            if n.get('ARG1') not in [\"\", None]:\n",
    "                pretty_narratives.append(prettify(n))\n",
    "                \n",
    "pretty_narratives = Counter(pretty_narratives)\n",
    "for t in pretty_narratives.most_common(10): print(t)"
   ]
  },
  {
   "cell_type": "code",
   "execution_count": 14,
   "id": "8f10ce93",
   "metadata": {
    "scrolled": true
   },
   "outputs": [
    {
     "name": "stderr",
     "output_type": "stream",
     "text": [
      "100%|█████████████████████████████████████████████████████████████████████████████████████████████████████████████████████████████████████████████████████████████| 150213/150213 [07:38<00:00, 327.67it/s]\n"
     ]
    }
   ],
   "source": [
    "m = NarrativeModel(model_type = 'dynamic',\n",
    "                   roles_considered = ['ARG0', 'B-V', 'B-ARGM-NEG', 'B-ARGM-MOD', 'ARG1', 'ARG2'],\n",
    "                   roles_with_entities = ['ARG0','ARG1','ARG2'],\n",
    "                   list_of_known_entities = top_known_entities,\n",
    "                   assignment_to_known_entities = 'character_matching',\n",
    "                   roles_with_embeddings = [['ARG0','ARG1','ARG2']],\n",
    "                   embeddings_model = None,\n",
    "                   threshold = 0.3)    \n",
    "\n",
    "m.train(postproc_roles, progress_bar = True)"
   ]
  },
  {
   "cell_type": "code",
   "execution_count": 15,
   "id": "54cc601a",
   "metadata": {
    "scrolled": true
   },
   "outputs": [
    {
     "name": "stderr",
     "output_type": "stream",
     "text": [
      " 36%|█████████████████████████████████████████████████████████▍                                                                                                    | 54588/150213 [04:19<07:33, 210.70it/s]\n"
     ]
    },
    {
     "name": "stdout",
     "output_type": "stream",
     "text": [
      "         61662054 function calls (58156029 primitive calls) in 260.035 seconds\n",
      "\n",
      "   Ordered by: standard name\n",
      "\n",
      "   ncalls  tottime  percall  cumtime  percall filename:lineno(function)\n",
      "    28758    0.041    0.000    0.701    0.000 <__array_function__ internals>:2(amin)\n",
      "    28759    0.025    0.000    0.144    0.000 <__array_function__ internals>:2(atleast_1d)\n",
      "    86277    0.085    0.000    0.502    0.000 <__array_function__ internals>:2(concatenate)\n",
      "    50677    0.050    0.000    0.166    0.000 <__array_function__ internals>:2(count_nonzero)\n",
      "    28759    0.025    0.000    0.117    0.000 <__array_function__ internals>:2(dot)\n",
      "    28759    0.031    0.000    0.510    0.000 <__array_function__ internals>:2(hstack)\n",
      "    28759    0.034    0.000    0.412    0.000 <__array_function__ internals>:2(norm)\n",
      "    28758    0.030    0.000    0.266    0.000 <__array_function__ internals>:2(where)\n",
      "        3    0.000    0.000    0.000    0.000 <frozen importlib._bootstrap>:1009(_handle_fromlist)\n",
      "        1    0.000    0.000  260.098  260.098 <string>:1(<module>)\n",
      "    50677    0.151    0.000    0.397    0.000 __init__.py:1000(__init__)\n",
      "    50677    0.095    0.000    0.232    0.000 _collections_abc.py:824(update)\n",
      "    50677    0.131    0.000    0.528    0.000 _dict_proxies.py:22(__init__)\n",
      "    50677    0.416    0.000   49.450    0.001 _embeddings.py:101(get_vector)\n",
      "    50677    0.043    0.000   48.086    0.001 _embeddings.py:141(_get_default_vector)\n",
      "    50677    0.231    0.000   48.043    0.001 _embeddings.py:178(_get_default_vector)\n",
      "    28759    0.016    0.000    0.016    0.000 _embeddings.py:91(normalize)\n",
      "    50677    0.017    0.000    0.017    0.000 _embeddings.py:95(use_sif)\n",
      "   172554    1.608    0.000    3.540    0.000 _methods.py:162(_mean)\n",
      "   143795    2.936    0.000    4.445    0.000 _methods.py:195(_var)\n",
      "   143795    0.058    0.000    0.757    0.000 _methods.py:46(_sum)\n",
      "    50677    0.023    0.000    0.211    0.000 _methods.py:54(_any)\n",
      "   316349    1.047    0.000    1.188    0.000 _methods.py:66(_count_reduce_items)\n",
      "        1    0.000    0.000    0.000    0.000 _monitor.py:94(report)\n",
      "   718975    0.285    0.000    0.285    0.000 _param_server.py:39(has_param)\n",
      "   718975    0.223    0.000    0.223    0.000 _param_server.py:45(get_param)\n",
      "        1    0.000    0.000    0.000    0.000 _weakrefset.py:106(remove)\n",
      "        2    0.000    0.000    0.000    0.000 _weakrefset.py:16(__init__)\n",
      "        2    0.000    0.000    0.000    0.000 _weakrefset.py:20(__enter__)\n",
      "        2    0.000    0.000    0.000    0.000 _weakrefset.py:26(__exit__)\n",
      "        2    0.000    0.000    0.000    0.000 _weakrefset.py:52(_commit_removals)\n",
      "        3    0.000    0.000    0.000    0.000 _weakrefset.py:58(__iter__)\n",
      "        1    0.000    0.000    0.000    0.000 _weakrefset.py:81(add)\n",
      "    50677    0.022    0.000    0.070    0.000 abc.py:137(__instancecheck__)\n",
      "   143795    0.260    0.000    0.296    0.000 array_getitem.py:37(forward)\n",
      "632698/28759    1.709    0.000   42.996    0.001 chain.py:48(forward)\n",
      "    28759    0.121    0.000    5.935    0.000 concatenate.py:43(forward)\n",
      "    28759    0.113    0.000    5.189    0.000 concatenate.py:44(<listcomp>)\n",
      "    28759    0.070    0.000    0.606    0.000 concatenate.py:53(_array_forward)\n",
      "    28759    0.027    0.000    0.027    0.000 concatenate.py:56(<listcomp>)\n",
      " 802680/1    0.499    0.000    1.017    1.017 copy.py:132(deepcopy)\n",
      "   652466    0.036    0.000    0.036    0.000 copy.py:190(_deepcopy_atomic)\n",
      "        1    0.040    0.040    1.017    1.017 copy.py:211(_deepcopy_list)\n",
      "   150213    0.188    0.000    0.735    0.000 copy.py:237(_deepcopy_dict)\n",
      "   150214    0.047    0.000    0.063    0.000 copy.py:253(_keep_alive)\n",
      "    28759    0.149    0.000  167.343    0.006 distance.py:2616(cdist)\n",
      "    50677    0.019    0.000    0.019    0.000 doc.pxd:44(__set__)\n",
      "    50677    0.378    0.000    0.906    0.000 doc.pyx:177(__init__)\n",
      "    81698    0.036    0.000    0.060    0.000 doc.pyx:476(__iter__)\n",
      "   152031    0.015    0.000    0.015    0.000 doc.pyx:489(__len__)\n",
      "    50677    0.214    0.000    0.829    0.000 doc.pyx:637(__get__)\n",
      "    52880    0.008    0.000    0.008    0.000 doc.pyx:897(__pyx_fuse_0push_back)\n",
      "       59    0.000    0.000    0.000    0.000 doc.pyx:897(__pyx_fuse_1push_back)\n",
      "    28759    0.014    0.000    0.326    0.000 doc.pyx:921(to_array (wrapper))\n",
      "    28759    0.313    0.000    0.313    0.000 doc.pyx:921(to_array)\n",
      "   143795    0.180    0.000    0.224    0.000 dropout.py:26(forward)\n",
      "    50677    0.125    0.000    0.238    0.000 errors.py:5(__getattribute__)\n",
      "   115036    0.367    0.000    1.116    0.000 expand_window.py:20(forward)\n",
      "    28759    0.110    0.000    0.594    0.000 featureextractor.py:13(forward)\n",
      "    28758    0.008    0.000    0.008    0.000 fromnumeric.py:2758(_amin_dispatcher)\n",
      "    28758    0.068    0.000    0.620    0.000 fromnumeric.py:2763(amin)\n",
      "    28758    0.089    0.000    0.551    0.000 fromnumeric.py:69(_wrapreduction)\n",
      "    28758    0.025    0.000    0.025    0.000 fromnumeric.py:70(<dictcomp>)\n",
      "   143795    1.947    0.000    4.115    0.000 hashembed.py:58(forward)\n",
      "     8687    0.021    0.000    0.135    0.000 iostream.py:208(schedule)\n",
      "        1    0.000    0.000    0.000    0.000 iostream.py:303(fileno)\n",
      "     2172    0.004    0.000    0.006    0.000 iostream.py:420(_is_master_process)\n",
      "     2172    0.004    0.000    0.018    0.000 iostream.py:439(_schedule_flush)\n",
      "     2172    0.012    0.000    0.820    0.000 iostream.py:453(flush)\n",
      "     2172    0.014    0.000    0.110    0.000 iostream.py:502(write)\n",
      "     8687    0.005    0.000    0.005    0.000 iostream.py:97(_event_pipe)\n",
      "    50677    0.082    0.000    1.346    0.000 language.py:1078(make_doc)\n",
      "    50677    0.063    0.000    1.431    0.000 language.py:1090(_ensure_doc)\n",
      "    50677    0.183    0.000    0.617    0.000 language.py:323(pipeline)\n",
      "    50677    0.094    0.000    0.094    0.000 language.py:331(<listcomp>)\n",
      "    50677    0.260    0.000   46.913    0.001 language.py:984(__call__)\n",
      "   143795    1.452    0.000   12.259    0.000 layernorm.py:24(forward)\n",
      "   143795    0.809    0.000    1.293    0.000 layernorm.py:60(_begin_update_scale_shift)\n",
      "   143795    0.779    0.000    9.515    0.000 layernorm.py:74(_get_moments)\n",
      "    28759    0.012    0.000    0.016    0.000 linalg.py:112(isComplexType)\n",
      "    28759    0.004    0.000    0.004    0.000 linalg.py:2359(_norm_dispatcher)\n",
      "    28759    0.186    0.000    0.350    0.000 linalg.py:2363(norm)\n",
      "    28759    0.110    0.000    0.666    0.000 list2ragged.py:21(forward)\n",
      "    28759    0.015    0.000    0.019    0.000 list2ragged.py:25(<listcomp>)\n",
      "   143795    1.919    0.000   16.837    0.000 maxout.py:42(forward)\n",
      "   862770    0.121    0.000    0.121    0.000 model.py:105(layers)\n",
      "   747734    0.114    0.000    0.114    0.000 model.py:116(attrs)\n",
      "   453303    0.150    0.000    0.150    0.000 model.py:168(get_dim)\n",
      "   718975    0.655    0.000    1.164    0.000 model.py:211(get_param)\n",
      "1754299/57518    1.174    0.000   42.892    0.001 model.py:288(__call__)\n",
      "    28759    0.398    0.000   43.393    0.002 model.py:311(predict)\n",
      "    86277    0.016    0.000    0.016    0.000 multiarray.py:148(concatenate)\n",
      "    28758    0.008    0.000    0.008    0.000 multiarray.py:341(where)\n",
      "    28759    0.006    0.000    0.006    0.000 multiarray.py:736(dot)\n",
      "        1    0.218    0.218  260.098  260.098 narrative_models.py:126(predict)\n",
      "        1    0.000    0.000  260.098  260.098 narrative_models.py:508(predict)\n",
      "    28759    0.096    0.000  167.932    0.006 narrative_models.py:82(compute_distances)\n",
      "    62215    3.158    0.000  257.290    0.004 narrative_models.py:87(_process_srl_item_for_prediction)\n",
      "    50677    0.010    0.000    0.010    0.000 numeric.py:421(_count_nonzero_dispatcher)\n",
      "    50677    0.027    0.000    0.060    0.000 numeric.py:425(count_nonzero)\n",
      "   143795    0.972    0.000    0.994    0.000 numpy_ops.pyx:144(maxout)\n",
      "   115036    0.235    0.000    0.550    0.000 numpy_ops.pyx:185(seq2col)\n",
      "   143795    0.245    0.000    0.457    0.000 numpy_ops.pyx:207(hash)\n",
      "   230072    0.908    0.000    0.908    0.000 numpy_ops.pyx:63(asarray)\n",
      "   280749    0.538    0.000    0.538    0.000 numpy_ops.pyx:79(alloc)\n",
      "   143795   11.816    0.000   12.008    0.000 numpy_ops.pyx:82(gemm)\n",
      "    57518    0.255    0.000    0.716    0.000 ops.py:214(flatten)\n",
      "    57518    0.026    0.000    0.026    0.000 ops.py:226(<listcomp>)\n",
      "    57518    0.393    0.000    0.418    0.000 ops.py:241(unflatten)\n",
      "   143795    0.112    0.000    0.469    0.000 ops.py:434(reshape1f)\n",
      "   143795    0.094    0.000    0.422    0.000 ops.py:437(reshape2f)\n",
      "   143795    0.101    0.000    0.325    0.000 ops.py:440(reshape3f)\n",
      "   431385    0.386    0.000    0.883    0.000 ops.py:466(reshape)\n",
      "   143795    0.251    0.000    0.899    0.000 ops.py:504(asarray_f)\n",
      "    57518    0.083    0.000    0.314    0.000 ops.py:512(asarray1i)\n",
      "    28759    0.067    0.000    0.121    0.000 ops.py:517(asarray2i)\n",
      "   431385    0.399    0.000    0.504    0.000 ops.py:559(as_contig)\n",
      "   101354    0.075    0.000    0.075    0.000 pipe.pyx:133(get_error_handler)\n",
      "    28759    0.052    0.000    0.291    0.000 ragged2list.py:18(forward)\n",
      "   115036    0.443    0.000   25.695    0.000 residual.py:27(forward)\n",
      "    28759    0.004    0.000    0.004    0.000 shape_base.py:19(_atleast_1d_dispatcher)\n",
      "    28759    0.013    0.000    0.026    0.000 shape_base.py:207(_arrays_for_stack_dispatcher)\n",
      "    28759    0.017    0.000    0.043    0.000 shape_base.py:218(_vhstack_dispatcher)\n",
      "    28759    0.069    0.000    0.097    0.000 shape_base.py:23(atleast_1d)\n",
      "    28759    0.077    0.000    0.408    0.000 shape_base.py:285(hstack)\n",
      "     8687    0.087    0.000    0.087    0.000 socket.py:480(send)\n",
      "     2173    0.006    0.000    0.010    0.000 std.py:104(acquire)\n",
      "     2173    0.005    0.000    0.006    0.000 std.py:108(release)\n",
      "        4    0.000    0.000    0.000    0.000 std.py:112(__enter__)\n",
      "     2170    0.010    0.000    0.344    0.000 std.py:1149(__str__)\n",
      "        4    0.000    0.000    0.000    0.000 std.py:115(__exit__)\n",
      "        2    0.000    0.000    0.000    0.000 std.py:1152(_comparable)\n",
      "        2    0.000    0.000    0.000    0.000 std.py:1156(__hash__)\n",
      "    54590    0.067    0.000    1.556    0.000 std.py:1159(__iter__)\n",
      "     2168    0.021    0.000    1.484    0.001 std.py:1197(update)\n",
      "        1    0.000    0.000    0.001    0.001 std.py:1264(close)\n",
      "        2    0.000    0.000    0.000    0.000 std.py:1285(fp_write)\n",
      "        1    0.000    0.000    0.000    0.000 std.py:1300(<lambda>)\n",
      "     2169    0.007    0.000    1.449    0.001 std.py:1324(refresh)\n",
      "     2170    0.011    0.000    0.014    0.000 std.py:1445(format_dict)\n",
      "     2170    0.008    0.000    1.426    0.001 std.py:1463(display)\n",
      "     2170    0.004    0.000    0.005    0.000 std.py:155(__init__)\n",
      "     2170    0.001    0.000    0.001    0.000 std.py:165(colour)\n",
      "     2170    0.001    0.000    0.001    0.000 std.py:169(colour)\n",
      "     2170    0.008    0.000    0.009    0.000 std.py:188(__format__)\n",
      "        3    0.000    0.000    0.000    0.000 std.py:228(__init__)\n",
      "    13009    0.016    0.000    0.016    0.000 std.py:233(__call__)\n",
      "     4339    0.006    0.000    0.016    0.000 std.py:288(format_interval)\n",
      "        1    0.000    0.000    0.000    0.000 std.py:329(status_printer)\n",
      "     2170    0.006    0.000    0.943    0.000 std.py:342(fp_write)\n",
      "     2170    0.006    0.000    1.073    0.000 std.py:348(print_status)\n",
      "     2170    0.058    0.000    0.320    0.000 std.py:355(format_meter)\n",
      "        1    0.000    0.000    0.000    0.000 std.py:560(__new__)\n",
      "        1    0.000    0.000    0.000    0.000 std.py:576(_get_free_pos)\n",
      "        1    0.000    0.000    0.000    0.000 std.py:579(<setcomp>)\n",
      "        1    0.000    0.000    0.000    0.000 std.py:583(_decr_instances)\n",
      "        1    0.000    0.000    0.000    0.000 std.py:657(get_lock)\n",
      "        1    0.000    0.000    0.001    0.001 std.py:846(__init__)\n",
      "   402626    0.188    0.000    0.188    0.000 stringsource:345(__cinit__)\n",
      "   402626    0.056    0.000    0.056    0.000 stringsource:372(__dealloc__)\n",
      "   402626    0.259    0.000    0.447    0.000 stringsource:657(memoryview_cwrapper)\n",
      "   402626    0.065    0.000    0.065    0.000 stringsource:663(memoryview_check)\n",
      "    10859    0.005    0.000    0.010    0.000 threading.py:1050(_wait_for_tstate_lock)\n",
      "    10859    0.012    0.000    0.023    0.000 threading.py:1092(is_alive)\n",
      "     2172    0.012    0.000    0.012    0.000 threading.py:216(__init__)\n",
      "     2172    0.001    0.000    0.002    0.000 threading.py:240(__enter__)\n",
      "     2172    0.001    0.000    0.002    0.000 threading.py:243(__exit__)\n",
      "     2169    0.001    0.000    0.002    0.000 threading.py:249(_release_save)\n",
      "     2169    0.001    0.000    0.002    0.000 threading.py:252(_acquire_restore)\n",
      "     2169    0.001    0.000    0.002    0.000 threading.py:255(_is_owned)\n",
      "     2169    0.008    0.000    0.730    0.000 threading.py:264(wait)\n",
      "     2172    0.004    0.000    0.017    0.000 threading.py:499(__init__)\n",
      "    10860    0.002    0.000    0.002    0.000 threading.py:507(is_set)\n",
      "     2172    0.006    0.000    0.739    0.000 threading.py:534(wait)\n",
      "    50677    0.207    0.000   44.147    0.001 tok2vec.py:112(predict)\n",
      "   101354    0.034    0.000    0.064    0.000 tok2vec.py:121(<genexpr>)\n",
      "    21918    0.043    0.000    0.090    0.000 tok2vec.py:124(<listcomp>)\n",
      "    50677    0.106    0.000    0.151    0.000 tok2vec.py:131(set_annotations)\n",
      "    28759    0.029    0.000    0.251    0.000 tok2vec.py:256(get_batch_id)\n",
      "    57518    0.038    0.000    0.197    0.000 tok2vec.py:261(<genexpr>)\n",
      "    28759    0.036    0.000    0.091    0.000 tok2vec.py:66(listeners)\n",
      "    28759    0.007    0.000    0.007    0.000 tok2vec.py:71(<listcomp>)\n",
      "    28759    0.042    0.000    0.048    0.000 tok2vec.py:73(listening_components)\n",
      "    52939    0.024    0.000    0.024    0.000 token.pxd:21(cinit)\n",
      "       40    0.000    0.000    0.000    0.000 tokenizer.pyx:106(__get__)\n",
      "    50677    0.042    0.000    1.257    0.000 tokenizer.pyx:135(__call__)\n",
      "    50677    0.206    0.000    1.164    0.000 tokenizer.pyx:148(_tokenize_affixes)\n",
      "    50677    0.052    0.000    0.052    0.000 tokenizer.pyx:226(_apply_special_cases)\n",
      "    52784    0.044    0.000    0.052    0.000 tokenizer.pyx:347(_try_specials_and_cache)\n",
      "       20    0.000    0.000    0.001    0.000 tokenizer.pyx:376(_tokenize)\n",
      "       20    0.000    0.000    0.000    0.000 tokenizer.pyx:388(_split_affixes)\n",
      "       20    0.000    0.000    0.000    0.000 tokenizer.pyx:433(_attach_tokens)\n",
      "       20    0.000    0.000    0.000    0.000 tokenizer.pyx:495(_save_cached)\n",
      "       20    0.000    0.000    0.000    0.000 tokenizer.pyx:516(find_infix)\n",
      "       20    0.000    0.000    0.000    0.000 tokenizer.pyx:530(find_prefix)\n",
      "       20    0.000    0.000    0.000    0.000 tokenizer.pyx:544(find_suffix)\n",
      "       40    0.000    0.000    0.000    0.000 tokenizer.pyx:74(__get__)\n",
      "       40    0.000    0.000    0.000    0.000 tokenizer.pyx:82(__get__)\n",
      "       40    0.000    0.000    0.000    0.000 tokenizer.pyx:90(__get__)\n",
      "       40    0.000    0.000    0.000    0.000 tokenizer.pyx:98(__get__)\n",
      "    72595    0.008    0.000    0.008    0.000 trainable_pipe.pxd:6(__get__)\n",
      "    50677    0.150    0.000   44.467    0.001 trainable_pipe.pyx:40(__call__)\n",
      "    86277    0.197    0.000    0.306    0.000 types.py:846(__init__)\n",
      "    86277    0.080    0.000    0.137    0.000 types.py:855(dataXd)\n",
      "    86277    0.090    0.000    0.376    0.000 typing.py:248(inner)\n",
      "    57518    0.021    0.000    0.026    0.000 typing.py:322(__hash__)\n",
      "   115036    0.034    0.000    0.047    0.000 typing.py:481(__hash__)\n",
      "172554/57518    0.143    0.000    0.285    0.000 typing.py:669(__hash__)\n",
      "  1696781    0.136    0.000    0.136    0.000 typing.py:898(cast)\n",
      "    50677    0.060    0.000    0.060    0.000 util.py:219(__init__)\n",
      "   108195    0.057    0.000    0.083    0.000 util.py:57(get_array_module)\n",
      "   108195    0.026    0.000    0.026    0.000 util.py:91(is_cupy_array)\n",
      "        3    0.000    0.000    0.000    0.000 utils.py:101(wrapper_setattr)\n",
      "        1    0.000    0.000    0.000    0.000 utils.py:105(__init__)\n",
      "        2    0.000    0.000    0.000    0.000 utils.py:136(disable_on_exception)\n",
      "     4342    0.007    0.000    0.937    0.000 utils.py:143(inner)\n",
      "  6159285    3.145    0.000    3.500    0.000 utils.py:159(is_subsequence)\n",
      "        1    0.000    0.000    0.000    0.000 utils.py:162(__init__)\n",
      "        2    0.000    0.000    0.000    0.000 utils.py:171(__eq__)\n",
      "        1    0.000    0.000    0.000    0.000 utils.py:201(_is_utf)\n",
      "        1    0.000    0.000    0.000    0.000 utils.py:215(_supports_unicode)\n",
      "     4340    0.009    0.000    0.013    0.000 utils.py:222(_is_ascii)\n",
      "        1    0.000    0.000    0.000    0.000 utils.py:231(_screen_shape_wrapper)\n",
      "        1    0.000    0.000    0.000    0.000 utils.py:282(_screen_shape_linux)\n",
      "     6510    0.006    0.000    0.293    0.000 utils.py:329(_text_width)\n",
      "   984766    0.142    0.000    0.223    0.000 utils.py:330(<genexpr>)\n",
      "     6510    0.006    0.000    0.305    0.000 utils.py:333(disp_len)\n",
      "     2170    0.002    0.000    0.131    0.000 utils.py:341(disp_trim)\n",
      "     2170    0.001    0.000    0.001    0.000 utils.py:57(__init__)\n",
      "     2170    0.001    0.000    0.001    0.000 utils.py:61(__format__)\n",
      "        1    0.000    0.000    0.000    0.000 utils.py:74(__eq__)\n",
      "        2    0.000    0.000    0.000    0.000 utils.py:88(__getattr__)\n",
      "       20    0.000    0.000    0.000    0.000 vocab.pyx:141(get)\n",
      "    21918    0.016    0.000    0.017    0.000 vocab.pyx:285(__get__)\n",
      "   101354    0.012    0.000    0.012    0.000 vocab.pyx:86(__get__)\n",
      "    86277    0.241    0.000   40.988    0.000 with_array.py:28(forward)\n",
      "    28759    0.176    0.000   26.971    0.001 with_array.py:69(_list_forward)\n",
      "    28759    0.016    0.000    0.019    0.000 with_array.py:74(<listcomp>)\n",
      "    57518    0.159    0.000   13.368    0.000 with_array.py:86(_ragged_forward)\n",
      "        1    0.000    0.000    0.000    0.000 {built-in method __new__ of type object at 0x55aee30b3d40}\n",
      "    50677    0.048    0.000    0.048    0.000 {built-in method _abc._abc_instancecheck}\n",
      "     2172    0.001    0.000    0.001    0.000 {built-in method _imp.lock_held}\n",
      "     4341    0.002    0.000    0.002    0.000 {built-in method _thread.allocate_lock}\n",
      "    21918    0.073    0.000    0.073    0.000 {built-in method _warnings.warn}\n",
      "        2    0.000    0.000    0.000    0.000 {built-in method _weakref.proxy}\n",
      "     2172    0.001    0.000    0.001    0.000 {built-in method builtins.abs}\n",
      "    50677    0.030    0.000    0.081    0.000 {built-in method builtins.any}\n",
      "    28759    0.005    0.000    0.005    0.000 {built-in method builtins.callable}\n",
      "    10848    0.002    0.000    0.002    0.000 {built-in method builtins.divmod}\n",
      "        1    0.000    0.000  260.098  260.098 {built-in method builtins.exec}\n",
      "        9    0.000    0.000    0.000    0.000 {built-in method builtins.getattr}\n",
      "   213896    0.068    0.000    0.068    0.000 {built-in method builtins.hasattr}\n",
      "345108/172554    0.088    0.000    0.142    0.000 {built-in method builtins.hash}\n",
      "  1103111    0.064    0.000    0.064    0.000 {built-in method builtins.id}\n",
      "  1970360    0.355    0.000    0.425    0.000 {built-in method builtins.isinstance}\n",
      "   690216    0.119    0.000    0.119    0.000 {built-in method builtins.issubclass}\n",
      "  1235561    0.179    0.000    0.190    0.000 {built-in method builtins.len}\n",
      "     4340    0.002    0.000    0.002    0.000 {built-in method builtins.max}\n",
      "    28759   30.905    0.001   30.905    0.001 {built-in method builtins.min}\n",
      "    45570    0.003    0.000    0.003    0.000 {built-in method builtins.ord}\n",
      "64028/35269    0.125    0.000    0.509    0.000 {built-in method builtins.sum}\n",
      "        1    0.000    0.000    0.000    0.000 {built-in method fcntl.ioctl}\n",
      "     2169    0.007    0.000    0.007    0.000 {built-in method now}\n",
      "    50677    0.071    0.000    0.071    0.000 {built-in method numpy.array}\n",
      "   603939    0.073    0.000    0.073    0.000 {built-in method numpy.asanyarray}\n",
      "    86277    0.010    0.000    0.010    0.000 {built-in method numpy.asarray}\n",
      "    63150    0.105    0.000    0.105    0.000 {built-in method numpy.ascontiguousarray}\n",
      "    50677    0.033    0.000    0.033    0.000 {built-in method numpy.core._multiarray_umath.count_nonzero}\n",
      "309506/223229    0.862    0.000    2.043    0.000 {built-in method numpy.core._multiarray_umath.implement_array_function}\n",
      "   316349    0.085    0.000    0.085    0.000 {built-in method numpy.core._multiarray_umath.normalize_axis_index}\n",
      "    57518    0.061    0.000    0.061    0.000 {built-in method numpy.zeros}\n",
      "     2172    0.003    0.000    0.003    0.000 {built-in method posix.getpid}\n",
      "    28759  167.150    0.006  167.150    0.006 {built-in method scipy.spatial._distance_pybind.cdist_euclidean}\n",
      "    14929    0.005    0.000    0.005    0.000 {built-in method time.time}\n",
      "   978256    0.082    0.000    0.082    0.000 {built-in method unicodedata.east_asian_width}\n",
      "        1    0.000    0.000    0.000    0.000 {built-in method utcfromtimestamp}\n",
      "     2172    0.001    0.000    0.001    0.000 {method '__enter__' of '_thread.lock' objects}\n",
      "     2172    0.000    0.000    0.000    0.000 {method '__exit__' of '_thread.lock' objects}\n",
      "     2173    0.003    0.000    0.003    0.000 {method 'acquire' of '_multiprocessing.SemLock' objects}\n",
      "     2173    0.001    0.000    0.001    0.000 {method 'acquire' of '_thread.RLock' objects}\n",
      "    19535    0.722    0.000    0.722    0.000 {method 'acquire' of '_thread.lock' objects}\n",
      "        3    0.000    0.000    0.000    0.000 {method 'add' of 'set' objects}\n",
      "    50677    0.047    0.000    0.257    0.000 {method 'any' of 'numpy.ndarray' objects}\n",
      "    10856    0.002    0.000    0.002    0.000 {method 'append' of 'collections.deque' objects}\n",
      "  2039634    0.174    0.000    0.174    0.000 {method 'append' of 'list' objects}\n",
      "        1    0.000    0.000    0.000    0.000 {method 'difference' of 'set' objects}\n",
      "        1    0.000    0.000    0.000    0.000 {method 'disable' of '_lsprof.Profiler' objects}\n",
      "        1    0.000    0.000    0.000    0.000 {method 'encode' of 'str' objects}\n",
      "    28758    0.462    0.000    0.462    0.000 {method 'flatten' of 'numpy.ndarray' objects}\n",
      "   118711    0.166    0.000    0.176    0.000 {method 'format' of 'str' objects}\n",
      "  1684796    0.140    0.000    0.140    0.000 {method 'get' of 'dict' objects}\n",
      "    50677    0.038    0.000    0.094    0.000 {method 'get_error_handler' of 'spacy.pipeline.pipe.Pipe' objects}\n",
      "  6159285    0.355    0.000    0.355    0.000 {method 'issubset' of 'set' objects}\n",
      "   284237    0.030    0.000    0.030    0.000 {method 'items' of 'dict' objects}\n",
      "    11538    0.002    0.000    0.002    0.000 {method 'join' of 'str' objects}\n",
      "    28759    0.005    0.000    0.005    0.000 {method 'keys' of 'dict' objects}\n",
      "    28759    0.011    0.000    0.011    0.000 {method 'lower' of 'str' objects}\n",
      "   143795    0.181    0.000    3.181    0.000 {method 'mean' of 'numpy.ndarray' objects}\n",
      "    21918    0.009    0.000    0.009    0.000 {method 'pop' of 'dict' objects}\n",
      "    28759    0.020    0.000    0.020    0.000 {method 'ravel' of 'numpy.ndarray' objects}\n",
      "   683374    3.349    0.000    3.349    0.000 {method 'reduce' of 'numpy.ufunc' objects}\n",
      "     2173    0.001    0.000    0.001    0.000 {method 'release' of '_multiprocessing.SemLock' objects}\n",
      "     2173    0.001    0.000    0.001    0.000 {method 'release' of '_thread.RLock' objects}\n",
      "     2169    0.001    0.000    0.001    0.000 {method 'release' of '_thread.lock' objects}\n",
      "        3    0.000    0.000    0.000    0.000 {method 'remove' of 'set' objects}\n",
      "   632698    0.552    0.000    0.552    0.000 {method 'reshape' of 'numpy.ndarray' objects}\n",
      " 12369247    1.361    0.000    1.361    0.000 {method 'split' of 'str' objects}\n",
      "    50677    0.019    0.000    0.019    0.000 {method 'startswith' of 'str' objects}\n",
      "     6510    0.006    0.000    0.006    0.000 {method 'sub' of 're.Pattern' objects}\n",
      "   143795    0.133    0.000    0.890    0.000 {method 'sum' of 'numpy.ndarray' objects}\n",
      "    28759    0.017    0.000    0.343    0.000 {method 'to_array' of 'spacy.tokens.doc.Doc' objects}\n",
      "     2170    0.001    0.000    0.001    0.000 {method 'update' of 'dict' objects}\n",
      "   143795    0.202    0.000    4.647    0.000 {method 'var' of 'numpy.ndarray' objects}\n",
      "\n",
      "\n"
     ]
    },
    {
     "ename": "KeyboardInterrupt",
     "evalue": "",
     "output_type": "error",
     "traceback": [
      "\u001b[0;31m---------------------------------------------------------------------------\u001b[0m",
      "\u001b[0;31mKeyboardInterrupt\u001b[0m                         Traceback (most recent call last)",
      "\u001b[0;32m/tmp/ipykernel_256731/3845057126.py\u001b[0m in \u001b[0;36m<module>\u001b[0;34m\u001b[0m\n\u001b[0;32m----> 1\u001b[0;31m \u001b[0mcProfile\u001b[0m\u001b[0;34m.\u001b[0m\u001b[0mrun\u001b[0m\u001b[0;34m(\u001b[0m\u001b[0;34m\"narratives = m.predict(postproc_roles, progress_bar = True, prettify = False)\"\u001b[0m\u001b[0;34m)\u001b[0m\u001b[0;34m\u001b[0m\u001b[0;34m\u001b[0m\u001b[0m\n\u001b[0m",
      "\u001b[0;32m/usr/lib/python3.7/cProfile.py\u001b[0m in \u001b[0;36mrun\u001b[0;34m(statement, filename, sort)\u001b[0m\n\u001b[1;32m     14\u001b[0m \u001b[0;34m\u001b[0m\u001b[0m\n\u001b[1;32m     15\u001b[0m \u001b[0;32mdef\u001b[0m \u001b[0mrun\u001b[0m\u001b[0;34m(\u001b[0m\u001b[0mstatement\u001b[0m\u001b[0;34m,\u001b[0m \u001b[0mfilename\u001b[0m\u001b[0;34m=\u001b[0m\u001b[0;32mNone\u001b[0m\u001b[0;34m,\u001b[0m \u001b[0msort\u001b[0m\u001b[0;34m=\u001b[0m\u001b[0;34m-\u001b[0m\u001b[0;36m1\u001b[0m\u001b[0;34m)\u001b[0m\u001b[0;34m:\u001b[0m\u001b[0;34m\u001b[0m\u001b[0;34m\u001b[0m\u001b[0m\n\u001b[0;32m---> 16\u001b[0;31m     \u001b[0;32mreturn\u001b[0m \u001b[0m_pyprofile\u001b[0m\u001b[0;34m.\u001b[0m\u001b[0m_Utils\u001b[0m\u001b[0;34m(\u001b[0m\u001b[0mProfile\u001b[0m\u001b[0;34m)\u001b[0m\u001b[0;34m.\u001b[0m\u001b[0mrun\u001b[0m\u001b[0;34m(\u001b[0m\u001b[0mstatement\u001b[0m\u001b[0;34m,\u001b[0m \u001b[0mfilename\u001b[0m\u001b[0;34m,\u001b[0m \u001b[0msort\u001b[0m\u001b[0;34m)\u001b[0m\u001b[0;34m\u001b[0m\u001b[0;34m\u001b[0m\u001b[0m\n\u001b[0m\u001b[1;32m     17\u001b[0m \u001b[0;34m\u001b[0m\u001b[0m\n\u001b[1;32m     18\u001b[0m \u001b[0;32mdef\u001b[0m \u001b[0mrunctx\u001b[0m\u001b[0;34m(\u001b[0m\u001b[0mstatement\u001b[0m\u001b[0;34m,\u001b[0m \u001b[0mglobals\u001b[0m\u001b[0;34m,\u001b[0m \u001b[0mlocals\u001b[0m\u001b[0;34m,\u001b[0m \u001b[0mfilename\u001b[0m\u001b[0;34m=\u001b[0m\u001b[0;32mNone\u001b[0m\u001b[0;34m,\u001b[0m \u001b[0msort\u001b[0m\u001b[0;34m=\u001b[0m\u001b[0;34m-\u001b[0m\u001b[0;36m1\u001b[0m\u001b[0;34m)\u001b[0m\u001b[0;34m:\u001b[0m\u001b[0;34m\u001b[0m\u001b[0;34m\u001b[0m\u001b[0m\n",
      "\u001b[0;32m/usr/lib/python3.7/profile.py\u001b[0m in \u001b[0;36mrun\u001b[0;34m(self, statement, filename, sort)\u001b[0m\n\u001b[1;32m     51\u001b[0m         \u001b[0mprof\u001b[0m \u001b[0;34m=\u001b[0m \u001b[0mself\u001b[0m\u001b[0;34m.\u001b[0m\u001b[0mprofiler\u001b[0m\u001b[0;34m(\u001b[0m\u001b[0;34m)\u001b[0m\u001b[0;34m\u001b[0m\u001b[0;34m\u001b[0m\u001b[0m\n\u001b[1;32m     52\u001b[0m         \u001b[0;32mtry\u001b[0m\u001b[0;34m:\u001b[0m\u001b[0;34m\u001b[0m\u001b[0;34m\u001b[0m\u001b[0m\n\u001b[0;32m---> 53\u001b[0;31m             \u001b[0mprof\u001b[0m\u001b[0;34m.\u001b[0m\u001b[0mrun\u001b[0m\u001b[0;34m(\u001b[0m\u001b[0mstatement\u001b[0m\u001b[0;34m)\u001b[0m\u001b[0;34m\u001b[0m\u001b[0;34m\u001b[0m\u001b[0m\n\u001b[0m\u001b[1;32m     54\u001b[0m         \u001b[0;32mexcept\u001b[0m \u001b[0mSystemExit\u001b[0m\u001b[0;34m:\u001b[0m\u001b[0;34m\u001b[0m\u001b[0;34m\u001b[0m\u001b[0m\n\u001b[1;32m     55\u001b[0m             \u001b[0;32mpass\u001b[0m\u001b[0;34m\u001b[0m\u001b[0;34m\u001b[0m\u001b[0m\n",
      "\u001b[0;32m/usr/lib/python3.7/cProfile.py\u001b[0m in \u001b[0;36mrun\u001b[0;34m(self, cmd)\u001b[0m\n\u001b[1;32m     93\u001b[0m         \u001b[0;32mimport\u001b[0m \u001b[0m__main__\u001b[0m\u001b[0;34m\u001b[0m\u001b[0;34m\u001b[0m\u001b[0m\n\u001b[1;32m     94\u001b[0m         \u001b[0mdict\u001b[0m \u001b[0;34m=\u001b[0m \u001b[0m__main__\u001b[0m\u001b[0;34m.\u001b[0m\u001b[0m__dict__\u001b[0m\u001b[0;34m\u001b[0m\u001b[0;34m\u001b[0m\u001b[0m\n\u001b[0;32m---> 95\u001b[0;31m         \u001b[0;32mreturn\u001b[0m \u001b[0mself\u001b[0m\u001b[0;34m.\u001b[0m\u001b[0mrunctx\u001b[0m\u001b[0;34m(\u001b[0m\u001b[0mcmd\u001b[0m\u001b[0;34m,\u001b[0m \u001b[0mdict\u001b[0m\u001b[0;34m,\u001b[0m \u001b[0mdict\u001b[0m\u001b[0;34m)\u001b[0m\u001b[0;34m\u001b[0m\u001b[0;34m\u001b[0m\u001b[0m\n\u001b[0m\u001b[1;32m     96\u001b[0m \u001b[0;34m\u001b[0m\u001b[0m\n\u001b[1;32m     97\u001b[0m     \u001b[0;32mdef\u001b[0m \u001b[0mrunctx\u001b[0m\u001b[0;34m(\u001b[0m\u001b[0mself\u001b[0m\u001b[0;34m,\u001b[0m \u001b[0mcmd\u001b[0m\u001b[0;34m,\u001b[0m \u001b[0mglobals\u001b[0m\u001b[0;34m,\u001b[0m \u001b[0mlocals\u001b[0m\u001b[0;34m)\u001b[0m\u001b[0;34m:\u001b[0m\u001b[0;34m\u001b[0m\u001b[0;34m\u001b[0m\u001b[0m\n",
      "\u001b[0;32m/usr/lib/python3.7/cProfile.py\u001b[0m in \u001b[0;36mrunctx\u001b[0;34m(self, cmd, globals, locals)\u001b[0m\n\u001b[1;32m     98\u001b[0m         \u001b[0mself\u001b[0m\u001b[0;34m.\u001b[0m\u001b[0menable\u001b[0m\u001b[0;34m(\u001b[0m\u001b[0;34m)\u001b[0m\u001b[0;34m\u001b[0m\u001b[0;34m\u001b[0m\u001b[0m\n\u001b[1;32m     99\u001b[0m         \u001b[0;32mtry\u001b[0m\u001b[0;34m:\u001b[0m\u001b[0;34m\u001b[0m\u001b[0;34m\u001b[0m\u001b[0m\n\u001b[0;32m--> 100\u001b[0;31m             \u001b[0mexec\u001b[0m\u001b[0;34m(\u001b[0m\u001b[0mcmd\u001b[0m\u001b[0;34m,\u001b[0m \u001b[0mglobals\u001b[0m\u001b[0;34m,\u001b[0m \u001b[0mlocals\u001b[0m\u001b[0;34m)\u001b[0m\u001b[0;34m\u001b[0m\u001b[0;34m\u001b[0m\u001b[0m\n\u001b[0m\u001b[1;32m    101\u001b[0m         \u001b[0;32mfinally\u001b[0m\u001b[0;34m:\u001b[0m\u001b[0;34m\u001b[0m\u001b[0;34m\u001b[0m\u001b[0m\n\u001b[1;32m    102\u001b[0m             \u001b[0mself\u001b[0m\u001b[0;34m.\u001b[0m\u001b[0mdisable\u001b[0m\u001b[0;34m(\u001b[0m\u001b[0;34m)\u001b[0m\u001b[0;34m\u001b[0m\u001b[0;34m\u001b[0m\u001b[0m\n",
      "\u001b[0;32m<string>\u001b[0m in \u001b[0;36m<module>\u001b[0;34m\u001b[0m\n",
      "\u001b[0;32m~/Desktop/narratives/relatio/relatio/narrative_models.py\u001b[0m in \u001b[0;36mpredict\u001b[0;34m(self, list_of_srl_res, prettify, progress_bar)\u001b[0m\n\u001b[1;32m    509\u001b[0m         \u001b[0mself\u001b[0m\u001b[0;34m,\u001b[0m \u001b[0mlist_of_srl_res\u001b[0m\u001b[0;34m,\u001b[0m \u001b[0mprettify\u001b[0m\u001b[0;34m:\u001b[0m \u001b[0mbool\u001b[0m \u001b[0;34m=\u001b[0m \u001b[0;32mFalse\u001b[0m\u001b[0;34m,\u001b[0m \u001b[0mprogress_bar\u001b[0m\u001b[0;34m:\u001b[0m \u001b[0mbool\u001b[0m \u001b[0;34m=\u001b[0m \u001b[0;32mFalse\u001b[0m\u001b[0;34m\u001b[0m\u001b[0;34m\u001b[0m\u001b[0m\n\u001b[1;32m    510\u001b[0m     ):\n\u001b[0;32m--> 511\u001b[0;31m         \u001b[0;32mreturn\u001b[0m \u001b[0mself\u001b[0m\u001b[0;34m.\u001b[0m\u001b[0m_model_obj\u001b[0m\u001b[0;34m.\u001b[0m\u001b[0mpredict\u001b[0m\u001b[0;34m(\u001b[0m\u001b[0mlist_of_srl_res\u001b[0m\u001b[0;34m,\u001b[0m \u001b[0mprettify\u001b[0m\u001b[0;34m,\u001b[0m \u001b[0mprogress_bar\u001b[0m\u001b[0;34m)\u001b[0m\u001b[0;34m\u001b[0m\u001b[0;34m\u001b[0m\u001b[0m\n\u001b[0m",
      "\u001b[0;32m~/Desktop/narratives/relatio/relatio/narrative_models.py\u001b[0m in \u001b[0;36mpredict\u001b[0;34m(self, list_of_srl_res, prettify, progress_bar)\u001b[0m\n\u001b[1;32m    142\u001b[0m                 \u001b[0;32mif\u001b[0m \u001b[0mrole\u001b[0m \u001b[0;32min\u001b[0m \u001b[0mself\u001b[0m\u001b[0;34m.\u001b[0m\u001b[0mroles_considered\u001b[0m\u001b[0;34m:\u001b[0m\u001b[0;34m\u001b[0m\u001b[0;34m\u001b[0m\u001b[0m\n\u001b[1;32m    143\u001b[0m                     \u001b[0;32mif\u001b[0m \u001b[0mrole\u001b[0m \u001b[0;32min\u001b[0m \u001b[0;34m[\u001b[0m\u001b[0;34m\"ARG0\"\u001b[0m\u001b[0;34m,\u001b[0m \u001b[0;34m\"ARG1\"\u001b[0m\u001b[0;34m,\u001b[0m \u001b[0;34m\"ARG2\"\u001b[0m\u001b[0;34m]\u001b[0m\u001b[0;34m:\u001b[0m\u001b[0;34m\u001b[0m\u001b[0;34m\u001b[0m\u001b[0m\n\u001b[0;32m--> 144\u001b[0;31m                         \u001b[0mpred\u001b[0m \u001b[0;34m=\u001b[0m \u001b[0mself\u001b[0m\u001b[0;34m.\u001b[0m\u001b[0m_process_srl_item_for_prediction\u001b[0m\u001b[0;34m(\u001b[0m\u001b[0mrole\u001b[0m\u001b[0;34m,\u001b[0m \u001b[0mcontent\u001b[0m\u001b[0;34m)\u001b[0m\u001b[0;34m\u001b[0m\u001b[0;34m\u001b[0m\u001b[0m\n\u001b[0m\u001b[1;32m    145\u001b[0m                         \u001b[0;32mif\u001b[0m \u001b[0mpred\u001b[0m \u001b[0;32mis\u001b[0m \u001b[0;32mnot\u001b[0m \u001b[0;32mNone\u001b[0m\u001b[0;34m:\u001b[0m\u001b[0;34m\u001b[0m\u001b[0;34m\u001b[0m\u001b[0m\n\u001b[1;32m    146\u001b[0m                             \u001b[0mlist_of_narratives\u001b[0m\u001b[0;34m[\u001b[0m\u001b[0mi\u001b[0m\u001b[0;34m]\u001b[0m\u001b[0;34m[\u001b[0m\u001b[0mrole\u001b[0m\u001b[0;34m]\u001b[0m \u001b[0;34m=\u001b[0m \u001b[0mpred\u001b[0m\u001b[0;34m\u001b[0m\u001b[0;34m\u001b[0m\u001b[0m\n",
      "\u001b[0;32m~/Desktop/narratives/relatio/relatio/narrative_models.py\u001b[0m in \u001b[0;36m_process_srl_item_for_prediction\u001b[0;34m(self, role, content)\u001b[0m\n\u001b[1;32m    118\u001b[0m                     \u001b[0;31m# Unknown entities\u001b[0m\u001b[0;34m\u001b[0m\u001b[0;34m\u001b[0m\u001b[0;34m\u001b[0m\u001b[0m\n\u001b[1;32m    119\u001b[0m                     \u001b[0;32mif\u001b[0m \u001b[0mlen\u001b[0m\u001b[0;34m(\u001b[0m\u001b[0mself\u001b[0m\u001b[0;34m.\u001b[0m\u001b[0mvectors\u001b[0m\u001b[0;34m[\u001b[0m\u001b[0mi\u001b[0m\u001b[0;34m]\u001b[0m\u001b[0;34m)\u001b[0m \u001b[0;34m!=\u001b[0m \u001b[0;36m0\u001b[0m\u001b[0;34m:\u001b[0m\u001b[0;34m\u001b[0m\u001b[0;34m\u001b[0m\u001b[0m\n\u001b[0;32m--> 120\u001b[0;31m                         \u001b[0mdistances\u001b[0m \u001b[0;34m=\u001b[0m \u001b[0mself\u001b[0m\u001b[0;34m.\u001b[0m\u001b[0mcompute_distances\u001b[0m\u001b[0;34m(\u001b[0m\u001b[0mvector\u001b[0m\u001b[0;34m,\u001b[0m \u001b[0mself\u001b[0m\u001b[0;34m.\u001b[0m\u001b[0mvectors\u001b[0m\u001b[0;34m[\u001b[0m\u001b[0mi\u001b[0m\u001b[0;34m]\u001b[0m\u001b[0;34m)\u001b[0m\u001b[0;34m\u001b[0m\u001b[0;34m\u001b[0m\u001b[0m\n\u001b[0m\u001b[1;32m    121\u001b[0m                         \u001b[0mnmin\u001b[0m \u001b[0;34m=\u001b[0m \u001b[0mmin\u001b[0m\u001b[0;34m(\u001b[0m\u001b[0mdistances\u001b[0m\u001b[0;34m)\u001b[0m\u001b[0;34m\u001b[0m\u001b[0;34m\u001b[0m\u001b[0m\n\u001b[1;32m    122\u001b[0m                         \u001b[0;32mif\u001b[0m \u001b[0mnmin\u001b[0m \u001b[0;34m<=\u001b[0m \u001b[0mself\u001b[0m\u001b[0;34m.\u001b[0m\u001b[0mthreshold\u001b[0m\u001b[0;34m:\u001b[0m\u001b[0;34m\u001b[0m\u001b[0;34m\u001b[0m\u001b[0m\n",
      "\u001b[0;32m~/Desktop/narratives/relatio/relatio/narrative_models.py\u001b[0m in \u001b[0;36mcompute_distances\u001b[0;34m(vector, vectors)\u001b[0m\n\u001b[1;32m     82\u001b[0m     \u001b[0;34m@\u001b[0m\u001b[0mstaticmethod\u001b[0m\u001b[0;34m\u001b[0m\u001b[0;34m\u001b[0m\u001b[0m\n\u001b[1;32m     83\u001b[0m     \u001b[0;32mdef\u001b[0m \u001b[0mcompute_distances\u001b[0m\u001b[0;34m(\u001b[0m\u001b[0mvector\u001b[0m\u001b[0;34m,\u001b[0m \u001b[0mvectors\u001b[0m\u001b[0;34m)\u001b[0m\u001b[0;34m:\u001b[0m\u001b[0;34m\u001b[0m\u001b[0;34m\u001b[0m\u001b[0m\n\u001b[0;32m---> 84\u001b[0;31m         \u001b[0mdistances\u001b[0m \u001b[0;34m=\u001b[0m \u001b[0mcdist\u001b[0m\u001b[0;34m(\u001b[0m\u001b[0mvectors\u001b[0m\u001b[0;34m,\u001b[0m \u001b[0mvector\u001b[0m\u001b[0;34m.\u001b[0m\u001b[0mreshape\u001b[0m\u001b[0;34m(\u001b[0m\u001b[0;36m1\u001b[0m\u001b[0;34m,\u001b[0m \u001b[0;34m-\u001b[0m\u001b[0;36m1\u001b[0m\u001b[0;34m)\u001b[0m\u001b[0;34m,\u001b[0m \u001b[0mmetric\u001b[0m\u001b[0;34m=\u001b[0m\u001b[0;34m\"euclidean\"\u001b[0m\u001b[0;34m)\u001b[0m\u001b[0;34m.\u001b[0m\u001b[0mflatten\u001b[0m\u001b[0;34m(\u001b[0m\u001b[0;34m)\u001b[0m\u001b[0;34m\u001b[0m\u001b[0;34m\u001b[0m\u001b[0m\n\u001b[0m\u001b[1;32m     85\u001b[0m         \u001b[0;32mreturn\u001b[0m \u001b[0mdistances\u001b[0m\u001b[0;34m\u001b[0m\u001b[0;34m\u001b[0m\u001b[0m\n\u001b[1;32m     86\u001b[0m \u001b[0;34m\u001b[0m\u001b[0m\n",
      "\u001b[0;32m~/Desktop/narratives/relatio/.tox/dev/lib/python3.7/site-packages/scipy/spatial/distance.py\u001b[0m in \u001b[0;36mcdist\u001b[0;34m(XA, XB, metric, out, **kwargs)\u001b[0m\n\u001b[1;32m   2952\u001b[0m         \u001b[0;32mif\u001b[0m \u001b[0mmetric_info\u001b[0m \u001b[0;32mis\u001b[0m \u001b[0;32mnot\u001b[0m \u001b[0;32mNone\u001b[0m\u001b[0;34m:\u001b[0m\u001b[0;34m\u001b[0m\u001b[0;34m\u001b[0m\u001b[0m\n\u001b[1;32m   2953\u001b[0m             \u001b[0mcdist_fn\u001b[0m \u001b[0;34m=\u001b[0m \u001b[0mmetric_info\u001b[0m\u001b[0;34m.\u001b[0m\u001b[0mcdist_func\u001b[0m\u001b[0;34m\u001b[0m\u001b[0;34m\u001b[0m\u001b[0m\n\u001b[0;32m-> 2954\u001b[0;31m             \u001b[0;32mreturn\u001b[0m \u001b[0mcdist_fn\u001b[0m\u001b[0;34m(\u001b[0m\u001b[0mXA\u001b[0m\u001b[0;34m,\u001b[0m \u001b[0mXB\u001b[0m\u001b[0;34m,\u001b[0m \u001b[0mout\u001b[0m\u001b[0;34m=\u001b[0m\u001b[0mout\u001b[0m\u001b[0;34m,\u001b[0m \u001b[0;34m**\u001b[0m\u001b[0mkwargs\u001b[0m\u001b[0;34m)\u001b[0m\u001b[0;34m\u001b[0m\u001b[0;34m\u001b[0m\u001b[0m\n\u001b[0m\u001b[1;32m   2955\u001b[0m         \u001b[0;32melif\u001b[0m \u001b[0mmstr\u001b[0m\u001b[0;34m.\u001b[0m\u001b[0mstartswith\u001b[0m\u001b[0;34m(\u001b[0m\u001b[0;34m\"test_\"\u001b[0m\u001b[0;34m)\u001b[0m\u001b[0;34m:\u001b[0m\u001b[0;34m\u001b[0m\u001b[0;34m\u001b[0m\u001b[0m\n\u001b[1;32m   2956\u001b[0m             \u001b[0mmetric_info\u001b[0m \u001b[0;34m=\u001b[0m \u001b[0m_TEST_METRICS\u001b[0m\u001b[0;34m.\u001b[0m\u001b[0mget\u001b[0m\u001b[0;34m(\u001b[0m\u001b[0mmstr\u001b[0m\u001b[0;34m,\u001b[0m \u001b[0;32mNone\u001b[0m\u001b[0;34m)\u001b[0m\u001b[0;34m\u001b[0m\u001b[0;34m\u001b[0m\u001b[0m\n",
      "\u001b[0;31mKeyboardInterrupt\u001b[0m: "
     ]
    }
   ],
   "source": [
    "cProfile.run(\"narratives = m.predict(postproc_roles, progress_bar = True, prettify = False)\")"
   ]
  },
  {
   "cell_type": "code",
   "execution_count": null,
   "id": "52e4bde2",
   "metadata": {
    "scrolled": true
   },
   "outputs": [],
   "source": [
    "pretty_narratives = []\n",
    "for n in narratives: \n",
    "    if n.get('ARG0') not in [\"\", None]:\n",
    "        if n.get('B-V') not in [\"\", None]:\n",
    "            if n.get('ARG1') not in [\"\", None]:\n",
    "                pretty_narratives.append(prettify(n))\n",
    "                \n",
    "pretty_narratives = Counter(pretty_narratives)\n",
    "for t in pretty_narratives.most_common(10): print(t)"
   ]
  },
  {
   "cell_type": "markdown",
   "id": "c2080f70",
   "metadata": {},
   "source": [
    "## Step 5: Model validation and basic analysis\n",
    "\n",
    "----------------------------\n",
    "\n",
    "\n",
    "----------------------------"
   ]
  },
  {
   "cell_type": "code",
   "execution_count": null,
   "id": "9aa55a5c",
   "metadata": {},
   "outputs": [],
   "source": [
    "for i,k in enumerate(sentence_index):\n",
    "    \n",
    "    n = narratives[i]\n",
    "    r = roles[i]\n",
    "    \n",
    "    if n.get('ARG0') not in [\"\", None]:\n",
    "        if n.get('B-V') not in [\"\", None]:\n",
    "            if n.get('ARG1') not in [\"\", None]:\n",
    "                print('Original statement:')\n",
    "                print(prettify(r))\n",
    "                print('\\n')\n",
    "                print('Underlying narrative:')\n",
    "                print(prettify(n))\n",
    "                print(\"\\n\")\n",
    "                "
   ]
  },
  {
   "cell_type": "markdown",
   "id": "00a8eb7c",
   "metadata": {},
   "source": [
    "## Step 6: Visualization // Plotting narrative graphs\n",
    "----------------------------\n",
    "\n",
    "A collection of narrative statements has an intuitive network structure, in which the edges are verbs and the nodes are entities.\n",
    "\n",
    "Here, we plot Trump's narrative statements on Twitter.\n",
    "\n",
    "----------------------------"
   ]
  }
 ],
 "metadata": {
  "kernelspec": {
   "display_name": "Python 3 (ipykernel)",
   "language": "python",
   "name": "python3"
  },
  "language_info": {
   "codemirror_mode": {
    "name": "ipython",
    "version": 3
   },
   "file_extension": ".py",
   "mimetype": "text/x-python",
   "name": "python",
   "nbconvert_exporter": "python",
   "pygments_lexer": "ipython3",
   "version": "3.7.12"
  }
 },
 "nbformat": 4,
 "nbformat_minor": 5
}
