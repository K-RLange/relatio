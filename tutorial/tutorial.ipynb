{
 "cells": [
  {
   "cell_type": "markdown",
   "id": "10bb6bdd",
   "metadata": {},
   "source": [
    "# An introduction to `relatio` \n",
    "**Runtime $\\sim$ 1h**\n",
    "\n",
    "Original paper: [\"Text Semantics Capture Political and Economic Narratives\"](https://arxiv.org/abs/2108.01720)\n",
    "\n",
    "----------------------------\n",
    "\n",
    "This is a short demo of the package `relatio`.  It takes as input a text corpus and outputs a list of narrative statements. The pipeline is unsupervised: the user does not need to specify narratives beforehand. Narrative statements are defined as tuples of semantic roles with a (agent, verb, patient, attribute) structure. \n",
    "\n",
    "Here, we present the main wrapper functions to quickly obtain narrative statements from a corpus.\n",
    "\n",
    "----------------------------\n",
    "\n",
    "We provide datasets that have already been split into sentences and annotated by our team.\n",
    "\n",
    "The datasets are provided in three different formats:\n",
    " 1. `raw` (unprocessed)\n",
    " 2. `split_sentences` (as a list of sentences)\n",
    " 3. `srl` (as a list of annotated sentences by the semantic role labeler)\n",
    "\n",
    "In this tutorial, we work with the Trump Tweet Archive corpus.\n",
    "\n",
    "----------------------------"
   ]
  },
  {
   "cell_type": "code",
   "execution_count": 1,
   "id": "17886d5f",
   "metadata": {},
   "outputs": [],
   "source": [
    "# Catch warnings for an easy ride\n",
    "from relatio._logging import FileLogger\n",
    "logger = FileLogger(level = 'WARNING')"
   ]
  },
  {
   "cell_type": "code",
   "execution_count": 2,
   "id": "d1fe7218",
   "metadata": {},
   "outputs": [
    {
     "name": "stdout",
     "output_type": "stream",
     "text": [
      "\n",
      "    List of available datasets:\n",
      "\n",
      "    Trump Tweet Archive\n",
      "    - function call: load_trump_data()\n",
      "    - format: 'raw', 'split_sentences', 'srl_res'\n",
      "    - allennlp version: 0.9\n",
      "    - srl model: srl-model-2018.05.25.tar.gz\n",
      "    \n"
     ]
    }
   ],
   "source": [
    "# Browse list of available datasets\n",
    "from relatio.datasets import list_datasets\n",
    "print(list_datasets())\n",
    "\n",
    "# Load an available dataset\n",
    "from relatio.datasets import load_trump_data\n",
    "df = load_trump_data(\"raw\")"
   ]
  },
  {
   "cell_type": "markdown",
   "id": "7e04ad8d",
   "metadata": {},
   "source": [
    "## Step 1: Split into sentences\n",
    "\n",
    "----------------------------\n",
    "\n",
    "For any new corpus, the first thing you will want to do is to split the corpus into sentences.\n",
    "\n",
    "We do this on the first 100 tweets. \n",
    "\n",
    "The output is two lists: one with an index for the document and one with the resulting split sentences.\n",
    "\n",
    "----------------------------\n"
   ]
  },
  {
   "cell_type": "code",
   "execution_count": 3,
   "id": "d00439a4",
   "metadata": {
    "scrolled": true
   },
   "outputs": [
    {
     "name": "stdout",
     "output_type": "stream",
     "text": [
      "Splitting into sentences...\n"
     ]
    },
    {
     "name": "stderr",
     "output_type": "stream",
     "text": [
      "100%|█████████████████████████████████████| 1000/1000 [00:00<00:00, 1113.03it/s]\n"
     ]
    }
   ],
   "source": [
    "from relatio.preprocessing import *\n",
    "\n",
    "p = Preprocessor(\n",
    "    spacy_model = \"en_core_web_md\",\n",
    "    remove_punctuation = True,\n",
    "    remove_digits = True,\n",
    "    lowercase = True,\n",
    "    lemmatize = True,\n",
    "    stop_words = [],\n",
    "    n_process = -1,\n",
    "    batch_size = 100\n",
    ")\n",
    "\n",
    "split_sentences = p.split_into_sentences(\n",
    "    df.iloc[0:1000], output_path='sentences.json', progress_bar=True\n",
    ")\n",
    "\n",
    "from relatio.utils import load_sentences\n",
    "split_sentences = load_sentences('sentences.json')"
   ]
  },
  {
   "cell_type": "markdown",
   "id": "0fcd1100",
   "metadata": {},
   "source": [
    "## Step 2: Annotate semantic roles\n",
    "\n",
    "----------------------------\n",
    "\n",
    "Once the corpus is split into sentences. You can feed it to the semantic role labeler.\n",
    "\n",
    "The output is a list of json objects which contain the semantic role annotations for each sentence in the corpus.\n",
    "\n",
    "----------------------------\n"
   ]
  },
  {
   "cell_type": "code",
   "execution_count": 4,
   "id": "cacb0860",
   "metadata": {},
   "outputs": [
    {
     "name": "stdout",
     "output_type": "stream",
     "text": [
      "Running SRL...\n"
     ]
    },
    {
     "name": "stderr",
     "output_type": "stream",
     "text": [
      "100%|█████████████████████████████████████████| 229/229 [01:13<00:00,  3.12it/s]\n"
     ]
    }
   ],
   "source": [
    "from relatio.semantic_role_labeling import *\n",
    "\n",
    "SRL = SRL(\n",
    "    path = \"https://storage.googleapis.com/allennlp-public-models/openie-model.2020.03.26.tar.gz\",\n",
    "    batch_size = 10,\n",
    "    cuda_device = -1\n",
    ")\n",
    "\n",
    "srl_res = SRL(split_sentences[1], progress_bar=True)"
   ]
  },
  {
   "cell_type": "code",
   "execution_count": 5,
   "id": "cc80c071",
   "metadata": {},
   "outputs": [
    {
     "data": {
      "text/plain": [
       "{'verbs': [{'verb': 'have',\n",
       "   'description': 'Republicans and Democrats [V: have] both created our economic problems .',\n",
       "   'tags': ['O', 'O', 'O', 'B-V', 'O', 'O', 'O', 'O', 'O', 'O']},\n",
       "  {'verb': 'created',\n",
       "   'description': '[ARG0: Republicans and Democrats] have both [V: created] [ARG1: our economic problems] .',\n",
       "   'tags': ['B-ARG0',\n",
       "    'I-ARG0',\n",
       "    'I-ARG0',\n",
       "    'O',\n",
       "    'O',\n",
       "    'B-V',\n",
       "    'B-ARG1',\n",
       "    'I-ARG1',\n",
       "    'I-ARG1',\n",
       "    'O']}],\n",
       " 'words': ['Republicans',\n",
       "  'and',\n",
       "  'Democrats',\n",
       "  'have',\n",
       "  'both',\n",
       "  'created',\n",
       "  'our',\n",
       "  'economic',\n",
       "  'problems',\n",
       "  '.']}"
      ]
     },
     "execution_count": 5,
     "metadata": {},
     "output_type": "execute_result"
    }
   ],
   "source": [
    "srl_res[0]"
   ]
  },
  {
   "cell_type": "markdown",
   "id": "c6e112b6",
   "metadata": {},
   "source": [
    "NB: This step is faster with a GPU. The argument cuda_device allows users to use their GPUs:\n",
    "\n",
    "```\n",
    "import torch\n",
    "print(torch.cuda.is_available())\n",
    "print(torch.cuda.current_device())\n",
    "\n",
    "SRL = SRL(\n",
    "    path = \"https://storage.googleapis.com/allennlp-public-models/openie-model.2020.03.26.tar.gz\",\n",
    "    batch_size = 10,\n",
    "    cuda_device = 0\n",
    ")\n",
    "\n",
    "srl_res = SRL(split_sentences[1], progress_bar=True)\n",
    "```"
   ]
  },
  {
   "cell_type": "code",
   "execution_count": 6,
   "id": "e546d4eb",
   "metadata": {},
   "outputs": [],
   "source": [
    "# To save us some time, we download the results from the datasets module.\n",
    "split_sentences = load_trump_data(\"split_sentences\")\n",
    "srl_res = load_trump_data(\"srl_res\")"
   ]
  },
  {
   "cell_type": "markdown",
   "id": "28629041",
   "metadata": {},
   "source": [
    "## Step 3: Pre-process semantic roles\n",
    "\n",
    "----------------------------\n",
    "\n",
    "\n",
    "----------------------------"
   ]
  },
  {
   "cell_type": "code",
   "execution_count": 7,
   "id": "3cb56070",
   "metadata": {
    "scrolled": true
   },
   "outputs": [
    {
     "name": "stdout",
     "output_type": "stream",
     "text": [
      "Extracting semantic roles...\n"
     ]
    },
    {
     "name": "stderr",
     "output_type": "stream",
     "text": [
      "100%|██████████████████████████████████| 68616/68616 [00:01<00:00, 43712.22it/s]"
     ]
    },
    {
     "name": "stdout",
     "output_type": "stream",
     "text": [
      "{'B-V': 'have'}\n",
      "{'ARG0': 'Republicans and Democrats', 'ARG1': 'our economic problems', 'B-V': 'created'}\n",
      "{'ARG1': 'I', 'ARG2': 'thrilled to be back in the Great city of Charlotte , North Carolina with thousands of hardworking American Patriots who love our Country , cherish our values , respect our laws , and always put AMERICA FIRST', 'B-V': 'was'}\n",
      "{'ARG1': 'I', 'ARG2': 'to be back in the Great city of Charlotte , North Carolina with thousands of hardworking American Patriots who love our Country , cherish our values , respect our laws , and always put AMERICA FIRST', 'B-V': 'thrilled'}\n",
      "{'ARG1': 'I', 'ARG2': 'back in the Great city of Charlotte , North Carolina', 'B-V': 'be'}\n"
     ]
    },
    {
     "name": "stderr",
     "output_type": "stream",
     "text": [
      "\n"
     ]
    }
   ],
   "source": [
    "roles, sentence_index = p.extract_roles(\n",
    "    srl_res, \n",
    "    used_roles = [\"ARG0\",\"B-V\",\"B-ARGM-NEG\",\"B-ARGM-MOD\",\"ARG1\",\"ARG2\"],\n",
    "    progress_bar = True\n",
    ")\n",
    "\n",
    "for d in roles[0:5]: print(d)"
   ]
  },
  {
   "cell_type": "code",
   "execution_count": 8,
   "id": "478392f3",
   "metadata": {},
   "outputs": [
    {
     "name": "stdout",
     "output_type": "stream",
     "text": [
      "Cleaning roles ARG0...\n"
     ]
    },
    {
     "name": "stderr",
     "output_type": "stream",
     "text": [
      "100%|███████████████████████████████████| 49281/49281 [00:15<00:00, 3187.87it/s]\n"
     ]
    },
    {
     "name": "stdout",
     "output_type": "stream",
     "text": [
      "Cleaning roles B-V...\n"
     ]
    },
    {
     "name": "stderr",
     "output_type": "stream",
     "text": [
      "100%|█████████████████████████████████| 135562/135562 [00:41<00:00, 3284.41it/s]\n"
     ]
    },
    {
     "name": "stdout",
     "output_type": "stream",
     "text": [
      "Cleaning roles B-ARGM-MOD...\n"
     ]
    },
    {
     "name": "stderr",
     "output_type": "stream",
     "text": [
      "100%|███████████████████████████████████| 13752/13752 [00:04<00:00, 3097.86it/s]\n"
     ]
    },
    {
     "name": "stdout",
     "output_type": "stream",
     "text": [
      "Cleaning roles ARG1...\n"
     ]
    },
    {
     "name": "stderr",
     "output_type": "stream",
     "text": [
      "100%|███████████████████████████████████| 88730/88730 [00:31<00:00, 2789.57it/s]\n"
     ]
    },
    {
     "name": "stdout",
     "output_type": "stream",
     "text": [
      "Cleaning roles ARG2...\n"
     ]
    },
    {
     "name": "stderr",
     "output_type": "stream",
     "text": [
      "100%|███████████████████████████████████| 32132/32132 [00:11<00:00, 2701.72it/s]\n"
     ]
    },
    {
     "name": "stdout",
     "output_type": "stream",
     "text": [
      "{'B-V': 'have'}\n",
      "{'ARG0': 'republicans democrats', 'B-V': 'create', 'ARG1': 'problem'}\n",
      "{'B-V': '', 'ARG1': '', 'ARG2': 'city charlotte north carolina thousand patriots country value law america'}\n",
      "{'B-V': 'thrill', 'ARG1': '', 'ARG2': 'city charlotte north carolina thousand patriots country value law america'}\n",
      "{'B-V': 'be', 'ARG1': '', 'ARG2': 'city charlotte north carolina'}\n"
     ]
    }
   ],
   "source": [
    "postproc_roles = p.process_roles(roles, \n",
    "                                 dict_of_pos_tags_to_keep = {\n",
    "                                     \"ARG0\": ['NOUN', 'PROPN'],\n",
    "                                     \"B-V\": ['VERB'],\n",
    "                                     \"ARG1\": ['NOUN', 'PROPN'],\n",
    "                                     \"ARG2\": ['NOUN', 'PROPN']\n",
    "                                 }, \n",
    "                                 progress_bar = True,\n",
    "                                 output_path = 'postproc_roles.json')\n",
    "\n",
    "from relatio.utils import load_roles\n",
    "postproc_roles = load_roles('postproc_roles.json')\n",
    "\n",
    "for d in postproc_roles[0:5]: print(d)"
   ]
  },
  {
   "cell_type": "code",
   "execution_count": 9,
   "id": "2e627dfa",
   "metadata": {},
   "outputs": [
    {
     "name": "stdout",
     "output_type": "stream",
     "text": [
      "Mining named entities...\n"
     ]
    },
    {
     "name": "stderr",
     "output_type": "stream",
     "text": [
      "100%|███████████████████████████████████| 68616/68616 [00:32<00:00, 2093.99it/s]"
     ]
    },
    {
     "name": "stdout",
     "output_type": "stream",
     "text": [
      "('democrats', 1149)\n",
      "('obama', 1023)\n",
      "('china', 932)\n",
      "('u.s.', 836)\n",
      "('trump', 798)\n",
      "('america', 768)\n",
      "('american', 589)\n",
      "('barackobama', 512)\n",
      "('republicans', 502)\n",
      "('foxnews', 502)\n"
     ]
    },
    {
     "name": "stderr",
     "output_type": "stream",
     "text": [
      "\n"
     ]
    }
   ],
   "source": [
    "known_entities = p.mine_entities(\n",
    "    split_sentences[1], \n",
    "    clean_entities = True, \n",
    "    progress_bar = True,\n",
    "    output_path = 'entities.pkl'\n",
    ")\n",
    "\n",
    "from relatio.utils import load_entities\n",
    "known_entities = load_entities('entities.pkl')\n",
    "\n",
    "for n in known_entities.most_common(10): print(n)"
   ]
  },
  {
   "cell_type": "code",
   "execution_count": 10,
   "id": "8ad2f93b",
   "metadata": {},
   "outputs": [],
   "source": [
    "top_known_entities = [e[0] for e in list(known_entities.most_common(100))]"
   ]
  },
  {
   "cell_type": "markdown",
   "id": "e81163a0",
   "metadata": {},
   "source": [
    "## Step 4: Build the narrative model\n",
    "\n",
    "----------------------------\n",
    "\n",
    "We are now ready to build a narrative model.\n",
    "\n",
    "----------------------------"
   ]
  },
  {
   "cell_type": "code",
   "execution_count": 11,
   "id": "b1dfb5ad",
   "metadata": {
    "scrolled": true
   },
   "outputs": [
    {
     "name": "stderr",
     "output_type": "stream",
     "text": [
      "2022-03-01 19:48:21.284901: I tensorflow/stream_executor/cuda/cuda_gpu_executor.cc:937] successful NUMA node read from SysFS had negative value (-1), but there must be at least one NUMA node, so returning NUMA node zero\n",
      "2022-03-01 19:48:21.316426: I tensorflow/stream_executor/cuda/cuda_gpu_executor.cc:937] successful NUMA node read from SysFS had negative value (-1), but there must be at least one NUMA node, so returning NUMA node zero\n",
      "2022-03-01 19:48:21.316690: I tensorflow/stream_executor/cuda/cuda_gpu_executor.cc:937] successful NUMA node read from SysFS had negative value (-1), but there must be at least one NUMA node, so returning NUMA node zero\n",
      "2022-03-01 19:48:21.317309: I tensorflow/core/platform/cpu_feature_guard.cc:142] This TensorFlow binary is optimized with oneAPI Deep Neural Network Library (oneDNN) to use the following CPU instructions in performance-critical operations:  AVX2 FMA\n",
      "To enable them in other operations, rebuild TensorFlow with the appropriate compiler flags.\n",
      "2022-03-01 19:48:21.317636: I tensorflow/stream_executor/cuda/cuda_gpu_executor.cc:937] successful NUMA node read from SysFS had negative value (-1), but there must be at least one NUMA node, so returning NUMA node zero\n",
      "2022-03-01 19:48:21.317886: I tensorflow/stream_executor/cuda/cuda_gpu_executor.cc:937] successful NUMA node read from SysFS had negative value (-1), but there must be at least one NUMA node, so returning NUMA node zero\n",
      "2022-03-01 19:48:21.318082: I tensorflow/stream_executor/cuda/cuda_gpu_executor.cc:937] successful NUMA node read from SysFS had negative value (-1), but there must be at least one NUMA node, so returning NUMA node zero\n",
      "2022-03-01 19:48:21.667254: I tensorflow/stream_executor/cuda/cuda_gpu_executor.cc:937] successful NUMA node read from SysFS had negative value (-1), but there must be at least one NUMA node, so returning NUMA node zero\n",
      "2022-03-01 19:48:21.667510: I tensorflow/stream_executor/cuda/cuda_gpu_executor.cc:937] successful NUMA node read from SysFS had negative value (-1), but there must be at least one NUMA node, so returning NUMA node zero\n",
      "2022-03-01 19:48:21.667715: I tensorflow/stream_executor/cuda/cuda_gpu_executor.cc:937] successful NUMA node read from SysFS had negative value (-1), but there must be at least one NUMA node, so returning NUMA node zero\n",
      "2022-03-01 19:48:21.667910: I tensorflow/core/common_runtime/gpu/gpu_device.cc:1510] Created device /job:localhost/replica:0/task:0/device:GPU:0 with 1289 MB memory:  -> device: 0, name: NVIDIA GeForce GTX 1650 Ti, pci bus id: 0000:01:00.0, compute capability: 7.5\n",
      "2022-03-01 19:48:23.394589: I tensorflow/compiler/mlir/mlir_graph_optimization_pass.cc:185] None of the MLIR Optimization Passes are enabled (registered 2)\n"
     ]
    }
   ],
   "source": [
    "from relatio._embeddings import Embeddings\n",
    "nlp_model = Embeddings(\"TensorFlow_USE\",\"https://tfhub.dev/google/universal-sentence-encoder/4\")"
   ]
  },
  {
   "cell_type": "code",
   "execution_count": 12,
   "id": "2ee9d9f9",
   "metadata": {},
   "outputs": [
    {
     "name": "stdout",
     "output_type": "stream",
     "text": [
      "No training required: the model is deterministic.\n"
     ]
    }
   ],
   "source": [
    "from relatio.narrative_models import *\n",
    "from relatio.utils import prettify\n",
    "from collections import Counter\n",
    "\n",
    "m = NarrativeModel(model_type = 'deterministic',\n",
    "                   roles_considered = ['ARG0', 'B-V', 'B-ARGM-NEG', 'B-ARGM-MOD', 'ARG1', 'ARG2'],\n",
    "                   roles_with_entities = ['ARG0','ARG1','ARG2'],\n",
    "                   list_of_known_entities = top_known_entities,\n",
    "                   assignment_to_known_entities = 'character_matching',\n",
    "                   roles_with_embeddings = [],\n",
    "                   embeddings_model = None,\n",
    "                   threshold = 1)    \n",
    "\n",
    "m.train(postproc_roles)"
   ]
  },
  {
   "cell_type": "code",
   "execution_count": 13,
   "id": "5405c121",
   "metadata": {
    "scrolled": true
   },
   "outputs": [
    {
     "name": "stderr",
     "output_type": "stream",
     "text": [
      "100%|█████████████████████████████████| 150213/150213 [00:18<00:00, 8327.75it/s]\n"
     ]
    },
    {
     "name": "stdout",
     "output_type": "stream",
     "text": [
      "         73924340 function calls (73121661 primitive calls) in 19.164 seconds\n",
      "\n",
      "   Ordered by: standard name\n",
      "\n",
      "   ncalls  tottime  percall  cumtime  percall filename:lineno(function)\n",
      "        1    0.000    0.000   19.164   19.164 <string>:1(<module>)\n",
      "        1    0.000    0.000    0.000    0.000 _monitor.py:93(report)\n",
      "        1    0.000    0.000    0.000    0.000 _weakrefset.py:106(remove)\n",
      "        2    0.000    0.000    0.000    0.000 _weakrefset.py:16(__init__)\n",
      "        2    0.000    0.000    0.000    0.000 _weakrefset.py:20(__enter__)\n",
      "        2    0.000    0.000    0.000    0.000 _weakrefset.py:26(__exit__)\n",
      "        2    0.000    0.000    0.000    0.000 _weakrefset.py:52(_commit_removals)\n",
      "        3    0.000    0.000    0.000    0.000 _weakrefset.py:58(__iter__)\n",
      "        1    0.000    0.000    0.000    0.000 _weakrefset.py:81(add)\n",
      " 802680/1    0.531    0.000    1.122    1.122 copy.py:128(deepcopy)\n",
      "   652466    0.042    0.000    0.042    0.000 copy.py:182(_deepcopy_atomic)\n",
      "        1    0.048    0.048    1.122    1.122 copy.py:200(_deepcopy_list)\n",
      "   150213    0.208    0.000    0.801    0.000 copy.py:226(_deepcopy_dict)\n",
      "   150214    0.053    0.000    0.074    0.000 copy.py:242(_keep_alive)\n",
      "      719    0.002    0.000    0.010    0.000 iostream.py:206(schedule)\n",
      "        1    0.000    0.000    0.000    0.000 iostream.py:301(fileno)\n",
      "      180    0.000    0.000    0.000    0.000 iostream.py:418(_is_master_process)\n",
      "      180    0.000    0.000    0.002    0.000 iostream.py:437(_schedule_flush)\n",
      "      180    0.001    0.000    0.065    0.000 iostream.py:451(flush)\n",
      "      180    0.001    0.000    0.009    0.000 iostream.py:500(write)\n",
      "      719    0.000    0.000    0.000    0.000 iostream.py:96(_event_pipe)\n",
      "        1    0.217    0.217   19.164   19.164 narrative_models.py:125(predict)\n",
      "        1    0.000    0.000   19.164   19.164 narrative_models.py:507(predict)\n",
      "   170143    6.110    0.000   17.638    0.000 narrative_models.py:86(_process_srl_item_for_prediction)\n",
      "      719    0.007    0.000    0.007    0.000 socket.py:474(send)\n",
      "      181    0.000    0.000    0.001    0.000 std.py:104(acquire)\n",
      "      181    0.000    0.000    0.001    0.000 std.py:108(release)\n",
      "        4    0.000    0.000    0.000    0.000 std.py:112(__enter__)\n",
      "        4    0.000    0.000    0.000    0.000 std.py:115(__exit__)\n",
      "        1    0.000    0.000    0.000    0.000 std.py:1151(__del__)\n",
      "      178    0.001    0.000    0.024    0.000 std.py:1154(__str__)\n",
      "        2    0.000    0.000    0.000    0.000 std.py:1157(_comparable)\n",
      "        2    0.000    0.000    0.000    0.000 std.py:1161(__hash__)\n",
      "   150214    0.043    0.000    0.152    0.000 std.py:1164(__iter__)\n",
      "      176    0.002    0.000    0.108    0.001 std.py:1202(update)\n",
      "        2    0.000    0.000    0.001    0.000 std.py:1269(close)\n",
      "        2    0.000    0.000    0.000    0.000 std.py:1290(fp_write)\n",
      "        1    0.000    0.000    0.000    0.000 std.py:1305(<lambda>)\n",
      "      177    0.001    0.000    0.106    0.001 std.py:1329(refresh)\n",
      "      178    0.001    0.000    0.001    0.000 std.py:1450(format_dict)\n",
      "      178    0.001    0.000    0.104    0.001 std.py:1468(display)\n",
      "      178    0.000    0.000    0.000    0.000 std.py:155(__init__)\n",
      "      178    0.000    0.000    0.000    0.000 std.py:165(colour)\n",
      "      178    0.000    0.000    0.000    0.000 std.py:169(colour)\n",
      "      178    0.001    0.000    0.001    0.000 std.py:188(__format__)\n",
      "        3    0.000    0.000    0.000    0.000 std.py:229(__init__)\n",
      "     1057    0.001    0.000    0.001    0.000 std.py:234(__call__)\n",
      "      355    0.001    0.000    0.002    0.000 std.py:289(format_interval)\n",
      "        1    0.000    0.000    0.000    0.000 std.py:330(status_printer)\n",
      "      178    0.001    0.000    0.075    0.000 std.py:343(fp_write)\n",
      "      178    0.000    0.000    0.080    0.000 std.py:349(print_status)\n",
      "      178    0.005    0.000    0.022    0.000 std.py:356(format_meter)\n",
      "        1    0.000    0.000    0.000    0.000 std.py:563(__new__)\n",
      "        1    0.000    0.000    0.000    0.000 std.py:579(_get_free_pos)\n",
      "        1    0.000    0.000    0.000    0.000 std.py:582(<setcomp>)\n",
      "        1    0.000    0.000    0.000    0.000 std.py:586(_decr_instances)\n",
      "        1    0.000    0.000    0.000    0.000 std.py:660(get_lock)\n",
      "        1    0.000    0.000    0.001    0.001 std.py:849(__init__)\n",
      "      899    0.000    0.000    0.001    0.000 threading.py:1017(_wait_for_tstate_lock)\n",
      "      899    0.001    0.000    0.002    0.000 threading.py:1071(is_alive)\n",
      "      180    0.001    0.000    0.001    0.000 threading.py:222(__init__)\n",
      "      180    0.000    0.000    0.000    0.000 threading.py:246(__enter__)\n",
      "      180    0.000    0.000    0.000    0.000 threading.py:249(__exit__)\n",
      "      180    0.000    0.000    0.000    0.000 threading.py:255(_release_save)\n",
      "      180    0.000    0.000    0.000    0.000 threading.py:258(_acquire_restore)\n",
      "      180    0.000    0.000    0.000    0.000 threading.py:261(_is_owned)\n",
      "      180    0.001    0.000    0.059    0.000 threading.py:270(wait)\n",
      "      180    0.000    0.000    0.001    0.000 threading.py:505(__init__)\n",
      "      900    0.000    0.000    0.000    0.000 threading.py:513(is_set)\n",
      "      180    0.000    0.000    0.059    0.000 threading.py:540(wait)\n",
      "        3    0.000    0.000    0.000    0.000 utils.py:101(wrapper_setattr)\n",
      "        1    0.000    0.000    0.000    0.000 utils.py:105(__init__)\n",
      "        2    0.000    0.000    0.000    0.000 utils.py:136(disable_on_exception)\n",
      "      358    0.001    0.000    0.074    0.000 utils.py:143(inner)\n",
      " 17014300    6.959    0.000    8.101    0.000 utils.py:152(is_subsequence)\n",
      "        1    0.000    0.000    0.000    0.000 utils.py:162(__init__)\n",
      "        2    0.000    0.000    0.000    0.000 utils.py:171(__eq__)\n",
      "        1    0.000    0.000    0.000    0.000 utils.py:201(_is_utf)\n",
      "        1    0.000    0.000    0.000    0.000 utils.py:215(_supports_unicode)\n",
      "      356    0.001    0.000    0.001    0.000 utils.py:222(_is_ascii)\n",
      "        1    0.000    0.000    0.000    0.000 utils.py:231(_screen_shape_wrapper)\n",
      "        1    0.000    0.000    0.000    0.000 utils.py:282(_screen_shape_linux)\n",
      "      534    0.001    0.000    0.013    0.000 utils.py:329(_text_width)\n",
      "    37238    0.006    0.000    0.009    0.000 utils.py:330(<genexpr>)\n",
      "      534    0.000    0.000    0.014    0.000 utils.py:333(disp_len)\n",
      "      178    0.000    0.000    0.005    0.000 utils.py:341(disp_trim)\n",
      "      178    0.000    0.000    0.000    0.000 utils.py:57(__init__)\n",
      "      178    0.000    0.000    0.000    0.000 utils.py:61(__format__)\n",
      "        1    0.000    0.000    0.000    0.000 utils.py:74(__eq__)\n",
      "        2    0.000    0.000    0.000    0.000 utils.py:88(__getattr__)\n",
      "        1    0.000    0.000    0.000    0.000 {built-in method __new__ of type object at 0x908780}\n",
      "      180    0.000    0.000    0.000    0.000 {built-in method _imp.lock_held}\n",
      "      360    0.000    0.000    0.000    0.000 {built-in method _thread.allocate_lock}\n",
      "        2    0.000    0.000    0.000    0.000 {built-in method _weakref.proxy}\n",
      "      180    0.000    0.000    0.000    0.000 {built-in method builtins.abs}\n",
      "      888    0.000    0.000    0.000    0.000 {built-in method builtins.divmod}\n",
      "        1    0.000    0.000   19.164   19.164 {built-in method builtins.exec}\n",
      "        9    0.000    0.000    0.000    0.000 {built-in method builtins.getattr}\n",
      "      360    0.000    0.000    0.000    0.000 {built-in method builtins.hasattr}\n",
      "  1103111    0.081    0.000    0.081    0.000 {built-in method builtins.id}\n",
      "      536    0.000    0.000    0.000    0.000 {built-in method builtins.isinstance}\n",
      "   170681    0.016    0.000    0.016    0.000 {built-in method builtins.len}\n",
      "      356    0.000    0.000    0.000    0.000 {built-in method builtins.max}\n",
      "        1    0.000    0.000    0.000    0.000 {built-in method builtins.min}\n",
      "     3738    0.000    0.000    0.000    0.000 {built-in method builtins.ord}\n",
      "      534    0.003    0.000    0.012    0.000 {built-in method builtins.sum}\n",
      "        1    0.000    0.000    0.000    0.000 {built-in method fcntl.ioctl}\n",
      "      177    0.001    0.000    0.001    0.000 {built-in method now}\n",
      "      180    0.000    0.000    0.000    0.000 {built-in method posix.getpid}\n",
      "     4349    0.001    0.000    0.001    0.000 {built-in method time.time}\n",
      "    36704    0.003    0.000    0.003    0.000 {built-in method unicodedata.east_asian_width}\n",
      "        1    0.000    0.000    0.000    0.000 {built-in method utcfromtimestamp}\n",
      "      180    0.000    0.000    0.000    0.000 {method '__enter__' of '_thread.lock' objects}\n",
      "      180    0.000    0.000    0.000    0.000 {method '__exit__' of '_thread.lock' objects}\n",
      "      181    0.000    0.000    0.000    0.000 {method 'acquire' of '_multiprocessing.SemLock' objects}\n",
      "      181    0.000    0.000    0.000    0.000 {method 'acquire' of '_thread.RLock' objects}\n",
      "     1619    0.058    0.000    0.058    0.000 {method 'acquire' of '_thread.lock' objects}\n",
      "        3    0.000    0.000    0.000    0.000 {method 'add' of 'set' objects}\n",
      "      899    0.000    0.000    0.000    0.000 {method 'append' of 'collections.deque' objects}\n",
      "   336288    0.025    0.000    0.025    0.000 {method 'append' of 'list' objects}\n",
      "        1    0.000    0.000    0.000    0.000 {method 'difference' of 'set' objects}\n",
      "        1    0.000    0.000    0.000    0.000 {method 'disable' of '_lsprof.Profiler' objects}\n",
      "        1    0.000    0.000    0.000    0.000 {method 'encode' of 'str' objects}\n",
      "     1421    0.003    0.000    0.004    0.000 {method 'format' of 'str' objects}\n",
      "  1605360    0.125    0.000    0.125    0.000 {method 'get' of 'dict' objects}\n",
      " 17014300    1.142    0.000    1.142    0.000 {method 'issubset' of 'set' objects}\n",
      "   300426    0.027    0.000    0.027    0.000 {method 'items' of 'dict' objects}\n",
      "    29507    0.004    0.000    0.004    0.000 {method 'join' of 'str' objects}\n",
      "   140636    0.019    0.000    0.019    0.000 {method 'pop' of 'dict' objects}\n",
      "      181    0.000    0.000    0.000    0.000 {method 'release' of '_multiprocessing.SemLock' objects}\n",
      "      181    0.000    0.000    0.000    0.000 {method 'release' of '_thread.RLock' objects}\n",
      "      180    0.000    0.000    0.000    0.000 {method 'release' of '_thread.lock' objects}\n",
      "        3    0.000    0.000    0.000    0.000 {method 'remove' of 'set' objects}\n",
      " 34028600    3.403    0.000    3.403    0.000 {method 'split' of 'str' objects}\n",
      "      534    0.001    0.000    0.001    0.000 {method 'sub' of 're.Pattern' objects}\n",
      "      178    0.000    0.000    0.000    0.000 {method 'update' of 'dict' objects}\n",
      "\n",
      "\n"
     ]
    }
   ],
   "source": [
    "import cProfile\n",
    "cProfile.run(\"narratives = m.predict(postproc_roles, progress_bar = True, prettify = False)\")"
   ]
  },
  {
   "cell_type": "code",
   "execution_count": 14,
   "id": "d10b113d",
   "metadata": {},
   "outputs": [
    {
     "name": "stdout",
     "output_type": "stream",
     "text": [
      "('house pass bill', 4)\n",
      "('china take u.s.', 4)\n",
      "('pelosi demand republicans|house', 3)\n",
      "('dem want senate', 3)\n",
      "('dem run senate', 3)\n",
      "('north carolina make republican', 3)\n",
      "('foxnews discuss barackobama', 3)\n",
      "('canada look china', 3)\n",
      "('foxnews discuss mittromney', 3)\n",
      "('iran take iraq', 3)\n"
     ]
    }
   ],
   "source": [
    "pretty_narratives = []\n",
    "for n in narratives: \n",
    "    if n.get('ARG0') not in [\"\", None]:\n",
    "        if n.get('B-V') not in [\"\", None]:\n",
    "            if n.get('ARG1') not in [\"\", None]:\n",
    "                pretty_narratives.append(prettify(n))\n",
    "                \n",
    "pretty_narratives = Counter(pretty_narratives)\n",
    "for t in pretty_narratives.most_common(10): print(t)"
   ]
  },
  {
   "cell_type": "code",
   "execution_count": 15,
   "id": "8f10ce93",
   "metadata": {
    "scrolled": true
   },
   "outputs": [
    {
     "name": "stdout",
     "output_type": "stream",
     "text": [
      "Computing vectors for known entities...\n"
     ]
    },
    {
     "name": "stderr",
     "output_type": "stream",
     "text": [
      "100%|██████████████████████████████████| 150213/150213 [17:05<00:00, 146.45it/s]\n"
     ]
    }
   ],
   "source": [
    "m = NarrativeModel(model_type = 'dynamic',\n",
    "                   roles_considered = ['ARG0', 'B-V', 'B-ARGM-NEG', 'B-ARGM-MOD', 'ARG1', 'ARG2'],\n",
    "                   roles_with_entities = ['ARG0','ARG1','ARG2'],\n",
    "                   list_of_known_entities = top_known_entities,\n",
    "                   assignment_to_known_entities = 'embeddings',\n",
    "                   roles_with_embeddings = [['ARG0','ARG1','ARG2']],\n",
    "                   embeddings_model = None,\n",
    "                   threshold = 0.3)    \n",
    "\n",
    "m.train(postproc_roles, progress_bar = True)"
   ]
  },
  {
   "cell_type": "code",
   "execution_count": 16,
   "id": "54cc601a",
   "metadata": {
    "scrolled": true
   },
   "outputs": [
    {
     "name": "stderr",
     "output_type": "stream",
     "text": [
      " 46%|████████████████▋                   | 69499/150213 [14:01<16:16, 82.62it/s]\n"
     ]
    },
    {
     "name": "stdout",
     "output_type": "stream",
     "text": [
      "         178271273 function calls (164777428 primitive calls) in 842.214 seconds\n",
      "\n",
      "   Ordered by: standard name\n",
      "\n",
      "   ncalls  tottime  percall  cumtime  percall filename:lineno(function)\n",
      "    50486    0.090    0.000    0.890    0.000 <__array_function__ internals>:2(amax)\n",
      "    50485    0.096    0.000    1.893    0.000 <__array_function__ internals>:2(amin)\n",
      "   128983    0.132    0.000    1.030    0.000 <__array_function__ internals>:2(atleast_1d)\n",
      "   100972    0.091    0.000    0.657    0.000 <__array_function__ internals>:2(atleast_2d)\n",
      "   583357    0.542    0.000    3.440    0.000 <__array_function__ internals>:2(concatenate)\n",
      "    78497    0.104    0.000    0.343    0.000 <__array_function__ internals>:2(count_nonzero)\n",
      "    50486    0.047    0.000    0.256    0.000 <__array_function__ internals>:2(dot)\n",
      "   128983    0.140    0.000    2.672    0.000 <__array_function__ internals>:2(hstack)\n",
      "    50486    0.071    0.000    0.995    0.000 <__array_function__ internals>:2(norm)\n",
      "   112044    0.111    0.000    1.575    0.000 <__array_function__ internals>:2(tile)\n",
      "   100972    0.109    0.000    1.901    0.000 <__array_function__ internals>:2(vstack)\n",
      "    50485    0.060    0.000    0.590    0.000 <__array_function__ internals>:2(where)\n",
      "        1    0.000    0.000  842.409  842.409 <string>:1(<module>)\n",
      "   201944    0.135    0.000    0.174    0.000 __init__.py:105(get_current_ops)\n",
      "    78497    0.267    0.000    0.724    0.000 __init__.py:981(__init__)\n",
      "   195608    0.091    0.000    0.704    0.000 _asarray.py:139(ascontiguousarray)\n",
      "   499812    0.191    0.000    1.243    0.000 _asarray.py:14(asarray)\n",
      "  2703107    0.920    0.000    1.915    0.000 _asarray.py:86(asanyarray)\n",
      "   156994    0.251    0.000    0.251    0.000 _beam_utils.pyx:199(collect_states)\n",
      "    78497    0.138    0.000    0.442    0.000 _collections_abc.py:824(update)\n",
      "    78497    0.241    0.000    0.964    0.000 _dict_proxies.py:21(__init__)\n",
      "    78497    0.845    0.000  275.639    0.004 _embeddings.py:100(get_vector)\n",
      "    78497    0.096    0.000  272.840    0.003 _embeddings.py:128(_get_default_vector)\n",
      "    78497    0.538    0.000  272.743    0.003 _embeddings.py:160(_get_default_vector)\n",
      "    50486    0.046    0.000    0.046    0.000 _embeddings.py:90(normalize)\n",
      "    78497    0.024    0.000    0.024    0.000 _embeddings.py:94(use_sif)\n",
      "   695401    6.154    0.000   13.209    0.000 _methods.py:143(_mean)\n",
      "   644915   10.740    0.000   18.164    0.000 _methods.py:176(_var)\n",
      "   454374    0.264    0.000    3.576    0.000 _methods.py:45(_sum)\n",
      "    78497    0.044    0.000    0.410    0.000 _methods.py:53(_any)\n",
      "  1340316    2.034    0.000    2.767    0.000 _methods.py:59(_count_reduce_items)\n",
      "        1    0.000    0.000    0.000    0.000 _monitor.py:93(report)\n",
      "   100972    0.161    0.000    0.161    0.000 _param_server.py:17(__init__)\n",
      "  4004340    1.755    0.000    1.755    0.000 _param_server.py:39(has_param)\n",
      "  4004340    1.362    0.000    1.362    0.000 _param_server.py:45(get_param)\n",
      "   100972    0.924    0.000    9.206    0.000 _precomputable_affine.py:19(forward)\n",
      "   103162    0.168    0.000    0.168    0.000 _retokenize.pyx:455(set_token_attrs)\n",
      "        1    0.000    0.000    0.000    0.000 _weakrefset.py:106(remove)\n",
      "        2    0.000    0.000    0.000    0.000 _weakrefset.py:16(__init__)\n",
      "        2    0.000    0.000    0.000    0.000 _weakrefset.py:20(__enter__)\n",
      "        2    0.000    0.000    0.000    0.000 _weakrefset.py:26(__exit__)\n",
      "        2    0.000    0.000    0.000    0.000 _weakrefset.py:52(_commit_removals)\n",
      "        3    0.000    0.000    0.000    0.000 _weakrefset.py:58(__iter__)\n",
      "        1    0.000    0.000    0.000    0.000 _weakrefset.py:81(add)\n",
      "    78497    0.052    0.000    0.162    0.000 abc.py:96(__instancecheck__)\n",
      "    78497    0.192    0.000    0.294    0.000 arc_eager.pyx:740(set_annotations)\n",
      "   515932    1.013    0.000    1.188    0.000 array_getitem.py:37(forward)\n",
      "    78497    2.646    0.000    3.164    0.000 attributeruler.py:107(match)\n",
      "    78497    0.249    0.000    0.263    0.000 attributeruler.py:110(<listcomp>)\n",
      "    78497    0.530    0.000    1.131    0.000 attributeruler.py:116(set_annotations)\n",
      "    78497    0.176    0.000    4.529    0.000 attributeruler.py:91(__call__)\n",
      "2860101/229955    9.409    0.000  214.334    0.001 chain.py:48(forward)\n",
      "        1    0.000    0.000    0.000    0.000 client.py:438(isclosed)\n",
      "   128983    0.588    0.000   25.151    0.000 concatenate.py:43(forward)\n",
      "   128983    0.447    0.000   21.341    0.000 concatenate.py:44(<listcomp>)\n",
      "   128983    0.341    0.000    3.138    0.000 concatenate.py:53(_array_forward)\n",
      "   128983    0.125    0.000    0.125    0.000 concatenate.py:56(<listcomp>)\n",
      " 802680/1    0.560    0.000    1.168    1.168 copy.py:128(deepcopy)\n",
      "   652466    0.047    0.000    0.047    0.000 copy.py:182(_deepcopy_atomic)\n",
      "        1    0.049    0.049    1.168    1.168 copy.py:200(_deepcopy_list)\n",
      "   150213    0.212    0.000    0.835    0.000 copy.py:226(_deepcopy_dict)\n",
      "   150214    0.054    0.000    0.076    0.000 copy.py:242(_keep_alive)\n",
      "    78497    0.109    0.000    0.109    0.000 dep_parser.pyx:255(__get__)\n",
      "    50486    0.016    0.000    0.016    0.000 dep_parser.pyx:326(_ensure_labels_are_added)\n",
      "    95680    0.552    0.000  409.802    0.004 distance.py:2616(cdist)\n",
      "   201944    0.025    0.000    0.025    0.000 doc.pxd:44(__get__)\n",
      "    78497    0.039    0.000    0.039    0.000 doc.pxd:44(__set__)\n",
      "    78497    0.210    0.000    0.298    0.000 doc.pyx:100(values)\n",
      "   156994    0.070    0.000    0.145    0.000 doc.pyx:1550(set_children_from_heads)\n",
      "   156994    0.075    0.000    0.075    0.000 doc.pyx:1583(_set_lr_kids_and_edges)\n",
      "    78497    0.945    0.000    1.909    0.000 doc.pyx:176(__init__)\n",
      "   670051    0.054    0.000    0.054    0.000 doc.pyx:41(bounds_check)\n",
      "670056/670041    0.309    0.000    0.473    0.000 doc.pyx:432(__getitem__)\n",
      "   669366    0.265    0.000    0.406    0.000 doc.pyx:465(__iter__)\n",
      "   748266    0.103    0.000    0.103    0.000 doc.pyx:478(__len__)\n",
      "    78497    0.409    0.000    1.650    0.000 doc.pyx:620(__get__)\n",
      "    78497    0.581    0.000    0.879    0.000 doc.pyx:735(set_ents)\n",
      "   102694    0.018    0.000    0.018    0.000 doc.pyx:880(__pyx_fuse_0push_back)\n",
      "      157    0.000    0.000    0.000    0.000 doc.pyx:880(__pyx_fuse_1push_back)\n",
      "   128983    0.071    0.000    2.090    0.000 doc.pyx:904(to_array (wrapper))\n",
      "   128983    1.205    0.000    2.019    0.000 doc.pyx:904(to_array)\n",
      "        3    0.000    0.000    0.000    0.000 doc.pyx:986(_realloc)\n",
      "   644915    0.861    0.000    1.088    0.000 dropout.py:26(forward)\n",
      "    78497    0.088    0.000    0.088    0.000 enum.py:398(__members__)\n",
      "    78497    0.269    0.000    0.484    0.000 errors.py:8(__getattribute__)\n",
      "   515932    1.826    0.000    7.050    0.000 expand_window.py:20(forward)\n",
      "   128983    0.560    0.000    3.628    0.000 featureextractor.py:13(forward)\n",
      "    50486    0.012    0.000    0.012    0.000 fromnumeric.py:2584(_amax_dispatcher)\n",
      "    50486    0.110    0.000    0.718    0.000 fromnumeric.py:2589(amax)\n",
      "    50485    0.018    0.000    0.018    0.000 fromnumeric.py:2709(_amin_dispatcher)\n",
      "    50485    0.155    0.000    1.690    0.000 fromnumeric.py:2714(amin)\n",
      "   100971    0.359    0.000    2.143    0.000 fromnumeric.py:70(_wrapreduction)\n",
      "   100971    0.113    0.000    0.113    0.000 fromnumeric.py:71(<dictcomp>)\n",
      "   515932    7.428    0.000   16.845    0.000 hashembed.py:58(forward)\n",
      "    25999    0.095    0.000    0.552    0.000 iostream.py:206(schedule)\n",
      "        1    0.000    0.000    0.000    0.000 iostream.py:301(fileno)\n",
      "     6500    0.012    0.000    0.020    0.000 iostream.py:418(_is_master_process)\n",
      "     6500    0.026    0.000    0.147    0.000 iostream.py:437(_schedule_flush)\n",
      "     6500    0.046    0.000    2.876    0.000 iostream.py:451(flush)\n",
      "     6500    0.041    0.000    0.435    0.000 iostream.py:500(write)\n",
      "    25999    0.021    0.000    0.021    0.000 iostream.py:96(_event_pipe)\n",
      "    78497    0.218    0.000    2.828    0.000 language.py:1060(make_doc)\n",
      "    78497    0.400    0.000    1.335    0.000 language.py:312(pipeline)\n",
      "    78497    0.242    0.000    0.242    0.000 language.py:320(<listcomp>)\n",
      "    78497    1.658    0.000  270.420    0.003 language.py:969(__call__)\n",
      "   644915    6.436    0.000   53.669    0.000 layernorm.py:24(forward)\n",
      "   644915    3.921    0.000    6.331    0.000 layernorm.py:60(_begin_update_scale_shift)\n",
      "   644915    3.494    0.000   40.902    0.000 layernorm.py:74(_get_moments)\n",
      "   102683    0.770    0.000    1.714    0.000 lemmatizer.py:172(rule_lemmatize)\n",
      "    95894    0.221    0.000    0.711    0.000 lemmatizer.py:8(is_base_form)\n",
      "    78497    0.451    0.000    2.313    0.000 lemmatizer.py:97(__call__)\n",
      "    50486    0.024    0.000    0.031    0.000 linalg.py:112(isComplexType)\n",
      "    50486    0.011    0.000    0.011    0.000 linalg.py:2359(_norm_dispatcher)\n",
      "    50486    0.440    0.000    0.857    0.000 linalg.py:2363(norm)\n",
      "   100972    0.889    0.000    3.950    0.000 linear.py:32(forward)\n",
      "   100972    0.315    0.000    2.244    0.000 list2array.py:21(forward)\n",
      "   100972    0.066    0.000    0.083    0.000 list2array.py:22(<listcomp>)\n",
      "   128983    0.544    0.000    3.344    0.000 list2ragged.py:21(forward)\n",
      "   128983    0.070    0.000    0.097    0.000 list2ragged.py:25(<listcomp>)\n",
      "   103506    0.069    0.000    0.143    0.000 lookups.py:109(get)\n",
      "   103506    0.047    0.000    0.047    0.000 lookups.py:220(get_table)\n",
      "   644915    9.833    0.000   78.007    0.000 maxout.py:42(forward)\n",
      "  7678415    1.220    0.000    1.220    0.000 model.py:105(layers)\n",
      "  7729232    1.260    0.000    1.260    0.000 model.py:116(attrs)\n",
      "   100972    0.048    0.000    0.048    0.000 model.py:157(has_dim)\n",
      "  2843493    0.979    0.000    0.979    0.000 model.py:168(get_dim)\n",
      "  4004340    4.133    0.000    7.249    0.000 model.py:211(get_param)\n",
      "8137332/459910    7.765    0.000  223.729    0.000 model.py:288(__call__)\n",
      "   229955    2.035    0.000  232.028    0.001 model.py:311(predict)\n",
      "  3735964    3.245    0.000    5.244    0.000 model.py:355(walk)\n",
      "   100972    0.926    0.000    1.487    0.000 model.py:66(__init__)\n",
      "   100972    1.977    0.000    7.853    0.000 model.py:759(set_dropout_rate)\n",
      "   583357    0.132    0.000    0.132    0.000 multiarray.py:143(concatenate)\n",
      "    50485    0.017    0.000    0.017    0.000 multiarray.py:311(where)\n",
      "    50486    0.014    0.000    0.014    0.000 multiarray.py:706(dot)\n",
      "        1    0.428    0.428  842.409  842.409 narrative_models.py:125(predict)\n",
      "        1    0.000    0.000  842.409  842.409 narrative_models.py:507(predict)\n",
      "    95680    0.385    0.000  412.014    0.004 narrative_models.py:82(compute_distances)\n",
      "    78497    2.172    0.000  835.883    0.011 narrative_models.py:86(_process_srl_item_for_prediction)\n",
      "    78497    0.036    0.000    0.270    0.000 nonproj.pyx:111(deprojectivize (wrapper))\n",
      "    78497    0.191    0.000    0.234    0.000 nonproj.pyx:111(deprojectivize)\n",
      "    78497    0.022    0.000    0.022    0.000 numeric.py:387(_count_nonzero_dispatcher)\n",
      "    78497    0.071    0.000    0.141    0.000 numeric.py:391(count_nonzero)\n",
      "   644915    5.065    0.000    5.192    0.000 numpy_ops.pyx:144(maxout)\n",
      "   403888    1.006    0.000    2.377    0.000 numpy_ops.pyx:185(seq2col)\n",
      "   403888    1.041    0.000    1.864    0.000 numpy_ops.pyx:207(hash)\n",
      "   100972    0.091    0.000    0.091    0.000 numpy_ops.pyx:50(__init__)\n",
      "  1183322    6.543    0.000    6.820    0.000 numpy_ops.pyx:63(asarray)\n",
      "  1003853    2.361    0.000    2.361    0.000 numpy_ops.pyx:79(alloc)\n",
      "   897345   61.334    0.000   62.692    0.000 numpy_ops.pyx:82(gemm)\n",
      "   112044    0.151    0.000    1.726    0.000 ops.py:203(tile)\n",
      "    50486    0.371    0.000    1.706    0.000 ops.py:206(affine)\n",
      "   409424    1.688    0.000    4.767    0.000 ops.py:214(flatten)\n",
      "   409424    0.231    0.000    0.231    0.000 ops.py:226(<listcomp>)\n",
      "   308452    2.416    0.000    2.601    0.000 ops.py:241(unflatten)\n",
      "   644915    0.529    0.000    2.219    0.000 ops.py:434(reshape1f)\n",
      "   644915    0.470    0.000    2.090    0.000 ops.py:437(reshape2f)\n",
      "   644915    0.447    0.000    1.575    0.000 ops.py:440(reshape3f)\n",
      "  1934745    1.831    0.000    4.288    0.000 ops.py:466(reshape)\n",
      "   644915    1.164    0.000    5.299    0.000 ops.py:504(asarray_f)\n",
      "   409424    0.655    0.000    3.050    0.000 ops.py:512(asarray1i)\n",
      "   128983    0.326    0.000    0.783    0.000 ops.py:517(asarray2i)\n",
      "  2198578    2.113    0.000    2.817    0.000 ops.py:559(as_contig)\n",
      "    50486    0.548    0.000    1.809    0.000 ops.py:594(softmax)\n",
      "   941964    0.698    0.000    0.698    0.000 pipe.pyx:118(get_error_handler)\n",
      "   128983    0.289    0.000    1.547    0.000 ragged2list.py:18(forward)\n",
      "   515932    1.903    0.000  120.647    0.000 residual.py:27(forward)\n",
      "        1    0.000    0.000    0.000    0.000 response.py:635(closed)\n",
      "   112044    0.021    0.000    0.021    0.000 shape_base.py:1167(_tile_dispatcher)\n",
      "   112044    0.899    0.000    1.327    0.000 shape_base.py:1171(tile)\n",
      "   224088    0.058    0.000    0.058    0.000 shape_base.py:1243(<genexpr>)\n",
      "   336132    0.091    0.000    0.091    0.000 shape_base.py:1253(<genexpr>)\n",
      "   128983    0.024    0.000    0.024    0.000 shape_base.py:20(_atleast_1d_dispatcher)\n",
      "   229955    0.118    0.000    0.217    0.000 shape_base.py:208(_arrays_for_stack_dispatcher)\n",
      "   229955    0.130    0.000    0.347    0.000 shape_base.py:219(_vhstack_dispatcher)\n",
      "   100972    0.236    0.000    1.536    0.000 shape_base.py:223(vstack)\n",
      "   128983    0.402    0.000    0.779    0.000 shape_base.py:24(atleast_1d)\n",
      "   128983    0.364    0.000    2.216    0.000 shape_base.py:286(hstack)\n",
      "   100972    0.019    0.000    0.019    0.000 shape_base.py:78(_atleast_2d_dispatcher)\n",
      "   100972    0.269    0.000    0.481    0.000 shape_base.py:82(atleast_2d)\n",
      "    25999    0.335    0.000    0.335    0.000 socket.py:474(send)\n",
      "    50486    0.269    0.000    3.988    0.000 softmax.py:31(forward)\n",
      "     6501    0.022    0.000    0.034    0.000 std.py:104(acquire)\n",
      "     6501    0.020    0.000    0.025    0.000 std.py:108(release)\n",
      "        4    0.000    0.000    0.000    0.000 std.py:112(__enter__)\n",
      "        4    0.000    0.000    0.000    0.000 std.py:115(__exit__)\n",
      "     6498    0.033    0.000    0.947    0.000 std.py:1154(__str__)\n",
      "        2    0.000    0.000    0.000    0.000 std.py:1157(_comparable)\n",
      "        2    0.000    0.000    0.000    0.000 std.py:1161(__hash__)\n",
      "    69501    0.142    0.000    4.907    0.000 std.py:1164(__iter__)\n",
      "     6496    0.078    0.000    4.756    0.001 std.py:1202(update)\n",
      "        1    0.000    0.000    0.001    0.001 std.py:1269(close)\n",
      "        2    0.000    0.000    0.000    0.000 std.py:1290(fp_write)\n",
      "        1    0.000    0.000    0.000    0.000 std.py:1305(<lambda>)\n",
      "     6497    0.027    0.000    4.631    0.001 std.py:1329(refresh)\n",
      "     6498    0.040    0.000    0.051    0.000 std.py:1450(format_dict)\n",
      "     6498    0.029    0.000    4.545    0.001 std.py:1468(display)\n",
      "     6498    0.014    0.000    0.018    0.000 std.py:155(__init__)\n",
      "     6498    0.002    0.000    0.002    0.000 std.py:165(colour)\n",
      "     6498    0.003    0.000    0.003    0.000 std.py:169(colour)\n",
      "     6498    0.028    0.000    0.032    0.000 std.py:188(__format__)\n",
      "        3    0.000    0.000    0.000    0.000 std.py:229(__init__)\n",
      "    38977    0.055    0.000    0.055    0.000 std.py:234(__call__)\n",
      "    12995    0.022    0.000    0.059    0.000 std.py:289(format_interval)\n",
      "        1    0.000    0.000    0.000    0.000 std.py:330(status_printer)\n",
      "     6498    0.024    0.000    3.360    0.001 std.py:343(fp_write)\n",
      "     6498    0.020    0.000    3.564    0.001 std.py:349(print_status)\n",
      "     6498    0.203    0.000    0.863    0.000 std.py:356(format_meter)\n",
      "        1    0.000    0.000    0.000    0.000 std.py:563(__new__)\n",
      "        1    0.000    0.000    0.000    0.000 std.py:579(_get_free_pos)\n",
      "        1    0.000    0.000    0.000    0.000 std.py:582(<setcomp>)\n",
      "        1    0.000    0.000    0.000    0.000 std.py:586(_decr_instances)\n",
      "        1    0.000    0.000    0.000    0.000 std.py:660(get_lock)\n",
      "        1    0.000    0.000    0.001    0.001 std.py:849(__init__)\n",
      "  1452691    1.596    0.000    1.596    0.000 stringsource:345(__cinit__)\n",
      "  1452691    0.255    0.000    0.255    0.000 stringsource:372(__dealloc__)\n",
      "  1452691    1.154    0.000    2.751    0.000 stringsource:657(memoryview_cwrapper)\n",
      "  1452691    0.287    0.000    0.287    0.000 stringsource:663(memoryview_check)\n",
      "    78497    0.069    0.000    0.079    0.000 tagger.pyx:105(genexpr)\n",
      "    50486    0.189    0.000    0.189    0.000 tagger.pyx:117(_scores2guesses)\n",
      "    78497    0.654    0.000    0.827    0.000 tagger.pyx:126(set_annotations)\n",
      "   130861    0.173    0.000    0.188    0.000 tagger.pyx:81(labels)\n",
      "    78497    0.428    0.000    8.153    0.000 tagger.pyx:97(predict)\n",
      "   100972    2.994    0.000  106.638    0.001 tb_framework.py:32(forward)\n",
      "    32499    0.022    0.000    0.040    0.000 threading.py:1017(_wait_for_tstate_lock)\n",
      "    32499    0.058    0.000    0.108    0.000 threading.py:1071(is_alive)\n",
      "     6500    0.045    0.000    0.045    0.000 threading.py:222(__init__)\n",
      "     6500    0.005    0.000    0.008    0.000 threading.py:246(__enter__)\n",
      "     6500    0.004    0.000    0.005    0.000 threading.py:249(__exit__)\n",
      "     6484    0.006    0.000    0.009    0.000 threading.py:255(_release_save)\n",
      "     6484    0.004    0.000    0.006    0.000 threading.py:258(_acquire_restore)\n",
      "     6484    0.005    0.000    0.009    0.000 threading.py:261(_is_owned)\n",
      "     6484    0.041    0.000    2.508    0.000 threading.py:270(wait)\n",
      "     6500    0.017    0.000    0.064    0.000 threading.py:505(__init__)\n",
      "    32500    0.010    0.000    0.010    0.000 threading.py:513(is_set)\n",
      "     6500    0.023    0.000    2.544    0.000 threading.py:540(wait)\n",
      "    78497    0.521    0.000  119.944    0.002 tok2vec.py:112(predict)\n",
      "    78497    0.224    0.000    0.333    0.000 tok2vec.py:127(set_annotations)\n",
      "    78497    0.105    0.000    0.829    0.000 tok2vec.py:252(get_batch_id)\n",
      "   156994    0.160    0.000    0.633    0.000 tok2vec.py:257(<genexpr>)\n",
      "   156994    0.184    0.000    0.184    0.000 tok2vec.py:259(receive)\n",
      "   100972    0.285    0.000    0.404    0.000 tok2vec.py:282(forward)\n",
      "    78497    0.117    0.000    0.443    0.000 tok2vec.py:66(listeners)\n",
      "    78497    0.094    0.000    0.094    0.000 tok2vec.py:71(<listcomp>)\n",
      "    78497    0.210    0.000    0.233    0.000 tok2vec.py:73(listening_components)\n",
      "  1081451    0.252    0.000    0.252    0.000 token.pxd:21(cinit)\n",
      "       60    0.000    0.000    0.000    0.000 tokenizer.pyx:106(__get__)\n",
      "    78497    0.113    0.000    2.589    0.000 tokenizer.pyx:135(__call__)\n",
      "    78497    0.315    0.000    2.348    0.000 tokenizer.pyx:148(_tokenize_affixes)\n",
      "    78497    0.128    0.000    0.128    0.000 tokenizer.pyx:226(_apply_special_cases)\n",
      "        5    0.000    0.000    0.000    0.000 tokenizer.pyx:286(_prepare_special_spans)\n",
      "        5    0.000    0.000    0.000    0.000 tokenizer.pyx:306(_retokenize_special_spans)\n",
      "   102154    0.104    0.000    0.122    0.000 tokenizer.pyx:347(_try_specials_and_cache)\n",
      "       30    0.000    0.000    0.001    0.000 tokenizer.pyx:376(_tokenize)\n",
      "       30    0.000    0.000    0.001    0.000 tokenizer.pyx:388(_split_affixes)\n",
      "       30    0.000    0.000    0.001    0.000 tokenizer.pyx:433(_attach_tokens)\n",
      "       30    0.000    0.000    0.000    0.000 tokenizer.pyx:495(_save_cached)\n",
      "       30    0.000    0.000    0.000    0.000 tokenizer.pyx:516(find_infix)\n",
      "       30    0.000    0.000    0.000    0.000 tokenizer.pyx:530(find_prefix)\n",
      "       30    0.000    0.000    0.000    0.000 tokenizer.pyx:544(find_suffix)\n",
      "       60    0.000    0.000    0.000    0.000 tokenizer.pyx:74(__get__)\n",
      "       60    0.000    0.000    0.000    0.000 tokenizer.pyx:82(__get__)\n",
      "       60    0.000    0.000    0.000    0.000 tokenizer.pyx:90(__get__)\n",
      "       60    0.000    0.000    0.000    0.000 tokenizer.pyx:98(__get__)\n",
      "   181347    0.023    0.000    0.023    0.000 trainable_pipe.pxd:5(__get__)\n",
      "   156994    0.025    0.000    0.025    0.000 trainable_pipe.pxd:6(__get__)\n",
      "   130861    0.016    0.000    0.016    0.000 trainable_pipe.pxd:7(__get__)\n",
      "   313988   10.072    0.000  256.397    0.001 trainable_pipe.pyx:40(__call__)\n",
      "   386949    0.996    0.000    1.548    0.000 types.py:846(__init__)\n",
      "   386949    0.438    0.000    0.751    0.000 types.py:855(dataXd)\n",
      "  7985874    0.829    0.000    0.829    0.000 typing.py:1149(cast)\n",
      "   437435    0.565    0.000    2.548    0.000 typing.py:255(inner)\n",
      "   358938    0.164    0.000    0.211    0.000 typing.py:329(__hash__)\n",
      "   717876    0.259    0.000    0.368    0.000 typing.py:532(__hash__)\n",
      "1076814/358938    0.922    0.000    1.983    0.000 typing.py:720(__hash__)\n",
      "   100972    0.301    0.000    0.353    0.000 typing.py:868(__new__)\n",
      "        5    0.000    0.000    0.000    0.000 util.py:1100(normalize_slice)\n",
      "    78497    0.134    0.000    0.134    0.000 util.py:188(__init__)\n",
      "   100972    0.231    0.000    0.231    0.000 util.py:386(partial)\n",
      "   487921    0.266    0.000    0.388    0.000 util.py:56(get_array_module)\n",
      "   487921    0.122    0.000    0.122    0.000 util.py:90(is_cupy_array)\n",
      "   100972    0.096    0.000    0.182    0.000 util.py:966(get_cuda_stream)\n",
      "        3    0.000    0.000    0.000    0.000 utils.py:101(wrapper_setattr)\n",
      "        1    0.000    0.000    0.000    0.000 utils.py:105(__init__)\n",
      "        2    0.000    0.000    0.000    0.000 utils.py:136(disable_on_exception)\n",
      "    12998    0.026    0.000    3.337    0.000 utils.py:143(inner)\n",
      "        1    0.000    0.000    0.000    0.000 utils.py:162(__init__)\n",
      "        2    0.000    0.000    0.000    0.000 utils.py:171(__eq__)\n",
      "        1    0.000    0.000    0.000    0.000 utils.py:201(_is_utf)\n",
      "        1    0.000    0.000    0.000    0.000 utils.py:215(_supports_unicode)\n",
      "    12996    0.030    0.000    0.043    0.000 utils.py:222(_is_ascii)\n",
      "        1    0.000    0.000    0.000    0.000 utils.py:231(_screen_shape_wrapper)\n",
      "        1    0.000    0.000    0.000    0.000 utils.py:282(_screen_shape_linux)\n",
      "    19494    0.020    0.000    0.515    0.000 utils.py:329(_text_width)\n",
      "  1345122    0.255    0.000    0.374    0.000 utils.py:330(<genexpr>)\n",
      "    19494    0.022    0.000    0.558    0.000 utils.py:333(disp_len)\n",
      "     6498    0.009    0.000    0.205    0.000 utils.py:341(disp_trim)\n",
      "     6498    0.005    0.000    0.005    0.000 utils.py:57(__init__)\n",
      "     6498    0.003    0.000    0.003    0.000 utils.py:61(__format__)\n",
      "        1    0.000    0.000    0.000    0.000 utils.py:74(__eq__)\n",
      "        2    0.000    0.000    0.000    0.000 utils.py:88(__getattr__)\n",
      "   206012    0.034    0.000    0.034    0.000 vocab.pxd:28(__get__)\n",
      "       30    0.000    0.000    0.000    0.000 vocab.pyx:131(get)\n",
      "    28011    0.024    0.000    0.024    0.000 vocab.pyx:275(__get__)\n",
      "   437435    1.211    0.000  195.539    0.000 with_array.py:28(forward)\n",
      "   179469    1.237    0.000  132.953    0.001 with_array.py:69(_list_forward)\n",
      "   179469    0.116    0.000    0.147    0.000 with_array.py:74(<listcomp>)\n",
      "   257966    0.852    0.000   58.641    0.000 with_array.py:86(_ragged_forward)\n",
      "   100973    0.052    0.000    0.052    0.000 {built-in method __new__ of type object at 0x908780}\n",
      "    78497    0.110    0.000    0.110    0.000 {built-in method _abc._abc_instancecheck}\n",
      "     6500    0.003    0.000    0.003    0.000 {built-in method _imp.lock_held}\n",
      "    12984    0.005    0.000    0.005    0.000 {built-in method _thread.allocate_lock}\n",
      "        2    0.000    0.000    0.000    0.000 {built-in method _weakref.proxy}\n",
      "     6500    0.003    0.000    0.003    0.000 {built-in method builtins.abs}\n",
      "   112044    0.054    0.000    0.086    0.000 {built-in method builtins.all}\n",
      "    34502    0.012    0.000    0.012    0.000 {built-in method builtins.any}\n",
      "    95680    0.023    0.000    0.023    0.000 {built-in method builtins.callable}\n",
      "    32488    0.006    0.000    0.006    0.000 {built-in method builtins.divmod}\n",
      "        1    0.000    0.000  842.409  842.409 {built-in method builtins.exec}\n",
      "        9    0.000    0.000    0.000    0.000 {built-in method builtins.getattr}\n",
      "  1392400    0.656    0.000    0.656    0.000 {built-in method builtins.hasattr}\n",
      "2153628/1076814    0.638    0.000    1.061    0.000 {built-in method builtins.hash}\n",
      "  8373095    0.687    0.000    0.687    0.000 {built-in method builtins.id}\n",
      "  8286055    1.392    0.000    1.555    0.000 {built-in method builtins.isinstance}\n",
      "  2781604    0.569    0.000    0.569    0.000 {built-in method builtins.issubclass}\n",
      "  4647010    0.772    0.000    0.785    0.000 {built-in method builtins.len}\n",
      "   657921    0.388    0.000    0.388    0.000 {built-in method builtins.max}\n",
      "    95690  143.556    0.002  143.556    0.002 {built-in method builtins.min}\n",
      "   136458    0.011    0.000    0.011    0.000 {built-in method builtins.ord}\n",
      "   201944    0.061    0.000    0.061    0.000 {built-in method builtins.setattr}\n",
      "176488/97991    0.331    0.000    1.219    0.000 {built-in method builtins.sum}\n",
      "        1    0.000    0.000    0.000    0.000 {built-in method fcntl.ioctl}\n",
      "     6497    0.027    0.000    0.027    0.000 {built-in method now}\n",
      "  3589068    2.880    0.000    2.880    0.000 {built-in method numpy.array}\n",
      "    78497    0.070    0.000    0.070    0.000 {built-in method numpy.core._multiarray_umath.count_nonzero}\n",
      "1486236/975840    4.265    0.000   11.212    0.000 {built-in method numpy.core._multiarray_umath.implement_array_function}\n",
      "  1340316    0.513    0.000    0.513    0.000 {built-in method numpy.core._multiarray_umath.normalize_axis_index}\n",
      "   201944    0.301    0.000    0.301    0.000 {built-in method numpy.zeros}\n",
      "     6500    0.008    0.000    0.008    0.000 {built-in method posix.getpid}\n",
      "    95680  409.016    0.004  409.016    0.004 {built-in method scipy.spatial._distance_pybind.cdist_euclidean}\n",
      "    35976    0.012    0.000    0.012    0.000 {built-in method time.time}\n",
      "  1325628    0.119    0.000    0.119    0.000 {built-in method unicodedata.east_asian_width}\n",
      "        1    0.000    0.000    0.000    0.000 {built-in method utcfromtimestamp}\n",
      "     6500    0.003    0.000    0.003    0.000 {method '__enter__' of '_thread.lock' objects}\n",
      "     6500    0.001    0.000    0.001    0.000 {method '__exit__' of '_thread.lock' objects}\n",
      "     6501    0.008    0.000    0.008    0.000 {method 'acquire' of '_multiprocessing.SemLock' objects}\n",
      "     6501    0.004    0.000    0.004    0.000 {method 'acquire' of '_thread.RLock' objects}\n",
      "    58435    2.464    0.000    2.464    0.000 {method 'acquire' of '_thread.lock' objects}\n",
      "  3634995    0.462    0.000    0.462    0.000 {method 'add' of 'set' objects}\n",
      "    78497    0.090    0.000    0.499    0.000 {method 'any' of 'numpy.ndarray' objects}\n",
      "    32483    0.007    0.000    0.007    0.000 {method 'append' of 'collections.deque' objects}\n",
      "  8325714    1.031    0.000    1.031    0.000 {method 'append' of 'list' objects}\n",
      "        1    0.000    0.000    0.000    0.000 {method 'difference' of 'set' objects}\n",
      "        1    0.000    0.000    0.000    0.000 {method 'disable' of '_lsprof.Profiler' objects}\n",
      "        1    0.000    0.000    0.000    0.000 {method 'encode' of 'str' objects}\n",
      "  3634992    0.446    0.000    0.446    0.000 {method 'extend' of 'list' objects}\n",
      "    95679    1.719    0.000    1.719    0.000 {method 'flatten' of 'numpy.ndarray' objects}\n",
      "   208975    0.371    0.000    0.406    0.000 {method 'format' of 'str' objects}\n",
      "   201944    0.039    0.000    0.039    0.000 {method 'get' of 'ContextVar' objects}\n",
      "  2446267    0.285    0.000    0.285    0.000 {method 'get' of 'dict' objects}\n",
      "   627976    0.330    0.000    0.907    0.000 {method 'get_error_handler' of 'spacy.pipeline.pipe.Pipe' objects}\n",
      "   500153    0.085    0.000    0.085    0.000 {method 'items' of 'dict' objects}\n",
      "    78497    0.023    0.000    0.023    0.000 {method 'keys' of 'dict' objects}\n",
      "   350088    0.068    0.000    0.068    0.000 {method 'lower' of 'str' objects}\n",
      "   644915    0.842    0.000   12.913    0.000 {method 'mean' of 'numpy.ndarray' objects}\n",
      "    28011    0.009    0.000    0.009    0.000 {method 'pop' of 'dict' objects}\n",
      "    50486    0.073    0.000    0.073    0.000 {method 'ravel' of 'numpy.ndarray' objects}\n",
      "  2619073   14.373    0.000   14.373    0.000 {method 'reduce' of 'numpy.ufunc' objects}\n",
      "     6501    0.003    0.000    0.003    0.000 {method 'release' of '_multiprocessing.SemLock' objects}\n",
      "     6501    0.003    0.000    0.003    0.000 {method 'release' of '_thread.RLock' objects}\n",
      "     6484    0.003    0.000    0.003    0.000 {method 'release' of '_thread.lock' objects}\n",
      "        3    0.000    0.000    0.000    0.000 {method 'remove' of 'set' objects}\n",
      "  3118311    3.170    0.000    3.170    0.000 {method 'reshape' of 'numpy.ndarray' objects}\n",
      "    78497    0.039    0.000    0.039    0.000 {method 'sort' of 'list' objects}\n",
      "    78497    0.047    0.000    0.047    0.000 {method 'split' of 'str' objects}\n",
      "    78497    0.029    0.000    0.029    0.000 {method 'startswith' of 'str' objects}\n",
      "    19494    0.021    0.000    0.021    0.000 {method 'sub' of 're.Pattern' objects}\n",
      "   454374    0.560    0.000    4.136    0.000 {method 'sum' of 'numpy.ndarray' objects}\n",
      "   128983    0.096    0.000    2.186    0.000 {method 'to_array' of 'spacy.tokens.doc.Doc' objects}\n",
      "    95894    0.453    0.000    0.453    0.000 {method 'to_dict' of 'spacy.tokens.morphanalysis.MorphAnalysis' objects}\n",
      "     6498    0.003    0.000    0.003    0.000 {method 'update' of 'dict' objects}\n",
      "   644915    0.981    0.000   19.145    0.000 {method 'var' of 'numpy.ndarray' objects}\n",
      "   103506    0.056    0.000    0.056    0.000 {spacy.strings.get_string_id}\n",
      "   103162    0.110    0.000    0.279    0.000 {spacy.tokens._retokenize.set_token_attrs}\n",
      "\n",
      "\n"
     ]
    },
    {
     "ename": "KeyboardInterrupt",
     "evalue": "",
     "output_type": "error",
     "traceback": [
      "\u001b[0;31m---------------------------------------------------------------------------\u001b[0m",
      "\u001b[0;31mKeyboardInterrupt\u001b[0m                         Traceback (most recent call last)",
      "\u001b[0;32m/tmp/ipykernel_248479/3845057126.py\u001b[0m in \u001b[0;36m<module>\u001b[0;34m\u001b[0m\n\u001b[0;32m----> 1\u001b[0;31m \u001b[0mcProfile\u001b[0m\u001b[0;34m.\u001b[0m\u001b[0mrun\u001b[0m\u001b[0;34m(\u001b[0m\u001b[0;34m\"narratives = m.predict(postproc_roles, progress_bar = True, prettify = False)\"\u001b[0m\u001b[0;34m)\u001b[0m\u001b[0;34m\u001b[0m\u001b[0;34m\u001b[0m\u001b[0m\n\u001b[0m",
      "\u001b[0;32m/usr/lib/python3.8/cProfile.py\u001b[0m in \u001b[0;36mrun\u001b[0;34m(statement, filename, sort)\u001b[0m\n\u001b[1;32m     14\u001b[0m \u001b[0;34m\u001b[0m\u001b[0m\n\u001b[1;32m     15\u001b[0m \u001b[0;32mdef\u001b[0m \u001b[0mrun\u001b[0m\u001b[0;34m(\u001b[0m\u001b[0mstatement\u001b[0m\u001b[0;34m,\u001b[0m \u001b[0mfilename\u001b[0m\u001b[0;34m=\u001b[0m\u001b[0;32mNone\u001b[0m\u001b[0;34m,\u001b[0m \u001b[0msort\u001b[0m\u001b[0;34m=\u001b[0m\u001b[0;34m-\u001b[0m\u001b[0;36m1\u001b[0m\u001b[0;34m)\u001b[0m\u001b[0;34m:\u001b[0m\u001b[0;34m\u001b[0m\u001b[0;34m\u001b[0m\u001b[0m\n\u001b[0;32m---> 16\u001b[0;31m     \u001b[0;32mreturn\u001b[0m \u001b[0m_pyprofile\u001b[0m\u001b[0;34m.\u001b[0m\u001b[0m_Utils\u001b[0m\u001b[0;34m(\u001b[0m\u001b[0mProfile\u001b[0m\u001b[0;34m)\u001b[0m\u001b[0;34m.\u001b[0m\u001b[0mrun\u001b[0m\u001b[0;34m(\u001b[0m\u001b[0mstatement\u001b[0m\u001b[0;34m,\u001b[0m \u001b[0mfilename\u001b[0m\u001b[0;34m,\u001b[0m \u001b[0msort\u001b[0m\u001b[0;34m)\u001b[0m\u001b[0;34m\u001b[0m\u001b[0;34m\u001b[0m\u001b[0m\n\u001b[0m\u001b[1;32m     17\u001b[0m \u001b[0;34m\u001b[0m\u001b[0m\n\u001b[1;32m     18\u001b[0m \u001b[0;32mdef\u001b[0m \u001b[0mrunctx\u001b[0m\u001b[0;34m(\u001b[0m\u001b[0mstatement\u001b[0m\u001b[0;34m,\u001b[0m \u001b[0mglobals\u001b[0m\u001b[0;34m,\u001b[0m \u001b[0mlocals\u001b[0m\u001b[0;34m,\u001b[0m \u001b[0mfilename\u001b[0m\u001b[0;34m=\u001b[0m\u001b[0;32mNone\u001b[0m\u001b[0;34m,\u001b[0m \u001b[0msort\u001b[0m\u001b[0;34m=\u001b[0m\u001b[0;34m-\u001b[0m\u001b[0;36m1\u001b[0m\u001b[0;34m)\u001b[0m\u001b[0;34m:\u001b[0m\u001b[0;34m\u001b[0m\u001b[0;34m\u001b[0m\u001b[0m\n",
      "\u001b[0;32m/usr/lib/python3.8/profile.py\u001b[0m in \u001b[0;36mrun\u001b[0;34m(self, statement, filename, sort)\u001b[0m\n\u001b[1;32m     51\u001b[0m         \u001b[0mprof\u001b[0m \u001b[0;34m=\u001b[0m \u001b[0mself\u001b[0m\u001b[0;34m.\u001b[0m\u001b[0mprofiler\u001b[0m\u001b[0;34m(\u001b[0m\u001b[0;34m)\u001b[0m\u001b[0;34m\u001b[0m\u001b[0;34m\u001b[0m\u001b[0m\n\u001b[1;32m     52\u001b[0m         \u001b[0;32mtry\u001b[0m\u001b[0;34m:\u001b[0m\u001b[0;34m\u001b[0m\u001b[0;34m\u001b[0m\u001b[0m\n\u001b[0;32m---> 53\u001b[0;31m             \u001b[0mprof\u001b[0m\u001b[0;34m.\u001b[0m\u001b[0mrun\u001b[0m\u001b[0;34m(\u001b[0m\u001b[0mstatement\u001b[0m\u001b[0;34m)\u001b[0m\u001b[0;34m\u001b[0m\u001b[0;34m\u001b[0m\u001b[0m\n\u001b[0m\u001b[1;32m     54\u001b[0m         \u001b[0;32mexcept\u001b[0m \u001b[0mSystemExit\u001b[0m\u001b[0;34m:\u001b[0m\u001b[0;34m\u001b[0m\u001b[0;34m\u001b[0m\u001b[0m\n\u001b[1;32m     55\u001b[0m             \u001b[0;32mpass\u001b[0m\u001b[0;34m\u001b[0m\u001b[0;34m\u001b[0m\u001b[0m\n",
      "\u001b[0;32m/usr/lib/python3.8/cProfile.py\u001b[0m in \u001b[0;36mrun\u001b[0;34m(self, cmd)\u001b[0m\n\u001b[1;32m     93\u001b[0m         \u001b[0;32mimport\u001b[0m \u001b[0m__main__\u001b[0m\u001b[0;34m\u001b[0m\u001b[0;34m\u001b[0m\u001b[0m\n\u001b[1;32m     94\u001b[0m         \u001b[0mdict\u001b[0m \u001b[0;34m=\u001b[0m \u001b[0m__main__\u001b[0m\u001b[0;34m.\u001b[0m\u001b[0m__dict__\u001b[0m\u001b[0;34m\u001b[0m\u001b[0;34m\u001b[0m\u001b[0m\n\u001b[0;32m---> 95\u001b[0;31m         \u001b[0;32mreturn\u001b[0m \u001b[0mself\u001b[0m\u001b[0;34m.\u001b[0m\u001b[0mrunctx\u001b[0m\u001b[0;34m(\u001b[0m\u001b[0mcmd\u001b[0m\u001b[0;34m,\u001b[0m \u001b[0mdict\u001b[0m\u001b[0;34m,\u001b[0m \u001b[0mdict\u001b[0m\u001b[0;34m)\u001b[0m\u001b[0;34m\u001b[0m\u001b[0;34m\u001b[0m\u001b[0m\n\u001b[0m\u001b[1;32m     96\u001b[0m \u001b[0;34m\u001b[0m\u001b[0m\n\u001b[1;32m     97\u001b[0m     \u001b[0;32mdef\u001b[0m \u001b[0mrunctx\u001b[0m\u001b[0;34m(\u001b[0m\u001b[0mself\u001b[0m\u001b[0;34m,\u001b[0m \u001b[0mcmd\u001b[0m\u001b[0;34m,\u001b[0m \u001b[0mglobals\u001b[0m\u001b[0;34m,\u001b[0m \u001b[0mlocals\u001b[0m\u001b[0;34m)\u001b[0m\u001b[0;34m:\u001b[0m\u001b[0;34m\u001b[0m\u001b[0;34m\u001b[0m\u001b[0m\n",
      "\u001b[0;32m/usr/lib/python3.8/cProfile.py\u001b[0m in \u001b[0;36mrunctx\u001b[0;34m(self, cmd, globals, locals)\u001b[0m\n\u001b[1;32m     98\u001b[0m         \u001b[0mself\u001b[0m\u001b[0;34m.\u001b[0m\u001b[0menable\u001b[0m\u001b[0;34m(\u001b[0m\u001b[0;34m)\u001b[0m\u001b[0;34m\u001b[0m\u001b[0;34m\u001b[0m\u001b[0m\n\u001b[1;32m     99\u001b[0m         \u001b[0;32mtry\u001b[0m\u001b[0;34m:\u001b[0m\u001b[0;34m\u001b[0m\u001b[0;34m\u001b[0m\u001b[0m\n\u001b[0;32m--> 100\u001b[0;31m             \u001b[0mexec\u001b[0m\u001b[0;34m(\u001b[0m\u001b[0mcmd\u001b[0m\u001b[0;34m,\u001b[0m \u001b[0mglobals\u001b[0m\u001b[0;34m,\u001b[0m \u001b[0mlocals\u001b[0m\u001b[0;34m)\u001b[0m\u001b[0;34m\u001b[0m\u001b[0;34m\u001b[0m\u001b[0m\n\u001b[0m\u001b[1;32m    101\u001b[0m         \u001b[0;32mfinally\u001b[0m\u001b[0;34m:\u001b[0m\u001b[0;34m\u001b[0m\u001b[0;34m\u001b[0m\u001b[0m\n\u001b[1;32m    102\u001b[0m             \u001b[0mself\u001b[0m\u001b[0;34m.\u001b[0m\u001b[0mdisable\u001b[0m\u001b[0;34m(\u001b[0m\u001b[0;34m)\u001b[0m\u001b[0;34m\u001b[0m\u001b[0;34m\u001b[0m\u001b[0m\n",
      "\u001b[0;32m<string>\u001b[0m in \u001b[0;36m<module>\u001b[0;34m\u001b[0m\n",
      "\u001b[0;32m~/Desktop/narratives/relatio/relatio/narrative_models.py\u001b[0m in \u001b[0;36mpredict\u001b[0;34m(self, list_of_srl_res, prettify, progress_bar)\u001b[0m\n\u001b[1;32m    508\u001b[0m         \u001b[0mself\u001b[0m\u001b[0;34m,\u001b[0m \u001b[0mlist_of_srl_res\u001b[0m\u001b[0;34m,\u001b[0m \u001b[0mprettify\u001b[0m\u001b[0;34m:\u001b[0m \u001b[0mbool\u001b[0m \u001b[0;34m=\u001b[0m \u001b[0;32mFalse\u001b[0m\u001b[0;34m,\u001b[0m \u001b[0mprogress_bar\u001b[0m\u001b[0;34m:\u001b[0m \u001b[0mbool\u001b[0m \u001b[0;34m=\u001b[0m \u001b[0;32mFalse\u001b[0m\u001b[0;34m\u001b[0m\u001b[0;34m\u001b[0m\u001b[0m\n\u001b[1;32m    509\u001b[0m     ):\n\u001b[0;32m--> 510\u001b[0;31m         \u001b[0;32mreturn\u001b[0m \u001b[0mself\u001b[0m\u001b[0;34m.\u001b[0m\u001b[0m_model_obj\u001b[0m\u001b[0;34m.\u001b[0m\u001b[0mpredict\u001b[0m\u001b[0;34m(\u001b[0m\u001b[0mlist_of_srl_res\u001b[0m\u001b[0;34m,\u001b[0m \u001b[0mprettify\u001b[0m\u001b[0;34m,\u001b[0m \u001b[0mprogress_bar\u001b[0m\u001b[0;34m)\u001b[0m\u001b[0;34m\u001b[0m\u001b[0;34m\u001b[0m\u001b[0m\n\u001b[0m",
      "\u001b[0;32m~/Desktop/narratives/relatio/relatio/narrative_models.py\u001b[0m in \u001b[0;36mpredict\u001b[0;34m(self, list_of_srl_res, prettify, progress_bar)\u001b[0m\n\u001b[1;32m    141\u001b[0m                 \u001b[0;32mif\u001b[0m \u001b[0mrole\u001b[0m \u001b[0;32min\u001b[0m \u001b[0mself\u001b[0m\u001b[0;34m.\u001b[0m\u001b[0mroles_considered\u001b[0m\u001b[0;34m:\u001b[0m\u001b[0;34m\u001b[0m\u001b[0;34m\u001b[0m\u001b[0m\n\u001b[1;32m    142\u001b[0m                     \u001b[0;32mif\u001b[0m \u001b[0mrole\u001b[0m \u001b[0;32min\u001b[0m \u001b[0;34m[\u001b[0m\u001b[0;34m\"ARG0\"\u001b[0m\u001b[0;34m,\u001b[0m \u001b[0;34m\"ARG1\"\u001b[0m\u001b[0;34m,\u001b[0m \u001b[0;34m\"ARG2\"\u001b[0m\u001b[0;34m]\u001b[0m\u001b[0;34m:\u001b[0m\u001b[0;34m\u001b[0m\u001b[0;34m\u001b[0m\u001b[0m\n\u001b[0;32m--> 143\u001b[0;31m                         \u001b[0mpred\u001b[0m \u001b[0;34m=\u001b[0m \u001b[0mself\u001b[0m\u001b[0;34m.\u001b[0m\u001b[0m_process_srl_item_for_prediction\u001b[0m\u001b[0;34m(\u001b[0m\u001b[0mrole\u001b[0m\u001b[0;34m,\u001b[0m \u001b[0mcontent\u001b[0m\u001b[0;34m)\u001b[0m\u001b[0;34m\u001b[0m\u001b[0;34m\u001b[0m\u001b[0m\n\u001b[0m\u001b[1;32m    144\u001b[0m                         \u001b[0;32mif\u001b[0m \u001b[0mpred\u001b[0m \u001b[0;32mis\u001b[0m \u001b[0;32mnot\u001b[0m \u001b[0;32mNone\u001b[0m\u001b[0;34m:\u001b[0m\u001b[0;34m\u001b[0m\u001b[0;34m\u001b[0m\u001b[0m\n\u001b[1;32m    145\u001b[0m                             \u001b[0mlist_of_narratives\u001b[0m\u001b[0;34m[\u001b[0m\u001b[0mi\u001b[0m\u001b[0;34m]\u001b[0m\u001b[0;34m[\u001b[0m\u001b[0mrole\u001b[0m\u001b[0;34m]\u001b[0m \u001b[0;34m=\u001b[0m \u001b[0mpred\u001b[0m\u001b[0;34m\u001b[0m\u001b[0;34m\u001b[0m\u001b[0m\n",
      "\u001b[0;32m~/Desktop/narratives/relatio/relatio/narrative_models.py\u001b[0m in \u001b[0;36m_process_srl_item_for_prediction\u001b[0;34m(self, role, content)\u001b[0m\n\u001b[1;32m    117\u001b[0m                     \u001b[0;31m# Unknown entities\u001b[0m\u001b[0;34m\u001b[0m\u001b[0;34m\u001b[0m\u001b[0;34m\u001b[0m\u001b[0m\n\u001b[1;32m    118\u001b[0m                     \u001b[0;32mif\u001b[0m \u001b[0mlen\u001b[0m\u001b[0;34m(\u001b[0m\u001b[0mself\u001b[0m\u001b[0;34m.\u001b[0m\u001b[0mvectors\u001b[0m\u001b[0;34m[\u001b[0m\u001b[0mi\u001b[0m\u001b[0;34m]\u001b[0m\u001b[0;34m)\u001b[0m \u001b[0;34m!=\u001b[0m \u001b[0;36m0\u001b[0m\u001b[0;34m:\u001b[0m\u001b[0;34m\u001b[0m\u001b[0;34m\u001b[0m\u001b[0m\n\u001b[0;32m--> 119\u001b[0;31m                         \u001b[0mdistances\u001b[0m \u001b[0;34m=\u001b[0m \u001b[0mself\u001b[0m\u001b[0;34m.\u001b[0m\u001b[0mcompute_distances\u001b[0m\u001b[0;34m(\u001b[0m\u001b[0mvector\u001b[0m\u001b[0;34m,\u001b[0m \u001b[0mself\u001b[0m\u001b[0;34m.\u001b[0m\u001b[0mvectors\u001b[0m\u001b[0;34m[\u001b[0m\u001b[0mi\u001b[0m\u001b[0;34m]\u001b[0m\u001b[0;34m)\u001b[0m\u001b[0;34m\u001b[0m\u001b[0;34m\u001b[0m\u001b[0m\n\u001b[0m\u001b[1;32m    120\u001b[0m                         \u001b[0mnmin\u001b[0m \u001b[0;34m=\u001b[0m \u001b[0mmin\u001b[0m\u001b[0;34m(\u001b[0m\u001b[0mdistances\u001b[0m\u001b[0;34m)\u001b[0m\u001b[0;34m\u001b[0m\u001b[0;34m\u001b[0m\u001b[0m\n\u001b[1;32m    121\u001b[0m                         \u001b[0;32mif\u001b[0m \u001b[0mnmin\u001b[0m \u001b[0;34m<=\u001b[0m \u001b[0mself\u001b[0m\u001b[0;34m.\u001b[0m\u001b[0mthreshold\u001b[0m\u001b[0;34m:\u001b[0m\u001b[0;34m\u001b[0m\u001b[0;34m\u001b[0m\u001b[0m\n",
      "\u001b[0;32m~/Desktop/narratives/relatio/relatio/narrative_models.py\u001b[0m in \u001b[0;36mcompute_distances\u001b[0;34m(self, vector, vectors)\u001b[0m\n\u001b[1;32m     81\u001b[0m \u001b[0;34m\u001b[0m\u001b[0m\n\u001b[1;32m     82\u001b[0m     \u001b[0;32mdef\u001b[0m \u001b[0mcompute_distances\u001b[0m\u001b[0;34m(\u001b[0m\u001b[0mself\u001b[0m\u001b[0;34m,\u001b[0m \u001b[0mvector\u001b[0m\u001b[0;34m,\u001b[0m \u001b[0mvectors\u001b[0m\u001b[0;34m)\u001b[0m\u001b[0;34m:\u001b[0m\u001b[0;34m\u001b[0m\u001b[0;34m\u001b[0m\u001b[0m\n\u001b[0;32m---> 83\u001b[0;31m         \u001b[0mdistances\u001b[0m \u001b[0;34m=\u001b[0m \u001b[0mcdist\u001b[0m\u001b[0;34m(\u001b[0m\u001b[0mvectors\u001b[0m\u001b[0;34m,\u001b[0m \u001b[0mvector\u001b[0m\u001b[0;34m.\u001b[0m\u001b[0mreshape\u001b[0m\u001b[0;34m(\u001b[0m\u001b[0;36m1\u001b[0m\u001b[0;34m,\u001b[0m \u001b[0;34m-\u001b[0m\u001b[0;36m1\u001b[0m\u001b[0;34m)\u001b[0m\u001b[0;34m,\u001b[0m \u001b[0mmetric\u001b[0m\u001b[0;34m=\u001b[0m\u001b[0;34m\"euclidean\"\u001b[0m\u001b[0;34m)\u001b[0m\u001b[0;34m.\u001b[0m\u001b[0mflatten\u001b[0m\u001b[0;34m(\u001b[0m\u001b[0;34m)\u001b[0m\u001b[0;34m\u001b[0m\u001b[0;34m\u001b[0m\u001b[0m\n\u001b[0m\u001b[1;32m     84\u001b[0m         \u001b[0;32mreturn\u001b[0m \u001b[0mdistances\u001b[0m\u001b[0;34m\u001b[0m\u001b[0;34m\u001b[0m\u001b[0m\n\u001b[1;32m     85\u001b[0m \u001b[0;34m\u001b[0m\u001b[0m\n",
      "\u001b[0;32m~/Desktop/narratives/relatio/venv/lib/python3.8/site-packages/scipy/spatial/distance.py\u001b[0m in \u001b[0;36mcdist\u001b[0;34m(XA, XB, metric, out, **kwargs)\u001b[0m\n\u001b[1;32m   2952\u001b[0m         \u001b[0;32mif\u001b[0m \u001b[0mmetric_info\u001b[0m \u001b[0;32mis\u001b[0m \u001b[0;32mnot\u001b[0m \u001b[0;32mNone\u001b[0m\u001b[0;34m:\u001b[0m\u001b[0;34m\u001b[0m\u001b[0;34m\u001b[0m\u001b[0m\n\u001b[1;32m   2953\u001b[0m             \u001b[0mcdist_fn\u001b[0m \u001b[0;34m=\u001b[0m \u001b[0mmetric_info\u001b[0m\u001b[0;34m.\u001b[0m\u001b[0mcdist_func\u001b[0m\u001b[0;34m\u001b[0m\u001b[0;34m\u001b[0m\u001b[0m\n\u001b[0;32m-> 2954\u001b[0;31m             \u001b[0;32mreturn\u001b[0m \u001b[0mcdist_fn\u001b[0m\u001b[0;34m(\u001b[0m\u001b[0mXA\u001b[0m\u001b[0;34m,\u001b[0m \u001b[0mXB\u001b[0m\u001b[0;34m,\u001b[0m \u001b[0mout\u001b[0m\u001b[0;34m=\u001b[0m\u001b[0mout\u001b[0m\u001b[0;34m,\u001b[0m \u001b[0;34m**\u001b[0m\u001b[0mkwargs\u001b[0m\u001b[0;34m)\u001b[0m\u001b[0;34m\u001b[0m\u001b[0;34m\u001b[0m\u001b[0m\n\u001b[0m\u001b[1;32m   2955\u001b[0m         \u001b[0;32melif\u001b[0m \u001b[0mmstr\u001b[0m\u001b[0;34m.\u001b[0m\u001b[0mstartswith\u001b[0m\u001b[0;34m(\u001b[0m\u001b[0;34m\"test_\"\u001b[0m\u001b[0;34m)\u001b[0m\u001b[0;34m:\u001b[0m\u001b[0;34m\u001b[0m\u001b[0;34m\u001b[0m\u001b[0m\n\u001b[1;32m   2956\u001b[0m             \u001b[0mmetric_info\u001b[0m \u001b[0;34m=\u001b[0m \u001b[0m_TEST_METRICS\u001b[0m\u001b[0;34m.\u001b[0m\u001b[0mget\u001b[0m\u001b[0;34m(\u001b[0m\u001b[0mmstr\u001b[0m\u001b[0;34m,\u001b[0m \u001b[0;32mNone\u001b[0m\u001b[0;34m)\u001b[0m\u001b[0;34m\u001b[0m\u001b[0;34m\u001b[0m\u001b[0m\n",
      "\u001b[0;31mKeyboardInterrupt\u001b[0m: "
     ]
    }
   ],
   "source": [
    "cProfile.run(\"narratives = m.predict(postproc_roles, progress_bar = True, prettify = False)\")"
   ]
  },
  {
   "cell_type": "code",
   "execution_count": null,
   "id": "52e4bde2",
   "metadata": {
    "scrolled": true
   },
   "outputs": [],
   "source": [
    "pretty_narratives = []\n",
    "for n in narratives: \n",
    "    if n.get('ARG0') not in [\"\", None]:\n",
    "        if n.get('B-V') not in [\"\", None]:\n",
    "            if n.get('ARG1') not in [\"\", None]:\n",
    "                pretty_narratives.append(prettify(n))\n",
    "                \n",
    "pretty_narratives = Counter(pretty_narratives)\n",
    "for t in pretty_narratives.most_common(10): print(t)"
   ]
  },
  {
   "cell_type": "markdown",
   "id": "c2080f70",
   "metadata": {},
   "source": [
    "## Step 5: Model validation and basic analysis\n",
    "\n",
    "----------------------------\n",
    "\n",
    "\n",
    "----------------------------"
   ]
  },
  {
   "cell_type": "code",
   "execution_count": null,
   "id": "9aa55a5c",
   "metadata": {},
   "outputs": [],
   "source": [
    "for i,k in enumerate(sentence_index):\n",
    "    \n",
    "    n = narratives[i]\n",
    "    r = roles[i]\n",
    "    \n",
    "    if n.get('ARG0') not in [\"\", None]:\n",
    "        if n.get('B-V') not in [\"\", None]:\n",
    "            if n.get('ARG1') not in [\"\", None]:\n",
    "                print('Original statement:')\n",
    "                print(prettify(r))\n",
    "                print('\\n')\n",
    "                print('Underlying narrative:')\n",
    "                print(prettify(n))\n",
    "                print(\"\\n\")\n",
    "                "
   ]
  },
  {
   "cell_type": "markdown",
   "id": "00a8eb7c",
   "metadata": {},
   "source": [
    "## Step 6: Visualization // Plotting narrative graphs\n",
    "----------------------------\n",
    "\n",
    "A collection of narrative statements has an intuitive network structure, in which the edges are verbs and the nodes are entities.\n",
    "\n",
    "Here, we plot Trump's narrative statements on Twitter.\n",
    "\n",
    "----------------------------"
   ]
  }
 ],
 "metadata": {
  "kernelspec": {
   "display_name": "Python 3 (ipykernel)",
   "language": "python",
   "name": "python3"
  },
  "language_info": {
   "codemirror_mode": {
    "name": "ipython",
    "version": 3
   },
   "file_extension": ".py",
   "mimetype": "text/x-python",
   "name": "python",
   "nbconvert_exporter": "python",
   "pygments_lexer": "ipython3",
   "version": "3.8.10"
  }
 },
 "nbformat": 4,
 "nbformat_minor": 5
}
