{
 "cells": [
  {
   "cell_type": "code",
   "execution_count": 1,
   "id": "authorized-crash",
   "metadata": {},
   "outputs": [
    {
     "name": "stderr",
     "output_type": "stream",
     "text": [
      "/home/germain/miniconda3/envs/narrative-nlp/lib/python3.7/site-packages/ipykernel_launcher.py:7: FutureWarning: The default value of regex will change from True to False in a future version.\n",
      "  import sys\n",
      "/home/germain/miniconda3/envs/narrative-nlp/lib/python3.7/site-packages/ipykernel_launcher.py:8: FutureWarning: The default value of regex will change from True to False in a future version.\n",
      "  \n"
     ]
    }
   ],
   "source": [
    "import pandas as pd\n",
    "\n",
    "df = pd.read_csv('trump_tweets.csv')\n",
    "splitted_text = df['text'].str.split()\n",
    "indices = [i for i,value in enumerate(splitted_text) if 'RT' not in value]\n",
    "df = df.loc[indices]\n",
    "df['text'] = df['text'].str.replace(r\"http\\S+\", \"\")\n",
    "df['text'] = df['text'].str.replace(r\"@\\S+\", \"\")\n",
    "df = df[df['text'].str.strip() != '']\n",
    "df = df.reset_index()\n",
    "df = pd.DataFrame(list(zip(df.index, df.text)), columns = ['id', 'doc'])\n",
    "\n",
    "df.to_csv('trump_tweets_cleaned.csv', index = False)"
   ]
  }
 ],
 "metadata": {
  "kernelspec": {
   "display_name": "Python 3",
   "language": "python",
   "name": "python3"
  },
  "language_info": {
   "codemirror_mode": {
    "name": "ipython",
    "version": 3
   },
   "file_extension": ".py",
   "mimetype": "text/x-python",
   "name": "python",
   "nbconvert_exporter": "python",
   "pygments_lexer": "ipython3",
   "version": "3.7.9"
  }
 },
 "nbformat": 4,
 "nbformat_minor": 5
}
