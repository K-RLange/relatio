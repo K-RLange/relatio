{
 "cells": [
  {
   "cell_type": "markdown",
   "id": "attempted-analyst",
   "metadata": {},
   "source": [
    "### Settings and Libraries"
   ]
  },
  {
   "cell_type": "code",
   "execution_count": 1,
   "id": "differential-flush",
   "metadata": {},
   "outputs": [],
   "source": [
    "from pipeline import *"
   ]
  },
  {
   "cell_type": "markdown",
   "id": "irish-dream",
   "metadata": {},
   "source": [
    "### Pipeline in Action (with keyed vectors)"
   ]
  },
  {
   "cell_type": "code",
   "execution_count": 2,
   "id": "explicit-architecture",
   "metadata": {},
   "outputs": [],
   "source": [
    "df = pd.read_csv('trump_tweets_cleaned.csv')\n",
    "df = df[['id', 'text_clean']]\n",
    "df.columns = ['id', 'doc']\n",
    "\n",
    "stop_words = list(stopwords.words('english'))"
   ]
  },
  {
   "cell_type": "code",
   "execution_count": 3,
   "id": "contrary-plant",
   "metadata": {},
   "outputs": [],
   "source": [
    "#split_sentences = split_into_sentences(df.iloc[0:100], save_to_disk = None, progress_bar = True)\n",
    "\n",
    "#srl_res = run_srl(path = \"../srl-model-2018.05.25.tar.gz\",\n",
    "#                  sentences=split_sentences[1],\n",
    "#                  save_to_disk = None,\n",
    "#                  batch_size = 20, \n",
    "#                  progress_bar = True)"
   ]
  },
  {
   "cell_type": "code",
   "execution_count": null,
   "id": "defensive-athletics",
   "metadata": {},
   "outputs": [],
   "source": [
    "#narrative_model = build_narrative_model(srl_res = srl_res, \n",
    "#                                        roles_with_embeddings = [['ARGO','ARG1', 'ARG2']],\n",
    "#                                        embeddings_type = 'gensim_keyed_vectors',\n",
    "#                                        embeddings_path = 'glove-wiki-gigaword-300',\n",
    "#                                        sentences = split_sentences[1],\n",
    "#                                        save_to_disk = 'narrative_model.pk',\n",
    "#                                        max_length = 4,\n",
    "#                                        remove_punctuation = True,\n",
    "#                                        remove_digits = True,\n",
    "#                                        remove_chars = '',\n",
    "#                                        stop_words = stop_words,\n",
    "#                                        lowercase = True,\n",
    "#                                        strip = True,\n",
    "#                                        remove_whitespaces = True,\n",
    "#                                        lemmatize = True,\n",
    "#                                        stem = False,\n",
    "#                                        tags_to_keep = None,\n",
    "#                                        remove_n_letter_words = 1, \n",
    "#                                        progress_bar = True, \n",
    "#                                        verbose = 1)"
   ]
  },
  {
   "cell_type": "code",
   "execution_count": 4,
   "id": "rental-bernard",
   "metadata": {},
   "outputs": [],
   "source": [
    "with open('ignorable/split_sentences.json', 'r') as f:\n",
    "    split_sentences = json.load(f)"
   ]
  },
  {
   "cell_type": "code",
   "execution_count": 5,
   "id": "charming-investor",
   "metadata": {},
   "outputs": [],
   "source": [
    "with open('ignorable/srl_res.json', 'r') as f:\n",
    "    srl_res = json.load(f)"
   ]
  },
  {
   "cell_type": "code",
   "execution_count": null,
   "id": "lasting-loading",
   "metadata": {},
   "outputs": [],
   "source": [
    "with open('narrative_model.pk', 'r') as f:\n",
    "    narrative_model = pk.load(f)"
   ]
  },
  {
   "cell_type": "code",
   "execution_count": 7,
   "id": "thermal-money",
   "metadata": {
    "scrolled": true
   },
   "outputs": [
    {
     "name": "stdout",
     "output_type": "stream",
     "text": [
      "Processing SRL...\n"
     ]
    },
    {
     "name": "stderr",
     "output_type": "stream",
     "text": [
      "100%|██████████| 68616/68616 [00:02<00:00, 24706.36it/s]\n"
     ]
    },
    {
     "name": "stdout",
     "output_type": "stream",
     "text": [
      "Cleaning SRL...\n"
     ]
    },
    {
     "name": "stderr",
     "output_type": "stream",
     "text": [
      "100%|██████████| 150213/150213 [01:20<00:00, 1874.40it/s]\n"
     ]
    },
    {
     "name": "stdout",
     "output_type": "stream",
     "text": [
      "Mapping named entities...\n"
     ]
    },
    {
     "name": "stderr",
     "output_type": "stream",
     "text": [
      "100%|██████████| 150213/150213 [30:13<00:00, 82.84it/s] \n"
     ]
    },
    {
     "name": "stdout",
     "output_type": "stream",
     "text": [
      "Assigning clusters to roles...\n"
     ]
    },
    {
     "name": "stderr",
     "output_type": "stream",
     "text": [
      "100%|██████████| 150213/150213 [03:16<00:00, 766.38it/s]\n"
     ]
    },
    {
     "data": {
      "text/html": [
       "<div>\n",
       "<style scoped>\n",
       "    .dataframe tbody tr th:only-of-type {\n",
       "        vertical-align: middle;\n",
       "    }\n",
       "\n",
       "    .dataframe tbody tr th {\n",
       "        vertical-align: top;\n",
       "    }\n",
       "\n",
       "    .dataframe thead th {\n",
       "        text-align: right;\n",
       "    }\n",
       "</style>\n",
       "<table border=\"1\" class=\"dataframe\">\n",
       "  <thead>\n",
       "    <tr style=\"text-align: right;\">\n",
       "      <th></th>\n",
       "      <th>doc</th>\n",
       "      <th>sentence</th>\n",
       "      <th>statement</th>\n",
       "      <th>narrative-CLEANED</th>\n",
       "      <th>narrative-RAW</th>\n",
       "      <th>ARGO-RAW</th>\n",
       "      <th>ARGO</th>\n",
       "      <th>B-V-RAW</th>\n",
       "      <th>B-V-CLEANED</th>\n",
       "      <th>B-ARGM-NEG-RAW</th>\n",
       "      <th>B-ARGM-NEG-CLEANED</th>\n",
       "      <th>B-ARGM-MOD-RAW</th>\n",
       "      <th>ARG1-RAW</th>\n",
       "      <th>ARG1</th>\n",
       "      <th>ARG2-RAW</th>\n",
       "      <th>ARG2</th>\n",
       "    </tr>\n",
       "  </thead>\n",
       "  <tbody>\n",
       "    <tr>\n",
       "      <th>1</th>\n",
       "      <td>98454970654916608</td>\n",
       "      <td>0</td>\n",
       "      <td>1</td>\n",
       "      <td>democrat make economic</td>\n",
       "      <td>republican democrat create economic problem</td>\n",
       "      <td>republican democrat</td>\n",
       "      <td>democrat</td>\n",
       "      <td>create</td>\n",
       "      <td>make</td>\n",
       "      <td></td>\n",
       "      <td></td>\n",
       "      <td></td>\n",
       "      <td>economic problem</td>\n",
       "      <td>economic</td>\n",
       "      <td></td>\n",
       "      <td></td>\n",
       "    </tr>\n",
       "    <tr>\n",
       "      <th>6</th>\n",
       "      <td>1234653427789070336</td>\n",
       "      <td>1</td>\n",
       "      <td>6</td>\n",
       "      <td>patriot know country</td>\n",
       "      <td>hardworking american patriot love country</td>\n",
       "      <td>hardworking american patriot</td>\n",
       "      <td>patriot</td>\n",
       "      <td>love</td>\n",
       "      <td>know</td>\n",
       "      <td></td>\n",
       "      <td></td>\n",
       "      <td></td>\n",
       "      <td>country</td>\n",
       "      <td>country</td>\n",
       "      <td></td>\n",
       "      <td></td>\n",
       "    </tr>\n",
       "    <tr>\n",
       "      <th>7</th>\n",
       "      <td>1234653427789070336</td>\n",
       "      <td>1</td>\n",
       "      <td>7</td>\n",
       "      <td>patriot cherish value</td>\n",
       "      <td>hardworking american patriot cherish value</td>\n",
       "      <td>hardworking american patriot</td>\n",
       "      <td>patriot</td>\n",
       "      <td>cherish</td>\n",
       "      <td>cherish</td>\n",
       "      <td></td>\n",
       "      <td></td>\n",
       "      <td></td>\n",
       "      <td>value</td>\n",
       "      <td>value</td>\n",
       "      <td></td>\n",
       "      <td></td>\n",
       "    </tr>\n",
       "    <tr>\n",
       "      <th>8</th>\n",
       "      <td>1234653427789070336</td>\n",
       "      <td>1</td>\n",
       "      <td>8</td>\n",
       "      <td>patriot honor law</td>\n",
       "      <td>hardworking american patriot respect law</td>\n",
       "      <td>hardworking american patriot</td>\n",
       "      <td>patriot</td>\n",
       "      <td>respect</td>\n",
       "      <td>honor</td>\n",
       "      <td></td>\n",
       "      <td></td>\n",
       "      <td></td>\n",
       "      <td>law</td>\n",
       "      <td>law</td>\n",
       "      <td></td>\n",
       "      <td></td>\n",
       "    </tr>\n",
       "    <tr>\n",
       "      <th>9</th>\n",
       "      <td>1234653427789070336</td>\n",
       "      <td>1</td>\n",
       "      <td>9</td>\n",
       "      <td>patriot put america first</td>\n",
       "      <td>hardworking american patriot put america first</td>\n",
       "      <td>hardworking american patriot</td>\n",
       "      <td>patriot</td>\n",
       "      <td>put</td>\n",
       "      <td>put</td>\n",
       "      <td></td>\n",
       "      <td></td>\n",
       "      <td></td>\n",
       "      <td>america first</td>\n",
       "      <td>america first</td>\n",
       "      <td></td>\n",
       "      <td></td>\n",
       "    </tr>\n",
       "    <tr>\n",
       "      <th>...</th>\n",
       "      <td>...</td>\n",
       "      <td>...</td>\n",
       "      <td>...</td>\n",
       "      <td>...</td>\n",
       "      <td>...</td>\n",
       "      <td>...</td>\n",
       "      <td>...</td>\n",
       "      <td>...</td>\n",
       "      <td>...</td>\n",
       "      <td>...</td>\n",
       "      <td>...</td>\n",
       "      <td>...</td>\n",
       "      <td>...</td>\n",
       "      <td>...</td>\n",
       "      <td>...</td>\n",
       "      <td>...</td>\n",
       "    </tr>\n",
       "    <tr>\n",
       "      <th>150158</th>\n",
       "      <td>1213145418093223937</td>\n",
       "      <td>68595</td>\n",
       "      <td>150158</td>\n",
       "      <td>trump interview policy one</td>\n",
       "      <td>trump question aid number</td>\n",
       "      <td>trump</td>\n",
       "      <td>trump</td>\n",
       "      <td>question</td>\n",
       "      <td>interview</td>\n",
       "      <td></td>\n",
       "      <td></td>\n",
       "      <td></td>\n",
       "      <td>aid</td>\n",
       "      <td>policy</td>\n",
       "      <td>number</td>\n",
       "      <td>one</td>\n",
       "    </tr>\n",
       "    <tr>\n",
       "      <th>150179</th>\n",
       "      <td>1213149809378578432</td>\n",
       "      <td>68602</td>\n",
       "      <td>150179</td>\n",
       "      <td>lawsuit fire trial</td>\n",
       "      <td>motion dismiss impeachment trial</td>\n",
       "      <td>motion</td>\n",
       "      <td>lawsuit</td>\n",
       "      <td>dismiss</td>\n",
       "      <td>fire</td>\n",
       "      <td></td>\n",
       "      <td></td>\n",
       "      <td></td>\n",
       "      <td>impeachment trial</td>\n",
       "      <td>trial</td>\n",
       "      <td></td>\n",
       "      <td></td>\n",
       "    </tr>\n",
       "    <tr>\n",
       "      <th>150194</th>\n",
       "      <td>1213078681750573056</td>\n",
       "      <td>68606</td>\n",
       "      <td>150194</td>\n",
       "      <td>iran win deal</td>\n",
       "      <td>iran lose not negotiation</td>\n",
       "      <td>iran</td>\n",
       "      <td>iran</td>\n",
       "      <td>lose</td>\n",
       "      <td>win</td>\n",
       "      <td>not</td>\n",
       "      <td></td>\n",
       "      <td></td>\n",
       "      <td>negotiation</td>\n",
       "      <td>deal</td>\n",
       "      <td></td>\n",
       "      <td></td>\n",
       "    </tr>\n",
       "    <tr>\n",
       "      <th>150209</th>\n",
       "      <td>1319384118849949702</td>\n",
       "      <td>68612</td>\n",
       "      <td>150209</td>\n",
       "      <td>biden go delphi</td>\n",
       "      <td>obama biden fail worker delphi</td>\n",
       "      <td>obama biden</td>\n",
       "      <td>biden</td>\n",
       "      <td>fail</td>\n",
       "      <td>go</td>\n",
       "      <td></td>\n",
       "      <td></td>\n",
       "      <td></td>\n",
       "      <td>worker delphi</td>\n",
       "      <td>delphi</td>\n",
       "      <td></td>\n",
       "      <td></td>\n",
       "    </tr>\n",
       "    <tr>\n",
       "      <th>150211</th>\n",
       "      <td>1319345719829008387</td>\n",
       "      <td>68614</td>\n",
       "      <td>150211</td>\n",
       "      <td>suburban want security</td>\n",
       "      <td>suburban woman want safety amp security</td>\n",
       "      <td>suburban woman</td>\n",
       "      <td>suburban</td>\n",
       "      <td>want</td>\n",
       "      <td>want</td>\n",
       "      <td></td>\n",
       "      <td></td>\n",
       "      <td></td>\n",
       "      <td>safety amp security</td>\n",
       "      <td>security</td>\n",
       "      <td></td>\n",
       "      <td></td>\n",
       "    </tr>\n",
       "  </tbody>\n",
       "</table>\n",
       "<p>12500 rows × 16 columns</p>\n",
       "</div>"
      ],
      "text/plain": [
       "                        doc  sentence  statement           narrative-CLEANED  \\\n",
       "1         98454970654916608         0          1      democrat make economic   \n",
       "6       1234653427789070336         1          6        patriot know country   \n",
       "7       1234653427789070336         1          7       patriot cherish value   \n",
       "8       1234653427789070336         1          8           patriot honor law   \n",
       "9       1234653427789070336         1          9   patriot put america first   \n",
       "...                     ...       ...        ...                         ...   \n",
       "150158  1213145418093223937     68595     150158  trump interview policy one   \n",
       "150179  1213149809378578432     68602     150179          lawsuit fire trial   \n",
       "150194  1213078681750573056     68606     150194               iran win deal   \n",
       "150209  1319384118849949702     68612     150209             biden go delphi   \n",
       "150211  1319345719829008387     68614     150211      suburban want security   \n",
       "\n",
       "                                         narrative-RAW  \\\n",
       "1          republican democrat create economic problem   \n",
       "6            hardworking american patriot love country   \n",
       "7           hardworking american patriot cherish value   \n",
       "8             hardworking american patriot respect law   \n",
       "9       hardworking american patriot put america first   \n",
       "...                                                ...   \n",
       "150158                       trump question aid number   \n",
       "150179                motion dismiss impeachment trial   \n",
       "150194                       iran lose not negotiation   \n",
       "150209                  obama biden fail worker delphi   \n",
       "150211         suburban woman want safety amp security   \n",
       "\n",
       "                            ARGO-RAW      ARGO   B-V-RAW B-V-CLEANED  \\\n",
       "1                republican democrat  democrat    create        make   \n",
       "6       hardworking american patriot   patriot      love        know   \n",
       "7       hardworking american patriot   patriot   cherish     cherish   \n",
       "8       hardworking american patriot   patriot   respect       honor   \n",
       "9       hardworking american patriot   patriot       put         put   \n",
       "...                              ...       ...       ...         ...   \n",
       "150158                         trump     trump  question   interview   \n",
       "150179                        motion   lawsuit   dismiss        fire   \n",
       "150194                          iran      iran      lose         win   \n",
       "150209                   obama biden     biden      fail          go   \n",
       "150211                suburban woman  suburban      want        want   \n",
       "\n",
       "       B-ARGM-NEG-RAW B-ARGM-NEG-CLEANED B-ARGM-MOD-RAW             ARG1-RAW  \\\n",
       "1                                                           economic problem   \n",
       "6                                                                    country   \n",
       "7                                                                      value   \n",
       "8                                                                        law   \n",
       "9                                                              america first   \n",
       "...               ...                ...            ...                  ...   \n",
       "150158                                                                   aid   \n",
       "150179                                                     impeachment trial   \n",
       "150194            not                                            negotiation   \n",
       "150209                                                         worker delphi   \n",
       "150211                                                   safety amp security   \n",
       "\n",
       "                 ARG1 ARG2-RAW ARG2  \n",
       "1            economic                \n",
       "6             country                \n",
       "7               value                \n",
       "8                 law                \n",
       "9       america first                \n",
       "...               ...      ...  ...  \n",
       "150158         policy   number  one  \n",
       "150179          trial                \n",
       "150194           deal                \n",
       "150209         delphi                \n",
       "150211       security                \n",
       "\n",
       "[12500 rows x 16 columns]"
      ]
     },
     "execution_count": 7,
     "metadata": {},
     "output_type": "execute_result"
    }
   ],
   "source": [
    "final_statements = get_narratives(srl_res = srl_res,\n",
    "                                  doc_index = split_sentences[0],\n",
    "                                  narrative_model = narrative_model,\n",
    "                                  save_to_disk = 'final_statements.csv',\n",
    "                                  cluster_labeling = 'most_frequent',\n",
    "                                  progress_bar = True)\n",
    "\n",
    "final_statements"
   ]
  },
  {
   "cell_type": "code",
   "execution_count": 19,
   "id": "weird-palmer",
   "metadata": {},
   "outputs": [],
   "source": [
    "narrative_format = ['ARGO', 'B-V-RAW', 'B-ARGM-NEG-RAW', 'ARG1']\n",
    "final_statements['narrative'] = final_statements[narrative_format].agg(' '.join, axis=1)\n",
    "final_statements['narrative'] = final_statements['narrative'].apply(remove_extra_whitespaces)"
   ]
  },
  {
   "cell_type": "code",
   "execution_count": 27,
   "id": "prescription-portsmouth",
   "metadata": {},
   "outputs": [
    {
     "data": {
      "text/plain": [
       "god sign usa                  13\n",
       "good negate lot                9\n",
       "establishment kill country     8\n",
       "thing look good                8\n",
       "crooked cancel email           7\n",
       "democrat want open border      7\n",
       "gold get second amendment      7\n",
       "china steal job                6\n",
       "god sign people                6\n",
       "success cover success          6\n",
       "market make record high        6\n",
       "right give crime               6\n",
       "wrong think possible           6\n",
       "people know country            6\n",
       "god sign family                5\n",
       "biden fire money               5\n",
       "democrat close government      5\n",
       "wrong think fair               5\n",
       "successful want nothing        5\n",
       "many give china                5\n",
       "Name: narrative-CLEANED, dtype: int64"
      ]
     },
     "execution_count": 27,
     "metadata": {},
     "output_type": "execute_result"
    }
   ],
   "source": [
    "final_statements['narrative-CLEANED'].value_counts().head(n=20)"
   ]
  },
  {
   "cell_type": "code",
   "execution_count": null,
   "id": "hourly-cooling",
   "metadata": {},
   "outputs": [],
   "source": [
    "df_sents = pd.DataFrame({'doc': split_sentences[0], 'sentence': split_sentences[1]})"
   ]
  },
  {
   "cell_type": "code",
   "execution_count": 9,
   "id": "developed-diameter",
   "metadata": {},
   "outputs": [
    {
     "data": {
      "text/plain": [
       "trump                                    68\n",
       "president trump                          43\n",
       "president trump policy                    1\n",
       "trump brand                               1\n",
       "trump foreign policy                      1\n",
       "offense president trump commit            1\n",
       "mrewanmurraynald trump transformation     1\n",
       "hatred trump                              1\n",
       "trump orator                              1\n",
       "Name: ARGO-RAW, dtype: int64"
      ]
     },
     "execution_count": 9,
     "metadata": {},
     "output_type": "execute_result"
    }
   ],
   "source": [
    "inspect_label(final_statements, \n",
    "              label = 'trump', \n",
    "              role = 'ARGO')"
   ]
  },
  {
   "cell_type": "code",
   "execution_count": 31,
   "id": "developmental-rochester",
   "metadata": {},
   "outputs": [
    {
     "data": {
      "text/plain": [
       "stock market hit another record high    4\n",
       "stock market hit record high            1\n",
       "stock market hit time record high       1\n",
       "Name: narrative-RAW, dtype: int64"
      ]
     },
     "execution_count": 31,
     "metadata": {},
     "output_type": "execute_result"
    }
   ],
   "source": [
    "inspect_narrative(final_statements, narrative = 'market make record high')"
   ]
  }
 ],
 "metadata": {
  "kernelspec": {
   "display_name": "Python 3",
   "language": "python",
   "name": "python3"
  },
  "language_info": {
   "codemirror_mode": {
    "name": "ipython",
    "version": 3
   },
   "file_extension": ".py",
   "mimetype": "text/x-python",
   "name": "python",
   "nbconvert_exporter": "python",
   "pygments_lexer": "ipython3",
   "version": "3.7.9"
  }
 },
 "nbformat": 4,
 "nbformat_minor": 5
}
