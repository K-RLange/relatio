{
 "cells": [
  {
   "cell_type": "code",
   "execution_count": 1,
   "metadata": {},
   "outputs": [],
   "source": [
    "import sys\n",
    "sys.path.append(\"../code\")"
   ]
  },
  {
   "cell_type": "code",
   "execution_count": 2,
   "metadata": {},
   "outputs": [],
   "source": [
    "text = \"\"\"Sub-module available for the above is sent_tokenize.\n",
    "            An obvious question in your mind would be why sentence tokenization is needed when we have the option of word tokenization. \n",
    "            Imagine you need to count average words per sentence, how you will calculate? \n",
    "            For accomplishing such a task, you need both sentence tokenization as well as words to calculate the ratio. \n",
    "            Such output serves as an important feature for machine training as the answer would be numeric. \n",
    "            Check the below example to learn how sentence tokenization is different from words tokenization.\n",
    "            The taxes the President announced will not lower work incentives. Evrika!\n",
    "            John can’t keep up with Mary’s rapid mood swings.\n",
    "            \"\"\""
   ]
  },
  {
   "cell_type": "code",
   "execution_count": 3,
   "metadata": {},
   "outputs": [],
   "source": [
    "from utils import tokenize_into_sentences, filter_sentences, preprocess, UsedRoles\n",
    "from word_embedding import run_word2vec, compute_embedding, USE, SIF_Word2Vec\n",
    "from semantic_role_labeling import SRL, extract_roles, postprocess_roles\n",
    "from clustering import Clustering\n",
    "from sklearn.cluster import KMeans\n",
    "from cooccurrence import CoOccurence"
   ]
  },
  {
   "cell_type": "code",
   "execution_count": 4,
   "metadata": {},
   "outputs": [
    {
     "name": "stdout",
     "output_type": "stream",
     "text": [
      "['ARGO', 'ARG1', 'ARG2', 'B-V', 'B-ARGM-MOD', 'B-ARGM-NEG']\n",
      "['ARGO', 'ARG1', 'ARG2', 'B-V']\n",
      "['B-ARGM-MOD', 'B-ARGM-NEG']\n",
      "\n"
     ]
    }
   ],
   "source": [
    "used_roles=UsedRoles()\n",
    "used_roles['ARG2']=True\n",
    "print(f\"{used_roles.used}\\n{used_roles.embeddable}\\n{used_roles.not_embeddable}\\n\")"
   ]
  },
  {
   "cell_type": "code",
   "execution_count": 5,
   "metadata": {},
   "outputs": [
    {
     "data": {
      "text/plain": [
       "[{'verbs': [{'verb': 'are',\n",
       "    'description': 'What [V: are] [ARG1: you doing]',\n",
       "    'tags': ['O', 'B-V', 'B-ARG1', 'I-ARG1']},\n",
       "   {'verb': 'doing',\n",
       "    'description': '[ARG1: What] are [ARG0: you] [V: doing]',\n",
       "    'tags': ['B-ARG1', 'O', 'B-ARG0', 'B-V']}],\n",
       "  'words': ['What', 'are', 'you', 'doing']}]"
      ]
     },
     "execution_count": 5,
     "metadata": {},
     "output_type": "execute_result"
    }
   ],
   "source": [
    "srl = SRL(\"./srl-model-2018.05.25.tar.gz\")\n",
    "srl([\" \".join([\"What\",\"are\",\"you\",\"doing\"])])"
   ]
  },
  {
   "cell_type": "code",
   "execution_count": 6,
   "metadata": {},
   "outputs": [
    {
     "data": {
      "text/plain": [
       "(512,)"
      ]
     },
     "execution_count": 6,
     "metadata": {},
     "output_type": "execute_result"
    }
   ],
   "source": [
    "use = USE('./USE-4')\n",
    "use([\"What\",\"are\",\"you\",\"doing\"]).shape"
   ]
  },
  {
   "cell_type": "code",
   "execution_count": 7,
   "metadata": {},
   "outputs": [
    {
     "data": {
      "text/plain": [
       "(300,)"
      ]
     },
     "execution_count": 7,
     "metadata": {},
     "output_type": "execute_result"
    }
   ],
   "source": [
    "sif_w2v = SIF_Word2Vec(\"./nytimes_word2vec.model\")\n",
    "sif_w2v([\"what\",\"are\",\"you\",\"doing\"]).shape"
   ]
  },
  {
   "cell_type": "code",
   "execution_count": 8,
   "metadata": {},
   "outputs": [],
   "source": [
    "kmeans=KMeans()"
   ]
  },
  {
   "cell_type": "code",
   "execution_count": 9,
   "metadata": {},
   "outputs": [
    {
     "data": {
      "text/plain": [
       "['Sub-module available for the above is sent_tokenize.',\n",
       " 'An obvious question in your mind would be why sentence tokenization is needed when we have the option of word tokenization.',\n",
       " 'Imagine you need to count average words per sentence, how you will calculate?',\n",
       " 'For accomplishing such a task, you need both sentence tokenization as well as words to calculate the ratio.',\n",
       " 'Such output serves as an important feature for machine training as the answer would be numeric.',\n",
       " 'Check the below example to learn how sentence tokenization is different from words tokenization.',\n",
       " 'The taxes the President announced will not lower work incentives.',\n",
       " 'Evrika!',\n",
       " 'John can’t keep up with Mary’s rapid mood swings.']"
      ]
     },
     "execution_count": 9,
     "metadata": {},
     "output_type": "execute_result"
    }
   ],
   "source": [
    "sentences = tokenize_into_sentences(text)\n",
    "sentences"
   ]
  },
  {
   "cell_type": "code",
   "execution_count": 10,
   "metadata": {},
   "outputs": [
    {
     "data": {
      "text/plain": [
       "['Sub-module available for the above is sent_tokenize.',\n",
       " 'An obvious question in your mind would be why sentence tokenization is needed when we have the option of word tokenization.',\n",
       " 'Imagine you need to count average words per sentence, how you will calculate?',\n",
       " 'For accomplishing such a task, you need both sentence tokenization as well as words to calculate the ratio.',\n",
       " 'Such output serves as an important feature for machine training as the answer would be numeric.',\n",
       " 'Check the below example to learn how sentence tokenization is different from words tokenization.',\n",
       " 'The taxes the President announced will not lower work incentives.',\n",
       " 'Evrika!',\n",
       " 'John can’t keep up with Mary’s rapid mood swings.']"
      ]
     },
     "execution_count": 10,
     "metadata": {},
     "output_type": "execute_result"
    }
   ],
   "source": [
    "sentences = filter_sentences(sentences, max_sentence_length=350)\n",
    "sentences"
   ]
  },
  {
   "cell_type": "code",
   "execution_count": 11,
   "metadata": {},
   "outputs": [
    {
     "data": {
      "text/plain": [
       "[{'verbs': [{'verb': 'is',\n",
       "    'description': 'Sub - module [ARG1: available for the above] [V: is] [ARG2: sent_tokenize] .',\n",
       "    'tags': ['O',\n",
       "     'O',\n",
       "     'O',\n",
       "     'B-ARG1',\n",
       "     'I-ARG1',\n",
       "     'I-ARG1',\n",
       "     'I-ARG1',\n",
       "     'B-V',\n",
       "     'B-ARG2',\n",
       "     'O']}],\n",
       "  'words': ['Sub',\n",
       "   '-',\n",
       "   'module',\n",
       "   'available',\n",
       "   'for',\n",
       "   'the',\n",
       "   'above',\n",
       "   'is',\n",
       "   'sent_tokenize',\n",
       "   '.']},\n",
       " {'verbs': [{'verb': 'would',\n",
       "    'description': 'An obvious question in your mind [V: would] be why sentence tokenization is needed when we have the option of word tokenization .',\n",
       "    'tags': ['O',\n",
       "     'O',\n",
       "     'O',\n",
       "     'O',\n",
       "     'O',\n",
       "     'O',\n",
       "     'B-V',\n",
       "     'O',\n",
       "     'O',\n",
       "     'O',\n",
       "     'O',\n",
       "     'O',\n",
       "     'O',\n",
       "     'O',\n",
       "     'O',\n",
       "     'O',\n",
       "     'O',\n",
       "     'O',\n",
       "     'O',\n",
       "     'O',\n",
       "     'O',\n",
       "     'O']},\n",
       "   {'verb': 'be',\n",
       "    'description': '[ARG1: An obvious question in your mind] [ARGM-MOD: would] [V: be] [ARG2: why sentence tokenization is needed when we have the option of word tokenization] .',\n",
       "    'tags': ['B-ARG1',\n",
       "     'I-ARG1',\n",
       "     'I-ARG1',\n",
       "     'I-ARG1',\n",
       "     'I-ARG1',\n",
       "     'I-ARG1',\n",
       "     'B-ARGM-MOD',\n",
       "     'B-V',\n",
       "     'B-ARG2',\n",
       "     'I-ARG2',\n",
       "     'I-ARG2',\n",
       "     'I-ARG2',\n",
       "     'I-ARG2',\n",
       "     'I-ARG2',\n",
       "     'I-ARG2',\n",
       "     'I-ARG2',\n",
       "     'I-ARG2',\n",
       "     'I-ARG2',\n",
       "     'I-ARG2',\n",
       "     'I-ARG2',\n",
       "     'I-ARG2',\n",
       "     'O']},\n",
       "   {'verb': 'is',\n",
       "    'description': 'An obvious question in your mind would be why sentence tokenization [V: is] needed when we have the option of word tokenization .',\n",
       "    'tags': ['O',\n",
       "     'O',\n",
       "     'O',\n",
       "     'O',\n",
       "     'O',\n",
       "     'O',\n",
       "     'O',\n",
       "     'O',\n",
       "     'O',\n",
       "     'O',\n",
       "     'O',\n",
       "     'B-V',\n",
       "     'O',\n",
       "     'O',\n",
       "     'O',\n",
       "     'O',\n",
       "     'O',\n",
       "     'O',\n",
       "     'O',\n",
       "     'O',\n",
       "     'O',\n",
       "     'O']},\n",
       "   {'verb': 'needed',\n",
       "    'description': 'An obvious question in your mind would be [ARGM-CAU: why] [ARG1: sentence tokenization] is [V: needed] [ARGM-TMP: when we have the option of word tokenization] .',\n",
       "    'tags': ['O',\n",
       "     'O',\n",
       "     'O',\n",
       "     'O',\n",
       "     'O',\n",
       "     'O',\n",
       "     'O',\n",
       "     'O',\n",
       "     'B-ARGM-CAU',\n",
       "     'B-ARG1',\n",
       "     'I-ARG1',\n",
       "     'O',\n",
       "     'B-V',\n",
       "     'B-ARGM-TMP',\n",
       "     'I-ARGM-TMP',\n",
       "     'I-ARGM-TMP',\n",
       "     'I-ARGM-TMP',\n",
       "     'I-ARGM-TMP',\n",
       "     'I-ARGM-TMP',\n",
       "     'I-ARGM-TMP',\n",
       "     'I-ARGM-TMP',\n",
       "     'O']},\n",
       "   {'verb': 'have',\n",
       "    'description': 'An obvious question in your mind would be why sentence tokenization is needed [ARGM-TMP: when] [ARG0: we] [V: have] [ARG1: the option of word tokenization] .',\n",
       "    'tags': ['O',\n",
       "     'O',\n",
       "     'O',\n",
       "     'O',\n",
       "     'O',\n",
       "     'O',\n",
       "     'O',\n",
       "     'O',\n",
       "     'O',\n",
       "     'O',\n",
       "     'O',\n",
       "     'O',\n",
       "     'O',\n",
       "     'B-ARGM-TMP',\n",
       "     'B-ARG0',\n",
       "     'B-V',\n",
       "     'B-ARG1',\n",
       "     'I-ARG1',\n",
       "     'I-ARG1',\n",
       "     'I-ARG1',\n",
       "     'I-ARG1',\n",
       "     'O']}],\n",
       "  'words': ['An',\n",
       "   'obvious',\n",
       "   'question',\n",
       "   'in',\n",
       "   'your',\n",
       "   'mind',\n",
       "   'would',\n",
       "   'be',\n",
       "   'why',\n",
       "   'sentence',\n",
       "   'tokenization',\n",
       "   'is',\n",
       "   'needed',\n",
       "   'when',\n",
       "   'we',\n",
       "   'have',\n",
       "   'the',\n",
       "   'option',\n",
       "   'of',\n",
       "   'word',\n",
       "   'tokenization',\n",
       "   '.']},\n",
       " {'verbs': [{'verb': 'Imagine',\n",
       "    'description': '[V: Imagine] [ARG1: you need to count average words per sentence , how you will calculate] ?',\n",
       "    'tags': ['B-V',\n",
       "     'B-ARG1',\n",
       "     'I-ARG1',\n",
       "     'I-ARG1',\n",
       "     'I-ARG1',\n",
       "     'I-ARG1',\n",
       "     'I-ARG1',\n",
       "     'I-ARG1',\n",
       "     'I-ARG1',\n",
       "     'I-ARG1',\n",
       "     'I-ARG1',\n",
       "     'I-ARG1',\n",
       "     'I-ARG1',\n",
       "     'I-ARG1',\n",
       "     'O']},\n",
       "   {'verb': 'need',\n",
       "    'description': 'Imagine [ARG0: you] [V: need] [ARG1: to count average words per sentence] , how you will calculate ?',\n",
       "    'tags': ['O',\n",
       "     'B-ARG0',\n",
       "     'B-V',\n",
       "     'B-ARG1',\n",
       "     'I-ARG1',\n",
       "     'I-ARG1',\n",
       "     'I-ARG1',\n",
       "     'I-ARG1',\n",
       "     'I-ARG1',\n",
       "     'O',\n",
       "     'O',\n",
       "     'O',\n",
       "     'O',\n",
       "     'O',\n",
       "     'O']},\n",
       "   {'verb': 'count',\n",
       "    'description': 'Imagine [ARG0: you] need to [V: count] [ARG1: average words per sentence] , how you will calculate ?',\n",
       "    'tags': ['O',\n",
       "     'B-ARG0',\n",
       "     'O',\n",
       "     'O',\n",
       "     'B-V',\n",
       "     'B-ARG1',\n",
       "     'I-ARG1',\n",
       "     'I-ARG1',\n",
       "     'I-ARG1',\n",
       "     'O',\n",
       "     'O',\n",
       "     'O',\n",
       "     'O',\n",
       "     'O',\n",
       "     'O']},\n",
       "   {'verb': 'will',\n",
       "    'description': 'Imagine you need to count average words per sentence , how you [V: will] calculate ?',\n",
       "    'tags': ['O',\n",
       "     'O',\n",
       "     'O',\n",
       "     'O',\n",
       "     'O',\n",
       "     'O',\n",
       "     'O',\n",
       "     'O',\n",
       "     'O',\n",
       "     'O',\n",
       "     'O',\n",
       "     'O',\n",
       "     'B-V',\n",
       "     'O',\n",
       "     'O']},\n",
       "   {'verb': 'calculate',\n",
       "    'description': 'Imagine you need to count average words per sentence , [ARGM-MNR: how] [ARG0: you] [ARGM-MOD: will] [V: calculate] ?',\n",
       "    'tags': ['O',\n",
       "     'O',\n",
       "     'O',\n",
       "     'O',\n",
       "     'O',\n",
       "     'O',\n",
       "     'O',\n",
       "     'O',\n",
       "     'O',\n",
       "     'O',\n",
       "     'B-ARGM-MNR',\n",
       "     'B-ARG0',\n",
       "     'B-ARGM-MOD',\n",
       "     'B-V',\n",
       "     'O']}],\n",
       "  'words': ['Imagine',\n",
       "   'you',\n",
       "   'need',\n",
       "   'to',\n",
       "   'count',\n",
       "   'average',\n",
       "   'words',\n",
       "   'per',\n",
       "   'sentence',\n",
       "   ',',\n",
       "   'how',\n",
       "   'you',\n",
       "   'will',\n",
       "   'calculate',\n",
       "   '?']},\n",
       " {'verbs': [{'verb': 'accomplishing',\n",
       "    'description': 'For [V: accomplishing] [ARG1: such a task] , [ARG0: you] need both sentence tokenization as well as words to calculate the ratio .',\n",
       "    'tags': ['O',\n",
       "     'B-V',\n",
       "     'B-ARG1',\n",
       "     'I-ARG1',\n",
       "     'I-ARG1',\n",
       "     'O',\n",
       "     'B-ARG0',\n",
       "     'O',\n",
       "     'O',\n",
       "     'O',\n",
       "     'O',\n",
       "     'O',\n",
       "     'O',\n",
       "     'O',\n",
       "     'O',\n",
       "     'O',\n",
       "     'O',\n",
       "     'O',\n",
       "     'O',\n",
       "     'O']},\n",
       "   {'verb': 'need',\n",
       "    'description': '[ARGM-PRP: For accomplishing such a task] , [ARG0: you] [V: need] [ARG1: both sentence tokenization as well as words] [ARGM-PRP: to calculate the ratio] .',\n",
       "    'tags': ['B-ARGM-PRP',\n",
       "     'I-ARGM-PRP',\n",
       "     'I-ARGM-PRP',\n",
       "     'I-ARGM-PRP',\n",
       "     'I-ARGM-PRP',\n",
       "     'O',\n",
       "     'B-ARG0',\n",
       "     'B-V',\n",
       "     'B-ARG1',\n",
       "     'I-ARG1',\n",
       "     'I-ARG1',\n",
       "     'I-ARG1',\n",
       "     'I-ARG1',\n",
       "     'I-ARG1',\n",
       "     'I-ARG1',\n",
       "     'B-ARGM-PRP',\n",
       "     'I-ARGM-PRP',\n",
       "     'I-ARGM-PRP',\n",
       "     'I-ARGM-PRP',\n",
       "     'O']},\n",
       "   {'verb': 'calculate',\n",
       "    'description': 'For accomplishing such a task , [ARG0: you] need both sentence tokenization as well as words to [V: calculate] [ARG1: the ratio] .',\n",
       "    'tags': ['O',\n",
       "     'O',\n",
       "     'O',\n",
       "     'O',\n",
       "     'O',\n",
       "     'O',\n",
       "     'B-ARG0',\n",
       "     'O',\n",
       "     'O',\n",
       "     'O',\n",
       "     'O',\n",
       "     'O',\n",
       "     'O',\n",
       "     'O',\n",
       "     'O',\n",
       "     'O',\n",
       "     'B-V',\n",
       "     'B-ARG1',\n",
       "     'I-ARG1',\n",
       "     'O']}],\n",
       "  'words': ['For',\n",
       "   'accomplishing',\n",
       "   'such',\n",
       "   'a',\n",
       "   'task',\n",
       "   ',',\n",
       "   'you',\n",
       "   'need',\n",
       "   'both',\n",
       "   'sentence',\n",
       "   'tokenization',\n",
       "   'as',\n",
       "   'well',\n",
       "   'as',\n",
       "   'words',\n",
       "   'to',\n",
       "   'calculate',\n",
       "   'the',\n",
       "   'ratio',\n",
       "   '.']},\n",
       " {'verbs': [{'verb': 'serves',\n",
       "    'description': '[ARG0: Such output] [V: serves] [ARG1: as an important feature for machine training] [ARGM-CAU: as the answer would be numeric] .',\n",
       "    'tags': ['B-ARG0',\n",
       "     'I-ARG0',\n",
       "     'B-V',\n",
       "     'B-ARG1',\n",
       "     'I-ARG1',\n",
       "     'I-ARG1',\n",
       "     'I-ARG1',\n",
       "     'I-ARG1',\n",
       "     'I-ARG1',\n",
       "     'I-ARG1',\n",
       "     'B-ARGM-CAU',\n",
       "     'I-ARGM-CAU',\n",
       "     'I-ARGM-CAU',\n",
       "     'I-ARGM-CAU',\n",
       "     'I-ARGM-CAU',\n",
       "     'I-ARGM-CAU',\n",
       "     'O']},\n",
       "   {'verb': 'would',\n",
       "    'description': 'Such output serves as an important feature for machine training as the answer [V: would] be numeric .',\n",
       "    'tags': ['O',\n",
       "     'O',\n",
       "     'O',\n",
       "     'O',\n",
       "     'O',\n",
       "     'O',\n",
       "     'O',\n",
       "     'O',\n",
       "     'O',\n",
       "     'O',\n",
       "     'O',\n",
       "     'O',\n",
       "     'O',\n",
       "     'B-V',\n",
       "     'O',\n",
       "     'O',\n",
       "     'O']},\n",
       "   {'verb': 'be',\n",
       "    'description': 'Such output serves as an important feature for machine training as [ARG1: the answer] [ARGM-MOD: would] [V: be] [ARG2: numeric] .',\n",
       "    'tags': ['O',\n",
       "     'O',\n",
       "     'O',\n",
       "     'O',\n",
       "     'O',\n",
       "     'O',\n",
       "     'O',\n",
       "     'O',\n",
       "     'O',\n",
       "     'O',\n",
       "     'O',\n",
       "     'B-ARG1',\n",
       "     'I-ARG1',\n",
       "     'B-ARGM-MOD',\n",
       "     'B-V',\n",
       "     'B-ARG2',\n",
       "     'O']}],\n",
       "  'words': ['Such',\n",
       "   'output',\n",
       "   'serves',\n",
       "   'as',\n",
       "   'an',\n",
       "   'important',\n",
       "   'feature',\n",
       "   'for',\n",
       "   'machine',\n",
       "   'training',\n",
       "   'as',\n",
       "   'the',\n",
       "   'answer',\n",
       "   'would',\n",
       "   'be',\n",
       "   'numeric',\n",
       "   '.']},\n",
       " {'verbs': [{'verb': 'Check',\n",
       "    'description': '[V: Check] [ARG1: the below example] [ARGM-PRP: to learn how sentence tokenization is different from words tokenization] .',\n",
       "    'tags': ['B-V',\n",
       "     'B-ARG1',\n",
       "     'I-ARG1',\n",
       "     'I-ARG1',\n",
       "     'B-ARGM-PRP',\n",
       "     'I-ARGM-PRP',\n",
       "     'I-ARGM-PRP',\n",
       "     'I-ARGM-PRP',\n",
       "     'I-ARGM-PRP',\n",
       "     'I-ARGM-PRP',\n",
       "     'I-ARGM-PRP',\n",
       "     'I-ARGM-PRP',\n",
       "     'I-ARGM-PRP',\n",
       "     'I-ARGM-PRP',\n",
       "     'O']},\n",
       "   {'verb': 'learn',\n",
       "    'description': 'Check the below example to [V: learn] [ARG1: how sentence tokenization is different from words tokenization] .',\n",
       "    'tags': ['O',\n",
       "     'O',\n",
       "     'O',\n",
       "     'O',\n",
       "     'O',\n",
       "     'B-V',\n",
       "     'B-ARG1',\n",
       "     'I-ARG1',\n",
       "     'I-ARG1',\n",
       "     'I-ARG1',\n",
       "     'I-ARG1',\n",
       "     'I-ARG1',\n",
       "     'I-ARG1',\n",
       "     'I-ARG1',\n",
       "     'O']},\n",
       "   {'verb': 'is',\n",
       "    'description': 'Check the below example to learn [ARGM-MNR: how] [ARG1: sentence tokenization] [V: is] [ARG2: different from words tokenization] .',\n",
       "    'tags': ['O',\n",
       "     'O',\n",
       "     'O',\n",
       "     'O',\n",
       "     'O',\n",
       "     'O',\n",
       "     'B-ARGM-MNR',\n",
       "     'B-ARG1',\n",
       "     'I-ARG1',\n",
       "     'B-V',\n",
       "     'B-ARG2',\n",
       "     'I-ARG2',\n",
       "     'I-ARG2',\n",
       "     'I-ARG2',\n",
       "     'O']}],\n",
       "  'words': ['Check',\n",
       "   'the',\n",
       "   'below',\n",
       "   'example',\n",
       "   'to',\n",
       "   'learn',\n",
       "   'how',\n",
       "   'sentence',\n",
       "   'tokenization',\n",
       "   'is',\n",
       "   'different',\n",
       "   'from',\n",
       "   'words',\n",
       "   'tokenization',\n",
       "   '.']},\n",
       " {'verbs': [{'verb': 'announced',\n",
       "    'description': '[ARG1: The taxes] [ARG0: the President] [V: announced] will not lower work incentives .',\n",
       "    'tags': ['B-ARG1',\n",
       "     'I-ARG1',\n",
       "     'B-ARG0',\n",
       "     'I-ARG0',\n",
       "     'B-V',\n",
       "     'O',\n",
       "     'O',\n",
       "     'O',\n",
       "     'O',\n",
       "     'O',\n",
       "     'O']},\n",
       "   {'verb': 'will',\n",
       "    'description': 'The taxes the President announced [V: will] not lower work incentives .',\n",
       "    'tags': ['O', 'O', 'O', 'O', 'O', 'B-V', 'O', 'O', 'O', 'O', 'O']},\n",
       "   {'verb': 'lower',\n",
       "    'description': '[ARG0: The taxes the President announced] [ARGM-MOD: will] [ARGM-NEG: not] [V: lower] [ARG1: work incentives] .',\n",
       "    'tags': ['B-ARG0',\n",
       "     'I-ARG0',\n",
       "     'I-ARG0',\n",
       "     'I-ARG0',\n",
       "     'I-ARG0',\n",
       "     'B-ARGM-MOD',\n",
       "     'B-ARGM-NEG',\n",
       "     'B-V',\n",
       "     'B-ARG1',\n",
       "     'I-ARG1',\n",
       "     'O']}],\n",
       "  'words': ['The',\n",
       "   'taxes',\n",
       "   'the',\n",
       "   'President',\n",
       "   'announced',\n",
       "   'will',\n",
       "   'not',\n",
       "   'lower',\n",
       "   'work',\n",
       "   'incentives',\n",
       "   '.']},\n",
       " {'verbs': [], 'words': ['Evrika', '!']},\n",
       " {'verbs': [{'verb': 'keep',\n",
       "    'description': '[ARG0: John] [ARGM-MOD: ca] [ARGM-NEG: n’t] [V: keep] up [ARG1: with Mary ’s rapid mood swings] .',\n",
       "    'tags': ['B-ARG0',\n",
       "     'B-ARGM-MOD',\n",
       "     'B-ARGM-NEG',\n",
       "     'B-V',\n",
       "     'O',\n",
       "     'B-ARG1',\n",
       "     'I-ARG1',\n",
       "     'I-ARG1',\n",
       "     'I-ARG1',\n",
       "     'I-ARG1',\n",
       "     'I-ARG1',\n",
       "     'O']}],\n",
       "  'words': ['John',\n",
       "   'ca',\n",
       "   'n’t',\n",
       "   'keep',\n",
       "   'up',\n",
       "   'with',\n",
       "   'Mary',\n",
       "   '’s',\n",
       "   'rapid',\n",
       "   'mood',\n",
       "   'swings',\n",
       "   '.']}]"
      ]
     },
     "execution_count": 11,
     "metadata": {},
     "output_type": "execute_result"
    }
   ],
   "source": [
    "srl_res = srl(sentences=sentences)\n",
    "srl_res"
   ]
  },
  {
   "cell_type": "code",
   "execution_count": 12,
   "metadata": {},
   "outputs": [
    {
     "data": {
      "text/plain": [
       "array([0, 1, 1, 1, 2, 2, 2, 2, 3, 3, 3, 4, 4, 5, 5, 5, 6, 6, 7, 8],\n",
       "      dtype=uint32)"
      ]
     },
     "execution_count": 12,
     "metadata": {},
     "output_type": "execute_result"
    }
   ],
   "source": [
    "roles,sentence_index = extract_roles(srl_res)\n",
    "sentence_index"
   ]
  },
  {
   "cell_type": "code",
   "execution_count": 13,
   "metadata": {},
   "outputs": [
    {
     "data": {
      "text/plain": [
       "[{'ARG1': ['available', 'for', 'the', 'above'],\n",
       "  'ARG2': ['sent_tokenize'],\n",
       "  'B-V': ['is']},\n",
       " {'B-ARGM-MOD': ['would'],\n",
       "  'ARG1': ['An', 'obvious', 'question', 'in', 'your', 'mind'],\n",
       "  'ARG2': ['why',\n",
       "   'sentence',\n",
       "   'tokenization',\n",
       "   'is',\n",
       "   'needed',\n",
       "   'when',\n",
       "   'we',\n",
       "   'have',\n",
       "   'the',\n",
       "   'option',\n",
       "   'of',\n",
       "   'word',\n",
       "   'tokenization'],\n",
       "  'B-V': ['be']},\n",
       " {'ARG1': ['sentence', 'tokenization'], 'B-V': ['needed']},\n",
       " {'ARGO': ['we'],\n",
       "  'ARG1': ['the', 'option', 'of', 'word', 'tokenization'],\n",
       "  'B-V': ['have']},\n",
       " {'ARG1': ['you',\n",
       "   'need',\n",
       "   'to',\n",
       "   'count',\n",
       "   'average',\n",
       "   'words',\n",
       "   'per',\n",
       "   'sentence',\n",
       "   ',',\n",
       "   'how',\n",
       "   'you',\n",
       "   'will',\n",
       "   'calculate'],\n",
       "  'B-V': ['Imagine']},\n",
       " {'ARGO': ['you'],\n",
       "  'ARG1': ['to', 'count', 'average', 'words', 'per', 'sentence'],\n",
       "  'B-V': ['need']},\n",
       " {'ARGO': ['you'],\n",
       "  'ARG1': ['average', 'words', 'per', 'sentence'],\n",
       "  'B-V': ['count']},\n",
       " {'B-ARGM-MOD': ['will'], 'ARGO': ['you'], 'B-V': ['calculate']},\n",
       " {'ARGO': ['you'], 'ARG1': ['such', 'a', 'task'], 'B-V': ['accomplishing']},\n",
       " {'ARGO': ['you'],\n",
       "  'ARG1': ['both', 'sentence', 'tokenization', 'as', 'well', 'as', 'words'],\n",
       "  'B-V': ['need']},\n",
       " {'ARGO': ['you'], 'ARG1': ['the', 'ratio'], 'B-V': ['calculate']},\n",
       " {'ARGO': ['Such', 'output'],\n",
       "  'ARG1': ['as', 'an', 'important', 'feature', 'for', 'machine', 'training'],\n",
       "  'B-V': ['serves']},\n",
       " {'B-ARGM-MOD': ['would'],\n",
       "  'ARG1': ['the', 'answer'],\n",
       "  'ARG2': ['numeric'],\n",
       "  'B-V': ['be']},\n",
       " {'ARG1': ['the', 'below', 'example'], 'B-V': ['Check']},\n",
       " {'ARG1': ['how',\n",
       "   'sentence',\n",
       "   'tokenization',\n",
       "   'is',\n",
       "   'different',\n",
       "   'from',\n",
       "   'words',\n",
       "   'tokenization'],\n",
       "  'B-V': ['learn']},\n",
       " {'ARG1': ['sentence', 'tokenization'],\n",
       "  'ARG2': ['different', 'from', 'words', 'tokenization'],\n",
       "  'B-V': ['is']},\n",
       " {'ARGO': ['the', 'President'],\n",
       "  'ARG1': ['The', 'taxes'],\n",
       "  'B-V': ['announced']},\n",
       " {'B-ARGM-MOD': ['will'],\n",
       "  'ARGO': ['The', 'taxes', 'the', 'President', 'announced'],\n",
       "  'ARG1': ['work', 'incentives'],\n",
       "  'B-V': ['lower'],\n",
       "  'B-ARGM-NEG': True},\n",
       " {},\n",
       " {'B-ARGM-MOD': ['ca'],\n",
       "  'ARGO': ['John'],\n",
       "  'ARG1': ['with', 'Mary', '’s', 'rapid', 'mood', 'swings'],\n",
       "  'B-V': ['keep'],\n",
       "  'B-ARGM-NEG': True}]"
      ]
     },
     "execution_count": 13,
     "metadata": {},
     "output_type": "execute_result"
    }
   ],
   "source": [
    "roles"
   ]
  },
  {
   "cell_type": "code",
   "execution_count": 14,
   "metadata": {},
   "outputs": [
    {
     "data": {
      "text/plain": [
       "[{'ARG1': ['available', 'for', 'the', 'above'],\n",
       "  'ARG2': ['senttokenize'],\n",
       "  'B-V': ['is']},\n",
       " {'B-ARGM-MOD': ['would'],\n",
       "  'ARG1': ['an', 'obvious', 'question', 'in', 'your', 'mind'],\n",
       "  'ARG2': ['why',\n",
       "   'sentence',\n",
       "   'tokenization',\n",
       "   'is',\n",
       "   'needed',\n",
       "   'when',\n",
       "   'we',\n",
       "   'have',\n",
       "   'the',\n",
       "   'option',\n",
       "   'of',\n",
       "   'word',\n",
       "   'tokenization'],\n",
       "  'B-V': ['be']},\n",
       " {'ARG1': ['sentence', 'tokenization'], 'B-V': ['needed']},\n",
       " {'ARGO': ['we'],\n",
       "  'ARG1': ['the', 'option', 'of', 'word', 'tokenization'],\n",
       "  'B-V': ['have']},\n",
       " {'ARG1': ['you',\n",
       "   'need',\n",
       "   'to',\n",
       "   'count',\n",
       "   'average',\n",
       "   'word',\n",
       "   'per',\n",
       "   'sentence',\n",
       "   'how',\n",
       "   'you',\n",
       "   'will',\n",
       "   'calculate'],\n",
       "  'B-V': ['imagine']},\n",
       " {'ARGO': ['you'],\n",
       "  'ARG1': ['to', 'count', 'average', 'word', 'per', 'sentence'],\n",
       "  'B-V': ['need']},\n",
       " {'ARGO': ['you'],\n",
       "  'ARG1': ['average', 'word', 'per', 'sentence'],\n",
       "  'B-V': ['count']},\n",
       " {'B-ARGM-MOD': ['will'], 'ARGO': ['you'], 'B-V': ['calculate']},\n",
       " {'ARGO': ['you'], 'ARG1': ['such', 'a', 'task'], 'B-V': ['accomplishing']},\n",
       " {'ARGO': ['you'],\n",
       "  'ARG1': ['both', 'sentence', 'tokenization', 'a', 'well', 'a', 'word'],\n",
       "  'B-V': ['need']},\n",
       " {'ARGO': ['you'], 'ARG1': ['the', 'ratio'], 'B-V': ['calculate']},\n",
       " {'ARGO': ['such', 'output'],\n",
       "  'ARG1': ['a', 'an', 'important', 'feature', 'for', 'machine', 'training'],\n",
       "  'B-V': ['serf']},\n",
       " {'B-ARGM-MOD': ['would'],\n",
       "  'ARG1': ['the', 'answer'],\n",
       "  'ARG2': ['numeric'],\n",
       "  'B-V': ['be']},\n",
       " {'ARG1': ['the', 'below', 'example'], 'B-V': ['check']},\n",
       " {'ARG1': ['how',\n",
       "   'sentence',\n",
       "   'tokenization',\n",
       "   'is',\n",
       "   'different',\n",
       "   'from',\n",
       "   'word',\n",
       "   'tokenization'],\n",
       "  'B-V': ['learn']},\n",
       " {'ARG1': ['sentence', 'tokenization'],\n",
       "  'ARG2': ['different', 'from', 'word', 'tokenization'],\n",
       "  'B-V': ['is']},\n",
       " {'ARGO': ['the', 'president'], 'ARG1': ['the', 'tax'], 'B-V': ['announced']},\n",
       " {'B-ARGM-MOD': ['will'],\n",
       "  'ARGO': ['the', 'tax', 'the', 'president', 'announced'],\n",
       "  'ARG1': ['work', 'incentive'],\n",
       "  'B-V': ['lower'],\n",
       "  'B-ARGM-NEG': True},\n",
       " {},\n",
       " {'B-ARGM-MOD': ['ca'],\n",
       "  'ARGO': ['john'],\n",
       "  'ARG1': ['with', 'mary', '’s', 'rapid', 'mood', 'swing'],\n",
       "  'B-V': ['keep'],\n",
       "  'B-ARGM-NEG': True}]"
      ]
     },
     "execution_count": 14,
     "metadata": {},
     "output_type": "execute_result"
    }
   ],
   "source": [
    "postproc_roles = postprocess_roles(roles)\n",
    "postproc_roles"
   ]
  },
  {
   "cell_type": "code",
   "execution_count": 15,
   "metadata": {},
   "outputs": [],
   "source": [
    "sif_vectors, sif_statements_index, sif_funny_index =compute_embedding(sif_w2v,statements=postproc_roles,\n",
    "                                                                      used_roles=used_roles)"
   ]
  },
  {
   "cell_type": "code",
   "execution_count": 16,
   "metadata": {},
   "outputs": [
    {
     "data": {
      "text/plain": [
       "{'ARGO': array([ 3,  5,  6,  7,  8,  9, 10, 11, 16, 17, 19], dtype=uint32),\n",
       " 'ARG1': array([ 0,  1,  2,  3,  4,  5,  6,  8,  9, 10, 11, 12, 13, 14, 15, 16, 17,\n",
       "        19], dtype=uint32),\n",
       " 'ARG2': array([ 1, 12, 15], dtype=uint32),\n",
       " 'B-V': array([ 0,  1,  2,  3,  4,  5,  6,  7,  8,  9, 10, 11, 12, 13, 14, 15, 16,\n",
       "        17, 19], dtype=uint32)}"
      ]
     },
     "execution_count": 16,
     "metadata": {},
     "output_type": "execute_result"
    }
   ],
   "source": [
    "sif_statements_index"
   ]
  },
  {
   "cell_type": "code",
   "execution_count": 17,
   "metadata": {},
   "outputs": [
    {
     "data": {
      "text/plain": [
       "{'ARGO': (11, 300), 'ARG1': (18, 300), 'ARG2': (3, 300), 'B-V': (19, 300)}"
      ]
     },
     "execution_count": 17,
     "metadata": {},
     "output_type": "execute_result"
    }
   ],
   "source": [
    "{el:sif_vectors[el].shape for el in sif_vectors.keys()}"
   ]
  },
  {
   "cell_type": "code",
   "execution_count": 18,
   "metadata": {},
   "outputs": [
    {
     "data": {
      "text/plain": [
       "{'ARGO': array([], dtype=uint32),\n",
       " 'ARG1': array([], dtype=uint32),\n",
       " 'ARG2': array([0], dtype=uint32),\n",
       " 'B-V': array([], dtype=uint32)}"
      ]
     },
     "execution_count": 18,
     "metadata": {},
     "output_type": "execute_result"
    }
   ],
   "source": [
    "sif_funny_index"
   ]
  },
  {
   "cell_type": "code",
   "execution_count": 19,
   "metadata": {},
   "outputs": [
    {
     "data": {
      "text/plain": [
       "['senttokenize']"
      ]
     },
     "execution_count": 19,
     "metadata": {},
     "output_type": "execute_result"
    }
   ],
   "source": [
    "postproc_roles[0][\"ARG2\"]"
   ]
  },
  {
   "cell_type": "code",
   "execution_count": 20,
   "metadata": {},
   "outputs": [],
   "source": [
    "USE_vectors, USE_statements_index, USE_funny_index = compute_embedding(use,roles,used_roles)\n"
   ]
  },
  {
   "cell_type": "code",
   "execution_count": 21,
   "metadata": {},
   "outputs": [
    {
     "data": {
      "text/plain": [
       "{'ARGO': array([ 3,  5,  6,  7,  8,  9, 10, 11, 16, 17, 19], dtype=uint32),\n",
       " 'ARG1': array([ 0,  1,  2,  3,  4,  5,  6,  8,  9, 10, 11, 12, 13, 14, 15, 16, 17,\n",
       "        19], dtype=uint32),\n",
       " 'ARG2': array([ 0,  1, 12, 15], dtype=uint32),\n",
       " 'B-V': array([ 0,  1,  2,  3,  4,  5,  6,  7,  8,  9, 10, 11, 12, 13, 14, 15, 16,\n",
       "        17, 19], dtype=uint32)}"
      ]
     },
     "execution_count": 21,
     "metadata": {},
     "output_type": "execute_result"
    }
   ],
   "source": [
    "USE_statements_index"
   ]
  },
  {
   "cell_type": "code",
   "execution_count": 22,
   "metadata": {},
   "outputs": [
    {
     "data": {
      "text/plain": [
       "{'ARGO': (11, 512), 'ARG1': (18, 512), 'ARG2': (4, 512), 'B-V': (19, 512)}"
      ]
     },
     "execution_count": 22,
     "metadata": {},
     "output_type": "execute_result"
    }
   ],
   "source": [
    "{el:USE_vectors[el].shape for el in USE_vectors.keys()}"
   ]
  },
  {
   "cell_type": "code",
   "execution_count": 23,
   "metadata": {},
   "outputs": [
    {
     "data": {
      "text/plain": [
       "{'ARGO': array([], dtype=uint32),\n",
       " 'ARG1': array([], dtype=uint32),\n",
       " 'ARG2': array([], dtype=uint32),\n",
       " 'B-V': array([], dtype=uint32)}"
      ]
     },
     "execution_count": 23,
     "metadata": {},
     "output_type": "execute_result"
    }
   ],
   "source": [
    "USE_funny_index"
   ]
  },
  {
   "cell_type": "code",
   "execution_count": 24,
   "metadata": {},
   "outputs": [],
   "source": [
    "clustering = Clustering(cluster=kmeans,n_clusters={'ARGO':2, 'ARG1': 2, 'ARG2':2, 'B-V':1},\n",
    "                         used_roles=used_roles)"
   ]
  },
  {
   "cell_type": "code",
   "execution_count": 25,
   "metadata": {},
   "outputs": [],
   "source": [
    "clustering.fit(vectors=sif_vectors,sample_size=None)"
   ]
  },
  {
   "cell_type": "code",
   "execution_count": 26,
   "metadata": {},
   "outputs": [
    {
     "data": {
      "text/plain": [
       "{'ARGO': array([0, 0, 0, 0, 0, 0, 0, 1, 1, 1, 1], dtype=int32),\n",
       " 'ARG1': array([0, 0, 1, 1, 0, 0, 0, 0, 1, 0, 0, 0, 0, 1, 1, 0, 0, 0], dtype=int32),\n",
       " 'ARG2': array([0, 1, 0], dtype=int32),\n",
       " 'B-V': array([0, 0, 0, 0, 0, 0, 0, 0, 0, 0, 0, 0, 0, 0, 0, 0, 0, 0, 0],\n",
       "       dtype=int32)}"
      ]
     },
     "execution_count": 26,
     "metadata": {},
     "output_type": "execute_result"
    }
   ],
   "source": [
    "{el:clustering._cluster[el].labels_ for el in clustering._cluster.keys()}"
   ]
  },
  {
   "cell_type": "code",
   "execution_count": 27,
   "metadata": {},
   "outputs": [
    {
     "data": {
      "text/plain": [
       "{'ARGO': array([0, 0, 0, 0, 0, 0, 0, 1, 1, 1, 1], dtype=uint8),\n",
       " 'ARG1': array([0, 0, 1, 1, 0, 0, 0, 0, 1, 0, 0, 0, 0, 1, 1, 0, 0, 0], dtype=uint8),\n",
       " 'ARG2': array([0, 1, 0], dtype=uint8),\n",
       " 'B-V': array([0, 0, 0, 0, 0, 0, 0, 0, 0, 0, 0, 0, 0, 0, 0, 0, 0, 0, 0],\n",
       "       dtype=uint8)}"
      ]
     },
     "execution_count": 27,
     "metadata": {},
     "output_type": "execute_result"
    }
   ],
   "source": [
    "clustering_res = clustering.predict(vectors=sif_vectors)\n",
    "clustering_res"
   ]
  },
  {
   "cell_type": "code",
   "execution_count": 28,
   "metadata": {},
   "outputs": [
    {
     "data": {
      "text/plain": [
       "{'ARGO': {0: ('you', 0.9963462948799133), 1: ('president', 0.704796314239502)},\n",
       " 'ARG1': {0: ('ratio', 0.6853821277618408), 1: ('tokenization', 1.0)},\n",
       " 'ARG2': {0: ('tokenization', 1.0), 1: ('numeric', 1.0)},\n",
       " 'B-V': {0: ('apply', 0.7709030508995056)}}"
      ]
     },
     "execution_count": 28,
     "metadata": {},
     "output_type": "execute_result"
    }
   ],
   "source": [
    "labels = clustering.label(sif_w2v)\n",
    "labels"
   ]
  },
  {
   "cell_type": "code",
   "execution_count": 29,
   "metadata": {},
   "outputs": [],
   "source": [
    "cooc = CoOccurence(postproc_roles,clustering_res,labels,sif_statements_index,used_roles)"
   ]
  },
  {
   "cell_type": "code",
   "execution_count": 30,
   "metadata": {},
   "outputs": [
    {
     "data": {
      "text/html": [
       "<div>\n",
       "<style scoped>\n",
       "    .dataframe tbody tr th:only-of-type {\n",
       "        vertical-align: middle;\n",
       "    }\n",
       "\n",
       "    .dataframe tbody tr th {\n",
       "        vertical-align: top;\n",
       "    }\n",
       "\n",
       "    .dataframe thead th {\n",
       "        text-align: right;\n",
       "    }\n",
       "</style>\n",
       "<table border=\"1\" class=\"dataframe\">\n",
       "  <thead>\n",
       "    <tr style=\"text-align: right;\">\n",
       "      <th></th>\n",
       "      <th>ARGO</th>\n",
       "      <th>ARG1</th>\n",
       "      <th>ARG2</th>\n",
       "      <th>B-V</th>\n",
       "      <th>B-ARGM-MOD</th>\n",
       "      <th>B-ARGM-NEG</th>\n",
       "    </tr>\n",
       "  </thead>\n",
       "  <tbody>\n",
       "    <tr>\n",
       "      <th>0</th>\n",
       "      <td>&lt;NA&gt;</td>\n",
       "      <td>0</td>\n",
       "      <td>&lt;NA&gt;</td>\n",
       "      <td>0</td>\n",
       "      <td>NaN</td>\n",
       "      <td>&lt;NA&gt;</td>\n",
       "    </tr>\n",
       "    <tr>\n",
       "      <th>1</th>\n",
       "      <td>&lt;NA&gt;</td>\n",
       "      <td>0</td>\n",
       "      <td>0</td>\n",
       "      <td>0</td>\n",
       "      <td>would</td>\n",
       "      <td>&lt;NA&gt;</td>\n",
       "    </tr>\n",
       "    <tr>\n",
       "      <th>2</th>\n",
       "      <td>&lt;NA&gt;</td>\n",
       "      <td>1</td>\n",
       "      <td>&lt;NA&gt;</td>\n",
       "      <td>0</td>\n",
       "      <td>NaN</td>\n",
       "      <td>&lt;NA&gt;</td>\n",
       "    </tr>\n",
       "    <tr>\n",
       "      <th>3</th>\n",
       "      <td>0</td>\n",
       "      <td>1</td>\n",
       "      <td>&lt;NA&gt;</td>\n",
       "      <td>0</td>\n",
       "      <td>NaN</td>\n",
       "      <td>&lt;NA&gt;</td>\n",
       "    </tr>\n",
       "    <tr>\n",
       "      <th>4</th>\n",
       "      <td>&lt;NA&gt;</td>\n",
       "      <td>0</td>\n",
       "      <td>&lt;NA&gt;</td>\n",
       "      <td>0</td>\n",
       "      <td>NaN</td>\n",
       "      <td>&lt;NA&gt;</td>\n",
       "    </tr>\n",
       "    <tr>\n",
       "      <th>5</th>\n",
       "      <td>0</td>\n",
       "      <td>0</td>\n",
       "      <td>&lt;NA&gt;</td>\n",
       "      <td>0</td>\n",
       "      <td>NaN</td>\n",
       "      <td>&lt;NA&gt;</td>\n",
       "    </tr>\n",
       "    <tr>\n",
       "      <th>6</th>\n",
       "      <td>0</td>\n",
       "      <td>0</td>\n",
       "      <td>&lt;NA&gt;</td>\n",
       "      <td>0</td>\n",
       "      <td>NaN</td>\n",
       "      <td>&lt;NA&gt;</td>\n",
       "    </tr>\n",
       "    <tr>\n",
       "      <th>7</th>\n",
       "      <td>0</td>\n",
       "      <td>&lt;NA&gt;</td>\n",
       "      <td>&lt;NA&gt;</td>\n",
       "      <td>0</td>\n",
       "      <td>will</td>\n",
       "      <td>&lt;NA&gt;</td>\n",
       "    </tr>\n",
       "    <tr>\n",
       "      <th>8</th>\n",
       "      <td>0</td>\n",
       "      <td>0</td>\n",
       "      <td>&lt;NA&gt;</td>\n",
       "      <td>0</td>\n",
       "      <td>NaN</td>\n",
       "      <td>&lt;NA&gt;</td>\n",
       "    </tr>\n",
       "    <tr>\n",
       "      <th>9</th>\n",
       "      <td>0</td>\n",
       "      <td>1</td>\n",
       "      <td>&lt;NA&gt;</td>\n",
       "      <td>0</td>\n",
       "      <td>NaN</td>\n",
       "      <td>&lt;NA&gt;</td>\n",
       "    </tr>\n",
       "    <tr>\n",
       "      <th>10</th>\n",
       "      <td>0</td>\n",
       "      <td>0</td>\n",
       "      <td>&lt;NA&gt;</td>\n",
       "      <td>0</td>\n",
       "      <td>NaN</td>\n",
       "      <td>&lt;NA&gt;</td>\n",
       "    </tr>\n",
       "    <tr>\n",
       "      <th>11</th>\n",
       "      <td>1</td>\n",
       "      <td>0</td>\n",
       "      <td>&lt;NA&gt;</td>\n",
       "      <td>0</td>\n",
       "      <td>NaN</td>\n",
       "      <td>&lt;NA&gt;</td>\n",
       "    </tr>\n",
       "    <tr>\n",
       "      <th>12</th>\n",
       "      <td>&lt;NA&gt;</td>\n",
       "      <td>0</td>\n",
       "      <td>1</td>\n",
       "      <td>0</td>\n",
       "      <td>would</td>\n",
       "      <td>&lt;NA&gt;</td>\n",
       "    </tr>\n",
       "    <tr>\n",
       "      <th>13</th>\n",
       "      <td>&lt;NA&gt;</td>\n",
       "      <td>0</td>\n",
       "      <td>&lt;NA&gt;</td>\n",
       "      <td>0</td>\n",
       "      <td>NaN</td>\n",
       "      <td>&lt;NA&gt;</td>\n",
       "    </tr>\n",
       "    <tr>\n",
       "      <th>14</th>\n",
       "      <td>&lt;NA&gt;</td>\n",
       "      <td>1</td>\n",
       "      <td>&lt;NA&gt;</td>\n",
       "      <td>0</td>\n",
       "      <td>NaN</td>\n",
       "      <td>&lt;NA&gt;</td>\n",
       "    </tr>\n",
       "    <tr>\n",
       "      <th>15</th>\n",
       "      <td>&lt;NA&gt;</td>\n",
       "      <td>1</td>\n",
       "      <td>0</td>\n",
       "      <td>0</td>\n",
       "      <td>NaN</td>\n",
       "      <td>&lt;NA&gt;</td>\n",
       "    </tr>\n",
       "    <tr>\n",
       "      <th>16</th>\n",
       "      <td>1</td>\n",
       "      <td>0</td>\n",
       "      <td>&lt;NA&gt;</td>\n",
       "      <td>0</td>\n",
       "      <td>NaN</td>\n",
       "      <td>&lt;NA&gt;</td>\n",
       "    </tr>\n",
       "    <tr>\n",
       "      <th>17</th>\n",
       "      <td>1</td>\n",
       "      <td>0</td>\n",
       "      <td>&lt;NA&gt;</td>\n",
       "      <td>0</td>\n",
       "      <td>will</td>\n",
       "      <td>True</td>\n",
       "    </tr>\n",
       "    <tr>\n",
       "      <th>18</th>\n",
       "      <td>&lt;NA&gt;</td>\n",
       "      <td>&lt;NA&gt;</td>\n",
       "      <td>&lt;NA&gt;</td>\n",
       "      <td>&lt;NA&gt;</td>\n",
       "      <td>NaN</td>\n",
       "      <td>&lt;NA&gt;</td>\n",
       "    </tr>\n",
       "    <tr>\n",
       "      <th>19</th>\n",
       "      <td>1</td>\n",
       "      <td>0</td>\n",
       "      <td>&lt;NA&gt;</td>\n",
       "      <td>0</td>\n",
       "      <td>ca</td>\n",
       "      <td>True</td>\n",
       "    </tr>\n",
       "  </tbody>\n",
       "</table>\n",
       "</div>"
      ],
      "text/plain": [
       "    ARGO  ARG1  ARG2   B-V B-ARGM-MOD  B-ARGM-NEG\n",
       "0   <NA>     0  <NA>     0        NaN        <NA>\n",
       "1   <NA>     0     0     0      would        <NA>\n",
       "2   <NA>     1  <NA>     0        NaN        <NA>\n",
       "3      0     1  <NA>     0        NaN        <NA>\n",
       "4   <NA>     0  <NA>     0        NaN        <NA>\n",
       "5      0     0  <NA>     0        NaN        <NA>\n",
       "6      0     0  <NA>     0        NaN        <NA>\n",
       "7      0  <NA>  <NA>     0       will        <NA>\n",
       "8      0     0  <NA>     0        NaN        <NA>\n",
       "9      0     1  <NA>     0        NaN        <NA>\n",
       "10     0     0  <NA>     0        NaN        <NA>\n",
       "11     1     0  <NA>     0        NaN        <NA>\n",
       "12  <NA>     0     1     0      would        <NA>\n",
       "13  <NA>     0  <NA>     0        NaN        <NA>\n",
       "14  <NA>     1  <NA>     0        NaN        <NA>\n",
       "15  <NA>     1     0     0        NaN        <NA>\n",
       "16     1     0  <NA>     0        NaN        <NA>\n",
       "17     1     0  <NA>     0       will        True\n",
       "18  <NA>  <NA>  <NA>  <NA>        NaN        <NA>\n",
       "19     1     0  <NA>     0         ca        True"
      ]
     },
     "execution_count": 30,
     "metadata": {},
     "output_type": "execute_result"
    }
   ],
   "source": [
    "cooc._df"
   ]
  },
  {
   "cell_type": "code",
   "execution_count": 31,
   "metadata": {},
   "outputs": [
    {
     "data": {
      "text/plain": [
       "{'ARG1', 'ARG2', 'ARGO', 'B-ARGM-MOD', 'B-ARGM-NEG', 'B-V'}"
      ]
     },
     "execution_count": 31,
     "metadata": {},
     "output_type": "execute_result"
    }
   ],
   "source": [
    "cooc.subset=None ## by convention None means take all roles\n",
    "cooc.subset"
   ]
  },
  {
   "cell_type": "code",
   "execution_count": 32,
   "metadata": {},
   "outputs": [
    {
     "data": {
      "text/plain": [
       "{}"
      ]
     },
     "execution_count": 32,
     "metadata": {},
     "output_type": "execute_result"
    }
   ],
   "source": [
    "cooc.narratives_counts"
   ]
  },
  {
   "cell_type": "code",
   "execution_count": 33,
   "metadata": {},
   "outputs": [
    {
     "data": {
      "text/plain": [
       "{}"
      ]
     },
     "execution_count": 33,
     "metadata": {},
     "output_type": "execute_result"
    }
   ],
   "source": [
    "cooc.narratives_pmi"
   ]
  },
  {
   "cell_type": "code",
   "execution_count": 34,
   "metadata": {},
   "outputs": [
    {
     "data": {
      "text/plain": [
       "{('president', 'ratio', ('apply', 'will', True)): 1,\n",
       " ('president', 'ratio', ('apply', 'ca', True)): 1}"
      ]
     },
     "execution_count": 34,
     "metadata": {},
     "output_type": "execute_result"
    }
   ],
   "source": [
    "cooc.subset={\"ARGO\",\"ARG1\",\"B-V\",\"B-ARGM-MOD\",\"B-ARGM-NEG\"}\n",
    "cooc.narratives_counts"
   ]
  },
  {
   "cell_type": "code",
   "execution_count": 35,
   "metadata": {},
   "outputs": [
    {
     "data": {
      "text/plain": [
       "{('president', 'ratio', ('apply', 'will', True)): -1.3862943611198906,\n",
       " ('president', 'ratio', ('apply', 'ca', True)): -1.3862943611198906}"
      ]
     },
     "execution_count": 35,
     "metadata": {},
     "output_type": "execute_result"
    }
   ],
   "source": [
    "cooc.narratives_pmi"
   ]
  },
  {
   "cell_type": "code",
   "execution_count": 36,
   "metadata": {},
   "outputs": [
    {
     "data": {
      "text/plain": [
       "{('you', 'ratio', 'apply'): 4,\n",
       " ('president', 'ratio', 'apply'): 4,\n",
       " ('you', 'tokenization', 'apply'): 2}"
      ]
     },
     "execution_count": 36,
     "metadata": {},
     "output_type": "execute_result"
    }
   ],
   "source": [
    "cooc.subset={\"ARGO\",\"ARG1\",\"B-V\"}\n",
    "cooc.narratives_counts"
   ]
  },
  {
   "cell_type": "code",
   "execution_count": 37,
   "metadata": {},
   "outputs": [
    {
     "data": {
      "text/plain": [
       "{('you', 'ratio', 'apply'): -4.787491742782046,\n",
       " ('president', 'ratio', 'apply'): -4.382026634673881,\n",
       " ('you', 'tokenization', 'apply'): -4.0943445622221}"
      ]
     },
     "execution_count": 37,
     "metadata": {},
     "output_type": "execute_result"
    }
   ],
   "source": [
    "cooc.narratives_pmi"
   ]
  }
 ],
 "metadata": {
  "kernelspec": {
   "display_name": "Python 3",
   "language": "python",
   "name": "python3"
  },
  "language_info": {
   "codemirror_mode": {
    "name": "ipython",
    "version": 3
   },
   "file_extension": ".py",
   "mimetype": "text/x-python",
   "name": "python",
   "nbconvert_exporter": "python",
   "pygments_lexer": "ipython3",
   "version": "3.7.6"
  }
 },
 "nbformat": 4,
 "nbformat_minor": 4
}
